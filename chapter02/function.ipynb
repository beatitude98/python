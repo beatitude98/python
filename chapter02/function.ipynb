{
 "cells": [
  {
   "cell_type": "code",
   "execution_count": 8,
   "id": "initial_id",
   "metadata": {
    "collapsed": true,
    "ExecuteTime": {
     "end_time": "2023-09-13T03:25:01.099291376Z",
     "start_time": "2023-09-13T03:25:01.045263516Z"
    }
   },
   "outputs": [
    {
     "name": "stdout",
     "output_type": "stream",
     "text": [
      "5050\n"
     ]
    }
   ],
   "source": [
    "def sum_list(num):\n",
    "    sum = 0\n",
    "    for i in range(0, num + 1):\n",
    "        sum += i\n",
    "    return sum\n",
    "\n",
    "print(sum_list(100))"
   ]
  },
  {
   "cell_type": "code",
   "execution_count": 2,
   "outputs": [
    {
     "name": "stdout",
     "output_type": "stream",
     "text": [
      "[1, 2, 3, 4, 5, 6, 7, 8, 9, 10]\n"
     ]
    }
   ],
   "source": [
    "list_2 = [i for i in range(1,11)]\n",
    "print(list_2)"
   ],
   "metadata": {
    "collapsed": false,
    "ExecuteTime": {
     "end_time": "2023-09-13T03:20:29.138545570Z",
     "start_time": "2023-09-13T03:20:29.104851698Z"
    }
   },
   "id": "690b93392dc3be49"
  },
  {
   "cell_type": "code",
   "execution_count": 15,
   "outputs": [
    {
     "name": "stdout",
     "output_type": "stream",
     "text": [
      "[1, 2, 3, 4, 5, 6, 7, 8, 9, 10, 11, 12, 13, 14, 15, 16, 17, 18, 19, 20, 21, 22, 23, 24, 25, 26, 27, 28, 29, 30, 31, 32, 33, 34, 35, 36, 37, 38, 39, 40, 41, 42, 43, 44, 45]\n",
      "55\n",
      "5500\n"
     ]
    }
   ],
   "source": [
    "lottos = []\n",
    "for i in range(1, 46):\n",
    "    lottos.append(i)\n",
    "print(lottos)\n",
    "list_2 = [i for i in range(1, 11)]\n",
    "# 리스트의 모든 수를 더하고 결과를 반환하는 함수를 정의하고,\n",
    "#그 결과의 100배를 출력하시오\n",
    "\n",
    "def sum_list_r(l):\n",
    "    sum = 0\n",
    "    for i in l:\n",
    "        sum += i\n",
    "    return sum\n",
    "print(sum_list_r(list_2))\n",
    "print(sum_list_r(list_2) * 100)"
   ],
   "metadata": {
    "collapsed": false,
    "ExecuteTime": {
     "end_time": "2023-09-13T03:32:37.932254482Z",
     "start_time": "2023-09-13T03:32:37.889057139Z"
    }
   },
   "id": "30681fa3ee35f68d"
  },
  {
   "cell_type": "code",
   "execution_count": 29,
   "outputs": [
    {
     "ename": "ValueError",
     "evalue": "invalid literal for int() with base 10: ''",
     "output_type": "error",
     "traceback": [
      "\u001B[0;31m---------------------------------------------------------------------------\u001B[0m",
      "\u001B[0;31mValueError\u001B[0m                                Traceback (most recent call last)",
      "Cell \u001B[0;32mIn[29], line 9\u001B[0m\n\u001B[1;32m      6\u001B[0m             \u001B[38;5;28;01mreturn\u001B[39;00m \u001B[38;5;28;01mFalse\u001B[39;00m\n\u001B[1;32m      7\u001B[0m     \u001B[38;5;28;01mreturn\u001B[39;00m \u001B[38;5;28;01mTrue\u001B[39;00m\n\u001B[0;32m----> 9\u001B[0m number \u001B[38;5;241m=\u001B[39m \u001B[38;5;28;43mint\u001B[39;49m\u001B[43m(\u001B[49m\u001B[38;5;28;43minput\u001B[39;49m\u001B[43m(\u001B[49m\u001B[38;5;124;43m'\u001B[39;49m\u001B[38;5;124;43m판별할 자연수를 입력하세요: \u001B[39;49m\u001B[38;5;124;43m'\u001B[39;49m\u001B[43m)\u001B[49m\u001B[43m)\u001B[49m\n\u001B[1;32m     10\u001B[0m \u001B[38;5;28mprint\u001B[39m(check_prime_number(number))\n",
      "\u001B[0;31mValueError\u001B[0m: invalid literal for int() with base 10: ''"
     ]
    }
   ],
   "source": [
    "# 소수 판별기\n",
    "# 소수 :1보다 큰 자연수 중에서 1과 자기 자신을 제외한 자연수로 나누어 떨어지지 않는 수\n",
    "def check_prime_number(x):\n",
    "    for i in range(2,x):\n",
    "        if x % i == 0:\n",
    "            return False\n",
    "    return True\n",
    "    \n",
    "number = int(input('판별할 자연수를 입력하세요: '))\n",
    "print(check_prime_number(number))\n",
    "\n",
    "def check_prime_number(x):\n",
    "    if x <= 1:\n",
    "        return False\n",
    "    if x <= 3:\n",
    "        return True\n",
    "\n",
    "    if x % 2 == 0 or x % 3 == 0:\n",
    "        return False\n",
    "\n",
    "    i = 5\n",
    "    while i * i <= x:\n",
    "        if x % i == 0 or x % (i + 2) == 0:\n",
    "            return False\n",
    "        i += 6\n",
    "\n",
    "    return True"
   ],
   "metadata": {
    "collapsed": false,
    "ExecuteTime": {
     "end_time": "2023-09-13T03:48:11.617296918Z",
     "start_time": "2023-09-13T03:47:38.038120775Z"
    }
   },
   "id": "b669c6c29fdfd4b1"
  },
  {
   "cell_type": "code",
   "execution_count": 1,
   "outputs": [
    {
     "name": "stdout",
     "output_type": "stream",
     "text": [
      "30000000\n",
      "4828069.529999994\n"
     ]
    }
   ],
   "source": [
    "#은행 예금 이자 계산기 함수\n",
    "\n",
    "def interest_year(p,r,n): #3000천 0.051 , 3년 # p'=p*(1+r)의 n승\n",
    "#2\n",
    "    return p*(1+r)**n\n",
    "#3 함수의입력으로 사용\n",
    "p=30000000\n",
    "r=0.051\n",
    "n=3\n",
    "#4  출력문 작성\n",
    "result = interest_year(p,r,n)\n",
    "\n",
    "print(f'원금: {p:,}원, 이자: {result-p:,.0f}원')\n",
    "print(p) #원금\n",
    "print(p*(1+r)**n-p) #이"
   ],
   "metadata": {
    "collapsed": false,
    "ExecuteTime": {
     "end_time": "2023-09-14T00:22:52.466266903Z",
     "start_time": "2023-09-14T00:22:52.424536202Z"
    }
   },
   "id": "f9ee462b3d719573"
  },
  {
   "cell_type": "code",
   "execution_count": 3,
   "outputs": [],
   "source": [],
   "metadata": {
    "collapsed": false,
    "ExecuteTime": {
     "end_time": "2023-09-14T00:29:47.753917602Z",
     "start_time": "2023-09-14T00:29:47.746780730Z"
    }
   },
   "id": "7f0ec6b1594ffac3"
  },
  {
   "cell_type": "code",
   "execution_count": null,
   "outputs": [],
   "source": [],
   "metadata": {
    "collapsed": false
   },
   "id": "81d6b1ac0c141c0e"
  }
 ],
 "metadata": {
  "kernelspec": {
   "display_name": "Python 3",
   "language": "python",
   "name": "python3"
  },
  "language_info": {
   "codemirror_mode": {
    "name": "ipython",
    "version": 2
   },
   "file_extension": ".py",
   "mimetype": "text/x-python",
   "name": "python",
   "nbconvert_exporter": "python",
   "pygments_lexer": "ipython2",
   "version": "2.7.6"
  }
 },
 "nbformat": 4,
 "nbformat_minor": 5
}
