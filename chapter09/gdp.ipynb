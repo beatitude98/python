{
 "cells": [
  {
   "cell_type": "code",
   "execution_count": 3,
   "id": "initial_id",
   "metadata": {
    "collapsed": true,
    "ExecuteTime": {
     "end_time": "2023-10-05T01:42:02.965417776Z",
     "start_time": "2023-10-05T01:42:02.919671940Z"
    }
   },
   "outputs": [
    {
     "data": {
      "text/plain": "   Unnamed: 0   국가  GDP 성장률     인구수\n0           0   미국      0.9  334.00\n1           1   일본      0.6  125.00\n2           2   영국      0.4   67.53\n3           3  프랑스      0.5   67.65\n4           4   독일      1.1   83.16",
      "text/html": "<div>\n<style scoped>\n    .dataframe tbody tr th:only-of-type {\n        vertical-align: middle;\n    }\n\n    .dataframe tbody tr th {\n        vertical-align: top;\n    }\n\n    .dataframe thead th {\n        text-align: right;\n    }\n</style>\n<table border=\"1\" class=\"dataframe\">\n  <thead>\n    <tr style=\"text-align: right;\">\n      <th></th>\n      <th>Unnamed: 0</th>\n      <th>국가</th>\n      <th>GDP 성장률</th>\n      <th>인구수</th>\n    </tr>\n  </thead>\n  <tbody>\n    <tr>\n      <th>0</th>\n      <td>0</td>\n      <td>미국</td>\n      <td>0.9</td>\n      <td>334.00</td>\n    </tr>\n    <tr>\n      <th>1</th>\n      <td>1</td>\n      <td>일본</td>\n      <td>0.6</td>\n      <td>125.00</td>\n    </tr>\n    <tr>\n      <th>2</th>\n      <td>2</td>\n      <td>영국</td>\n      <td>0.4</td>\n      <td>67.53</td>\n    </tr>\n    <tr>\n      <th>3</th>\n      <td>3</td>\n      <td>프랑스</td>\n      <td>0.5</td>\n      <td>67.65</td>\n    </tr>\n    <tr>\n      <th>4</th>\n      <td>4</td>\n      <td>독일</td>\n      <td>1.1</td>\n      <td>83.16</td>\n    </tr>\n  </tbody>\n</table>\n</div>"
     },
     "execution_count": 3,
     "metadata": {},
     "output_type": "execute_result"
    }
   ],
   "source": [
    "import pandas as pd\n",
    "\n",
    "df = pd.read_csv('gdp.csv', encoding='utf-8')\n",
    "df.head()"
   ]
  },
  {
   "cell_type": "code",
   "execution_count": 7,
   "outputs": [
    {
     "data": {
      "text/plain": "    GDP 성장률      인구수\n0      0.90   334.00\n1      0.60   125.00\n2      0.40    67.53\n3      0.50    67.65\n4      1.10    83.16\n5      1.70    59.24\n6      3.90    38.44\n7      1.40    51.74\n8     -3.70   146.00\n9      2.90  1412.00\n10     6.30  1380.00\n11     5.01   273.00\n12     5.90    45.81\n13     3.60   213.00\n14     3.50   126.00\n15     5.90    25.77\n16     4.10    60.14\n17     5.40    34.11\n18     3.90    84.68\n19     1.90   343.00",
      "text/html": "<div>\n<style scoped>\n    .dataframe tbody tr th:only-of-type {\n        vertical-align: middle;\n    }\n\n    .dataframe tbody tr th {\n        vertical-align: top;\n    }\n\n    .dataframe thead th {\n        text-align: right;\n    }\n</style>\n<table border=\"1\" class=\"dataframe\">\n  <thead>\n    <tr style=\"text-align: right;\">\n      <th></th>\n      <th>GDP 성장률</th>\n      <th>인구수</th>\n    </tr>\n  </thead>\n  <tbody>\n    <tr>\n      <th>0</th>\n      <td>0.90</td>\n      <td>334.00</td>\n    </tr>\n    <tr>\n      <th>1</th>\n      <td>0.60</td>\n      <td>125.00</td>\n    </tr>\n    <tr>\n      <th>2</th>\n      <td>0.40</td>\n      <td>67.53</td>\n    </tr>\n    <tr>\n      <th>3</th>\n      <td>0.50</td>\n      <td>67.65</td>\n    </tr>\n    <tr>\n      <th>4</th>\n      <td>1.10</td>\n      <td>83.16</td>\n    </tr>\n    <tr>\n      <th>5</th>\n      <td>1.70</td>\n      <td>59.24</td>\n    </tr>\n    <tr>\n      <th>6</th>\n      <td>3.90</td>\n      <td>38.44</td>\n    </tr>\n    <tr>\n      <th>7</th>\n      <td>1.40</td>\n      <td>51.74</td>\n    </tr>\n    <tr>\n      <th>8</th>\n      <td>-3.70</td>\n      <td>146.00</td>\n    </tr>\n    <tr>\n      <th>9</th>\n      <td>2.90</td>\n      <td>1412.00</td>\n    </tr>\n    <tr>\n      <th>10</th>\n      <td>6.30</td>\n      <td>1380.00</td>\n    </tr>\n    <tr>\n      <th>11</th>\n      <td>5.01</td>\n      <td>273.00</td>\n    </tr>\n    <tr>\n      <th>12</th>\n      <td>5.90</td>\n      <td>45.81</td>\n    </tr>\n    <tr>\n      <th>13</th>\n      <td>3.60</td>\n      <td>213.00</td>\n    </tr>\n    <tr>\n      <th>14</th>\n      <td>3.50</td>\n      <td>126.00</td>\n    </tr>\n    <tr>\n      <th>15</th>\n      <td>5.90</td>\n      <td>25.77</td>\n    </tr>\n    <tr>\n      <th>16</th>\n      <td>4.10</td>\n      <td>60.14</td>\n    </tr>\n    <tr>\n      <th>17</th>\n      <td>5.40</td>\n      <td>34.11</td>\n    </tr>\n    <tr>\n      <th>18</th>\n      <td>3.90</td>\n      <td>84.68</td>\n    </tr>\n    <tr>\n      <th>19</th>\n      <td>1.90</td>\n      <td>343.00</td>\n    </tr>\n  </tbody>\n</table>\n</div>"
     },
     "execution_count": 7,
     "metadata": {},
     "output_type": "execute_result"
    }
   ],
   "source": [
    "df1 = df[['GDP 성장률','인구수']]\n",
    "df1"
   ],
   "metadata": {
    "collapsed": false,
    "ExecuteTime": {
     "end_time": "2023-10-05T01:44:15.271972239Z",
     "start_time": "2023-10-05T01:44:15.266860683Z"
    }
   },
   "id": "22ac3644446082e7"
  },
  {
   "cell_type": "code",
   "execution_count": 8,
   "outputs": [
    {
     "name": "stdout",
     "output_type": "stream",
     "text": [
      "          GDP 성장률       인구수\n",
      "GDP 성장률  1.000000  0.198924\n",
      "인구수      0.198924  1.000000\n",
      "          GDP 성장률       인구수\n",
      "GDP 성장률  1.000000 -0.196388\n",
      "인구수     -0.196388  1.000000\n",
      "          GDP 성장률       인구수\n",
      "GDP 성장률  1.000000 -0.137568\n",
      "인구수     -0.137568  1.000000\n"
     ]
    }
   ],
   "source": [
    "pearson_coef = df1.corr(method='pearson')\n",
    "print(pearson_coef)\n",
    "\n",
    "spearman_coef = df1.corr(method='spearman')\n",
    "print(spearman_coef)\n",
    "\n",
    "kendall_coef = df1.corr(method='kendall')\n",
    "print(kendall_coef)"
   ],
   "metadata": {
    "collapsed": false,
    "ExecuteTime": {
     "end_time": "2023-10-05T01:44:27.579723350Z",
     "start_time": "2023-10-05T01:44:27.245364116Z"
    }
   },
   "id": "6b0fcc2d73f04cbf"
  },
  {
   "cell_type": "code",
   "execution_count": 12,
   "outputs": [
    {
     "data": {
      "text/plain": "<matplotlib.collections.PathCollection at 0x7f657ca9cbb0>"
     },
     "execution_count": 12,
     "metadata": {},
     "output_type": "execute_result"
    },
    {
     "data": {
      "text/plain": "<Figure size 640x480 with 1 Axes>",
      "image/png": "[encoded data removed]"
     },
     "metadata": {},
     "output_type": "display_data"
    }
   ],
   "source": [
    "from matplotlib import pyplot as plt\n",
    "\n",
    "plt.scatter(df1['GDP 성장률'],df1['인구수'])"
   ],
   "metadata": {
    "collapsed": false,
    "ExecuteTime": {
     "end_time": "2023-10-05T01:48:35.487451725Z",
     "start_time": "2023-10-05T01:48:35.328056419Z"
    }
   },
   "id": "49b1a387ca49333"
  }
 ],
 "metadata": {
  "kernelspec": {
   "display_name": "Python 3",
   "language": "python",
   "name": "python3"
  },
  "language_info": {
   "codemirror_mode": {
    "name": "ipython",
    "version": 2
   },
   "file_extension": ".py",
   "mimetype": "text/x-python",
   "name": "python",
   "nbconvert_exporter": "python",
   "pygments_lexer": "ipython2",
   "version": "2.7.6"
  }
 },
 "nbformat": 4,
 "nbformat_minor": 5
}
