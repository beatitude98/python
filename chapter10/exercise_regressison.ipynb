{
 "cells": [
  {
   "cell_type": "raw",
   "source": [
    "\n",
    "\n"
   ],
   "metadata": {
    "collapsed": false
   },
   "id": "85098d48fe1bff69"
  },
  {
   "cell_type": "code",
   "execution_count": 2,
   "outputs": [
    {
     "data": {
      "text/plain": "    Unnamed: 0   price  size  age  kindergarten  elementarySchool  busStop  \\\n0            0  174000   152   19            22                10       13   \n1            1  156500   118   19            22                10       13   \n2            2  168000   118   19            22                10       13   \n3            3  145000    85   19            22                10       13   \n4            4  172500   118   19            22                10       13   \n..         ...     ...   ...  ...           ...               ...      ...   \n65          65  149000   128   11             4                12       29   \n66          66  100000    59   11             4                12       29   \n67          67  139500   128   11             4                12       29   \n68          68  160500   128   11             4                12       29   \n69          69  150000   115   11             4                12       29   \n\n    hospital  mart  \n0         19    19  \n1         19    19  \n2         19    19  \n3         19    19  \n4         19    19  \n..       ...   ...  \n65        14    14  \n66        14    14  \n67        14    14  \n68        14    14  \n69        14    14  \n\n[70 rows x 9 columns]",
      "text/html": "<div>\n<style scoped>\n    .dataframe tbody tr th:only-of-type {\n        vertical-align: middle;\n    }\n\n    .dataframe tbody tr th {\n        vertical-align: top;\n    }\n\n    .dataframe thead th {\n        text-align: right;\n    }\n</style>\n<table border=\"1\" class=\"dataframe\">\n  <thead>\n    <tr style=\"text-align: right;\">\n      <th></th>\n      <th>Unnamed: 0</th>\n      <th>price</th>\n      <th>size</th>\n      <th>age</th>\n      <th>kindergarten</th>\n      <th>elementarySchool</th>\n      <th>busStop</th>\n      <th>hospital</th>\n      <th>mart</th>\n    </tr>\n  </thead>\n  <tbody>\n    <tr>\n      <th>0</th>\n      <td>0</td>\n      <td>174000</td>\n      <td>152</td>\n      <td>19</td>\n      <td>22</td>\n      <td>10</td>\n      <td>13</td>\n      <td>19</td>\n      <td>19</td>\n    </tr>\n    <tr>\n      <th>1</th>\n      <td>1</td>\n      <td>156500</td>\n      <td>118</td>\n      <td>19</td>\n      <td>22</td>\n      <td>10</td>\n      <td>13</td>\n      <td>19</td>\n      <td>19</td>\n    </tr>\n    <tr>\n      <th>2</th>\n      <td>2</td>\n      <td>168000</td>\n      <td>118</td>\n      <td>19</td>\n      <td>22</td>\n      <td>10</td>\n      <td>13</td>\n      <td>19</td>\n      <td>19</td>\n    </tr>\n    <tr>\n      <th>3</th>\n      <td>3</td>\n      <td>145000</td>\n      <td>85</td>\n      <td>19</td>\n      <td>22</td>\n      <td>10</td>\n      <td>13</td>\n      <td>19</td>\n      <td>19</td>\n    </tr>\n    <tr>\n      <th>4</th>\n      <td>4</td>\n      <td>172500</td>\n      <td>118</td>\n      <td>19</td>\n      <td>22</td>\n      <td>10</td>\n      <td>13</td>\n      <td>19</td>\n      <td>19</td>\n    </tr>\n    <tr>\n      <th>...</th>\n      <td>...</td>\n      <td>...</td>\n      <td>...</td>\n      <td>...</td>\n      <td>...</td>\n      <td>...</td>\n      <td>...</td>\n      <td>...</td>\n      <td>...</td>\n    </tr>\n    <tr>\n      <th>65</th>\n      <td>65</td>\n      <td>149000</td>\n      <td>128</td>\n      <td>11</td>\n      <td>4</td>\n      <td>12</td>\n      <td>29</td>\n      <td>14</td>\n      <td>14</td>\n    </tr>\n    <tr>\n      <th>66</th>\n      <td>66</td>\n      <td>100000</td>\n      <td>59</td>\n      <td>11</td>\n      <td>4</td>\n      <td>12</td>\n      <td>29</td>\n      <td>14</td>\n      <td>14</td>\n    </tr>\n    <tr>\n      <th>67</th>\n      <td>67</td>\n      <td>139500</td>\n      <td>128</td>\n      <td>11</td>\n      <td>4</td>\n      <td>12</td>\n      <td>29</td>\n      <td>14</td>\n      <td>14</td>\n    </tr>\n    <tr>\n      <th>68</th>\n      <td>68</td>\n      <td>160500</td>\n      <td>128</td>\n      <td>11</td>\n      <td>4</td>\n      <td>12</td>\n      <td>29</td>\n      <td>14</td>\n      <td>14</td>\n    </tr>\n    <tr>\n      <th>69</th>\n      <td>69</td>\n      <td>150000</td>\n      <td>115</td>\n      <td>11</td>\n      <td>4</td>\n      <td>12</td>\n      <td>29</td>\n      <td>14</td>\n      <td>14</td>\n    </tr>\n  </tbody>\n</table>\n<p>70 rows × 9 columns</p>\n</div>"
     },
     "execution_count": 2,
     "metadata": {},
     "output_type": "execute_result"
    }
   ],
   "source": [
    "import pandas as pd\n",
    "from statsmodels.formula.api import ols\n",
    "\n",
    "df = pd.read_csv('logistic.csv', encoding='utf-8')\n",
    "df"
   ],
   "metadata": {
    "collapsed": false,
    "ExecuteTime": {
     "end_time": "2023-10-06T01:08:33.797661724Z",
     "start_time": "2023-10-06T01:08:33.721570654Z"
    }
   },
   "id": "2d5f076989aee8eb"
  },
  {
   "cell_type": "code",
   "execution_count": 4,
   "outputs": [
    {
     "name": "stdout",
     "output_type": "stream",
     "text": [
      "                            OLS Regression Results                            \n",
      "==============================================================================\n",
      "Dep. Variable:                  price   R-squared:                       0.876\n",
      "Model:                            OLS   Adj. R-squared:                  0.862\n",
      "Method:                 Least Squares   F-statistic:                     62.45\n",
      "Date:                Fri, 06 Oct 2023   Prob (F-statistic):           1.11e-25\n",
      "Time:                        10:09:26   Log-Likelihood:                -734.71\n",
      "No. Observations:                  70   AIC:                             1485.\n",
      "Df Residuals:                      62   BIC:                             1503.\n",
      "Df Model:                           7                                         \n",
      "Covariance Type:            nonrobust                                         \n",
      "====================================================================================\n",
      "                       coef    std err          t      P>|t|      [0.025      0.975]\n",
      "------------------------------------------------------------------------------------\n",
      "Intercept         1.169e+05   1.23e+05      0.948      0.347    -1.3e+05    3.64e+05\n",
      "size               534.9026     43.081     12.416      0.000     448.785     621.021\n",
      "age              -1460.9677   1754.535     -0.833      0.408   -4968.233    2046.298\n",
      "kindergarten      1927.0880    591.638      3.257      0.002     744.421    3109.755\n",
      "elementarySchool -1599.1185   3858.456     -0.414      0.680   -9312.062    6113.825\n",
      "busStop            -13.2131    730.790     -0.018      0.986   -1474.042    1447.616\n",
      "hospital           737.2488    891.948      0.827      0.412   -1045.730    2520.227\n",
      "mart             -1372.4907   3583.901     -0.383      0.703   -8536.606    5791.625\n",
      "==============================================================================\n",
      "Omnibus:                        4.208   Durbin-Watson:                   2.150\n",
      "Prob(Omnibus):                  0.122   Jarque-Bera (JB):                3.332\n",
      "Skew:                          -0.446   Prob(JB):                        0.189\n",
      "Kurtosis:                       3.589   Cond. No.                     1.17e+04\n",
      "==============================================================================\n",
      "\n",
      "Notes:\n",
      "[1] Standard Errors assume that the covariance matrix of the errors is correctly specified.\n",
      "[2] The condition number is large, 1.17e+04. This might indicate that there are\n",
      "strong multicollinearity or other numerical problems.\n"
     ]
    }
   ],
   "source": [
    "fit = ols('price ~ size + age + kindergarten + elementarySchool + busStop + hospital + mart', data=df).fit()\n",
    "print(fit.summary())"
   ],
   "metadata": {
    "collapsed": false,
    "ExecuteTime": {
     "end_time": "2023-10-06T01:09:26.719667992Z",
     "start_time": "2023-10-06T01:09:26.616246644Z"
    }
   },
   "id": "ea7b26aaec272bac"
  },
  {
   "cell_type": "code",
   "execution_count": null,
   "outputs": [],
   "source": [
    "# price = 116900 + (534.9206 * size) + ( 1927.0880 * kindergarten) + e(오차)\n",
    "\n"
   ],
   "metadata": {
    "collapsed": false
   },
   "id": "f7c8312e004b8895"
  }
 ],
 "metadata": {
  "kernelspec": {
   "display_name": "Python 3",
   "language": "python",
   "name": "python3"
  },
  "language_info": {
   "codemirror_mode": {
    "name": "ipython",
    "version": 2
   },
   "file_extension": ".py",
   "mimetype": "text/x-python",
   "name": "python",
   "nbconvert_exporter": "python",
   "pygments_lexer": "ipython2",
   "version": "2.7.6"
  }
 },
 "nbformat": 4,
 "nbformat_minor": 5
}
