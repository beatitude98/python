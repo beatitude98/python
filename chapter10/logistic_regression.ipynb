{
 "cells": [
  {
   "cell_type": "code",
   "execution_count": 8,
   "id": "initial_id",
   "metadata": {
    "collapsed": true,
    "ExecuteTime": {
     "end_time": "2023-10-06T00:23:41.685073496Z",
     "start_time": "2023-10-06T00:23:41.619448786Z"
    }
   },
   "outputs": [
    {
     "data": {
      "text/plain": "    sales  price\n0       1   1500\n1       1   2000\n2       1   5000\n3       1   3000\n4       1   3500\n5       1   2500\n6       1   4000\n7       1   4500\n8       1   3000\n9       0   4500\n10      0   4000\n11      0   4500\n12      0   5500\n13      0   6500\n14      0   5000\n15      0   3500\n16      0   7000",
      "text/html": "<div>\n<style scoped>\n    .dataframe tbody tr th:only-of-type {\n        vertical-align: middle;\n    }\n\n    .dataframe tbody tr th {\n        vertical-align: top;\n    }\n\n    .dataframe thead th {\n        text-align: right;\n    }\n</style>\n<table border=\"1\" class=\"dataframe\">\n  <thead>\n    <tr style=\"text-align: right;\">\n      <th></th>\n      <th>sales</th>\n      <th>price</th>\n    </tr>\n  </thead>\n  <tbody>\n    <tr>\n      <th>0</th>\n      <td>1</td>\n      <td>1500</td>\n    </tr>\n    <tr>\n      <th>1</th>\n      <td>1</td>\n      <td>2000</td>\n    </tr>\n    <tr>\n      <th>2</th>\n      <td>1</td>\n      <td>5000</td>\n    </tr>\n    <tr>\n      <th>3</th>\n      <td>1</td>\n      <td>3000</td>\n    </tr>\n    <tr>\n      <th>4</th>\n      <td>1</td>\n      <td>3500</td>\n    </tr>\n    <tr>\n      <th>5</th>\n      <td>1</td>\n      <td>2500</td>\n    </tr>\n    <tr>\n      <th>6</th>\n      <td>1</td>\n      <td>4000</td>\n    </tr>\n    <tr>\n      <th>7</th>\n      <td>1</td>\n      <td>4500</td>\n    </tr>\n    <tr>\n      <th>8</th>\n      <td>1</td>\n      <td>3000</td>\n    </tr>\n    <tr>\n      <th>9</th>\n      <td>0</td>\n      <td>4500</td>\n    </tr>\n    <tr>\n      <th>10</th>\n      <td>0</td>\n      <td>4000</td>\n    </tr>\n    <tr>\n      <th>11</th>\n      <td>0</td>\n      <td>4500</td>\n    </tr>\n    <tr>\n      <th>12</th>\n      <td>0</td>\n      <td>5500</td>\n    </tr>\n    <tr>\n      <th>13</th>\n      <td>0</td>\n      <td>6500</td>\n    </tr>\n    <tr>\n      <th>14</th>\n      <td>0</td>\n      <td>5000</td>\n    </tr>\n    <tr>\n      <th>15</th>\n      <td>0</td>\n      <td>3500</td>\n    </tr>\n    <tr>\n      <th>16</th>\n      <td>0</td>\n      <td>7000</td>\n    </tr>\n  </tbody>\n</table>\n</div>"
     },
     "execution_count": 8,
     "metadata": {},
     "output_type": "execute_result"
    }
   ],
   "source": [
    "import statsmodels.api as sm\n",
    "import pandas as pd\n",
    "\n",
    "sales = [1,1,1,1,1,1,1,1,1,0,0,0,0,0,0,0,0]\n",
    "price = [1500, 2000, 5000, 3000, 3500, 2500, 4000, 4500, 3000, 4500, 4000, 4500, 5500, 6500, 5000, 3500, 7000]\n",
    "\n",
    "data = {'sales': sales , 'price' : price}\n",
    "df = pd.DataFrame(data)\n",
    "df"
   ]
  },
  {
   "cell_type": "code",
   "execution_count": 9,
   "outputs": [
    {
     "name": "stdout",
     "output_type": "stream",
     "text": [
      "Optimization terminated successfully.\n",
      "         Current function value: 0.430873\n",
      "         Iterations 7\n",
      "                           Logit Regression Results                           \n",
      "==============================================================================\n",
      "Dep. Variable:                  sales   No. Observations:                   17\n",
      "Model:                          Logit   Df Residuals:                       15\n",
      "Method:                           MLE   Df Model:                            1\n",
      "Date:                Fri, 06 Oct 2023   Pseudo R-squ.:                  0.3768\n",
      "Time:                        09:51:22   Log-Likelihood:                -7.3248\n",
      "converged:                       True   LL-Null:                       -11.754\n",
      "Covariance Type:            nonrobust   LLR p-value:                  0.002917\n",
      "==============================================================================\n",
      "                 coef    std err          z      P>|z|      [0.025      0.975]\n",
      "------------------------------------------------------------------------------\n",
      "Intercept      6.5752      3.300      1.993      0.046       0.108      13.042\n",
      "price         -0.0016      0.001     -2.008      0.045      -0.003   -3.75e-05\n",
      "==============================================================================\n"
     ]
    }
   ],
   "source": [
    "logis = sm.Logit.from_formula('sales ~ price', data=df).fit()\n",
    "print(logis.summary())"
   ],
   "metadata": {
    "collapsed": false,
    "ExecuteTime": {
     "end_time": "2023-10-06T00:51:22.955363891Z",
     "start_time": "2023-10-06T00:51:22.907828985Z"
    }
   },
   "id": "4c642bdc27d7112b"
  },
  {
   "cell_type": "code",
   "execution_count": 10,
   "outputs": [
    {
     "name": "stdout",
     "output_type": "stream",
     "text": [
      "Intercept    6.575158\n",
      "price       -0.001569\n",
      "dtype: float64\n"
     ]
    }
   ],
   "source": [
    "print(logis.params)"
   ],
   "metadata": {
    "collapsed": false,
    "ExecuteTime": {
     "end_time": "2023-10-06T00:51:25.254492277Z",
     "start_time": "2023-10-06T00:51:25.230618632Z"
    }
   },
   "id": "3a8cc805d66c1b6c"
  },
  {
   "cell_type": "code",
   "execution_count": 11,
   "outputs": [
    {
     "name": "stdout",
     "output_type": "stream",
     "text": [
      "Intercept    717.058841\n",
      "price          0.998433\n",
      "dtype: float64\n"
     ]
    }
   ],
   "source": [
    "import numpy as np\n",
    "\n",
    "print(np.exp(logis.params))"
   ],
   "metadata": {
    "collapsed": false,
    "ExecuteTime": {
     "end_time": "2023-10-06T00:51:26.546036723Z",
     "start_time": "2023-10-06T00:51:26.532725023Z"
    }
   },
   "id": "1b209627361ef479"
  },
  {
   "cell_type": "code",
   "execution_count": 12,
   "outputs": [
    {
     "data": {
      "text/plain": "     survived  pclass     sex   age  sibsp  parch     fare embarked   class  \\\n0           0       3    male  22.0      1      0   7.2500        S   Third   \n1           1       1  female  38.0      1      0  71.2833        C   First   \n2           1       3  female  26.0      0      0   7.9250        S   Third   \n3           1       1  female  35.0      1      0  53.1000        S   First   \n4           0       3    male  35.0      0      0   8.0500        S   Third   \n..        ...     ...     ...   ...    ...    ...      ...      ...     ...   \n886         0       2    male  27.0      0      0  13.0000        S  Second   \n887         1       1  female  19.0      0      0  30.0000        S   First   \n888         0       3  female   NaN      1      2  23.4500        S   Third   \n889         1       1    male  26.0      0      0  30.0000        C   First   \n890         0       3    male  32.0      0      0   7.7500        Q   Third   \n\n       who  adult_male deck  embark_town alive  alone  \n0      man        True  NaN  Southampton    no  False  \n1    woman       False    C    Cherbourg   yes  False  \n2    woman       False  NaN  Southampton   yes   True  \n3    woman       False    C  Southampton   yes  False  \n4      man        True  NaN  Southampton    no   True  \n..     ...         ...  ...          ...   ...    ...  \n886    man        True  NaN  Southampton    no   True  \n887  woman       False    B  Southampton   yes   True  \n888  woman       False  NaN  Southampton    no  False  \n889    man        True    C    Cherbourg   yes   True  \n890    man        True  NaN   Queenstown    no   True  \n\n[891 rows x 15 columns]",
      "text/html": "<div>\n<style scoped>\n    .dataframe tbody tr th:only-of-type {\n        vertical-align: middle;\n    }\n\n    .dataframe tbody tr th {\n        vertical-align: top;\n    }\n\n    .dataframe thead th {\n        text-align: right;\n    }\n</style>\n<table border=\"1\" class=\"dataframe\">\n  <thead>\n    <tr style=\"text-align: right;\">\n      <th></th>\n      <th>survived</th>\n      <th>pclass</th>\n      <th>sex</th>\n      <th>age</th>\n      <th>sibsp</th>\n      <th>parch</th>\n      <th>fare</th>\n      <th>embarked</th>\n      <th>class</th>\n      <th>who</th>\n      <th>adult_male</th>\n      <th>deck</th>\n      <th>embark_town</th>\n      <th>alive</th>\n      <th>alone</th>\n    </tr>\n  </thead>\n  <tbody>\n    <tr>\n      <th>0</th>\n      <td>0</td>\n      <td>3</td>\n      <td>male</td>\n      <td>22.0</td>\n      <td>1</td>\n      <td>0</td>\n      <td>7.2500</td>\n      <td>S</td>\n      <td>Third</td>\n      <td>man</td>\n      <td>True</td>\n      <td>NaN</td>\n      <td>Southampton</td>\n      <td>no</td>\n      <td>False</td>\n    </tr>\n    <tr>\n      <th>1</th>\n      <td>1</td>\n      <td>1</td>\n      <td>female</td>\n      <td>38.0</td>\n      <td>1</td>\n      <td>0</td>\n      <td>71.2833</td>\n      <td>C</td>\n      <td>First</td>\n      <td>woman</td>\n      <td>False</td>\n      <td>C</td>\n      <td>Cherbourg</td>\n      <td>yes</td>\n      <td>False</td>\n    </tr>\n    <tr>\n      <th>2</th>\n      <td>1</td>\n      <td>3</td>\n      <td>female</td>\n      <td>26.0</td>\n      <td>0</td>\n      <td>0</td>\n      <td>7.9250</td>\n      <td>S</td>\n      <td>Third</td>\n      <td>woman</td>\n      <td>False</td>\n      <td>NaN</td>\n      <td>Southampton</td>\n      <td>yes</td>\n      <td>True</td>\n    </tr>\n    <tr>\n      <th>3</th>\n      <td>1</td>\n      <td>1</td>\n      <td>female</td>\n      <td>35.0</td>\n      <td>1</td>\n      <td>0</td>\n      <td>53.1000</td>\n      <td>S</td>\n      <td>First</td>\n      <td>woman</td>\n      <td>False</td>\n      <td>C</td>\n      <td>Southampton</td>\n      <td>yes</td>\n      <td>False</td>\n    </tr>\n    <tr>\n      <th>4</th>\n      <td>0</td>\n      <td>3</td>\n      <td>male</td>\n      <td>35.0</td>\n      <td>0</td>\n      <td>0</td>\n      <td>8.0500</td>\n      <td>S</td>\n      <td>Third</td>\n      <td>man</td>\n      <td>True</td>\n      <td>NaN</td>\n      <td>Southampton</td>\n      <td>no</td>\n      <td>True</td>\n    </tr>\n    <tr>\n      <th>...</th>\n      <td>...</td>\n      <td>...</td>\n      <td>...</td>\n      <td>...</td>\n      <td>...</td>\n      <td>...</td>\n      <td>...</td>\n      <td>...</td>\n      <td>...</td>\n      <td>...</td>\n      <td>...</td>\n      <td>...</td>\n      <td>...</td>\n      <td>...</td>\n      <td>...</td>\n    </tr>\n    <tr>\n      <th>886</th>\n      <td>0</td>\n      <td>2</td>\n      <td>male</td>\n      <td>27.0</td>\n      <td>0</td>\n      <td>0</td>\n      <td>13.0000</td>\n      <td>S</td>\n      <td>Second</td>\n      <td>man</td>\n      <td>True</td>\n      <td>NaN</td>\n      <td>Southampton</td>\n      <td>no</td>\n      <td>True</td>\n    </tr>\n    <tr>\n      <th>887</th>\n      <td>1</td>\n      <td>1</td>\n      <td>female</td>\n      <td>19.0</td>\n      <td>0</td>\n      <td>0</td>\n      <td>30.0000</td>\n      <td>S</td>\n      <td>First</td>\n      <td>woman</td>\n      <td>False</td>\n      <td>B</td>\n      <td>Southampton</td>\n      <td>yes</td>\n      <td>True</td>\n    </tr>\n    <tr>\n      <th>888</th>\n      <td>0</td>\n      <td>3</td>\n      <td>female</td>\n      <td>NaN</td>\n      <td>1</td>\n      <td>2</td>\n      <td>23.4500</td>\n      <td>S</td>\n      <td>Third</td>\n      <td>woman</td>\n      <td>False</td>\n      <td>NaN</td>\n      <td>Southampton</td>\n      <td>no</td>\n      <td>False</td>\n    </tr>\n    <tr>\n      <th>889</th>\n      <td>1</td>\n      <td>1</td>\n      <td>male</td>\n      <td>26.0</td>\n      <td>0</td>\n      <td>0</td>\n      <td>30.0000</td>\n      <td>C</td>\n      <td>First</td>\n      <td>man</td>\n      <td>True</td>\n      <td>C</td>\n      <td>Cherbourg</td>\n      <td>yes</td>\n      <td>True</td>\n    </tr>\n    <tr>\n      <th>890</th>\n      <td>0</td>\n      <td>3</td>\n      <td>male</td>\n      <td>32.0</td>\n      <td>0</td>\n      <td>0</td>\n      <td>7.7500</td>\n      <td>Q</td>\n      <td>Third</td>\n      <td>man</td>\n      <td>True</td>\n      <td>NaN</td>\n      <td>Queenstown</td>\n      <td>no</td>\n      <td>True</td>\n    </tr>\n  </tbody>\n</table>\n<p>891 rows × 15 columns</p>\n</div>"
     },
     "execution_count": 12,
     "metadata": {},
     "output_type": "execute_result"
    }
   ],
   "source": [
    "import seaborn as sns\n",
    "\n",
    "titanic = sns.load_dataset('titanic')\n",
    "titanic"
   ],
   "metadata": {
    "collapsed": false,
    "ExecuteTime": {
     "end_time": "2023-10-06T00:51:29.033804800Z",
     "start_time": "2023-10-06T00:51:27.739408234Z"
    }
   },
   "id": "fb4b43e0eed4fc6e"
  },
  {
   "cell_type": "code",
   "execution_count": 13,
   "outputs": [
    {
     "name": "stdout",
     "output_type": "stream",
     "text": [
      "Optimization terminated successfully.\n",
      "         Current function value: 0.445244\n",
      "         Iterations 6\n",
      "                           Logit Regression Results                           \n",
      "==============================================================================\n",
      "Dep. Variable:               survived   No. Observations:                  714\n",
      "Model:                          Logit   Df Residuals:                      707\n",
      "Method:                           MLE   Df Model:                            6\n",
      "Date:                Fri, 06 Oct 2023   Pseudo R-squ.:                  0.3408\n",
      "Time:                        09:51:30   Log-Likelihood:                -317.90\n",
      "converged:                       True   LL-Null:                       -482.26\n",
      "Covariance Type:            nonrobust   LLR p-value:                 5.727e-68\n",
      "===============================================================================\n",
      "                  coef    std err          z      P>|z|      [0.025      0.975]\n",
      "-------------------------------------------------------------------------------\n",
      "Intercept       5.3890      0.604      8.926      0.000       4.206       6.572\n",
      "sex[T.male]    -2.6348      0.220    -11.998      0.000      -3.065      -2.204\n",
      "pclass         -1.2422      0.163     -7.612      0.000      -1.562      -0.922\n",
      "age            -0.0440      0.008     -5.374      0.000      -0.060      -0.028\n",
      "sibsp          -0.3758      0.127     -2.950      0.003      -0.625      -0.126\n",
      "parch          -0.0619      0.123     -0.504      0.614      -0.303       0.179\n",
      "fare            0.0022      0.002      0.866      0.386      -0.003       0.007\n",
      "===============================================================================\n"
     ]
    }
   ],
   "source": [
    "titanic_logis = sm.Logit.from_formula('survived ~ pclass + sex + age +sibsp + parch + fare ',data=titanic).fit()\n",
    "print(titanic_logis.summary())"
   ],
   "metadata": {
    "collapsed": false,
    "ExecuteTime": {
     "end_time": "2023-10-06T00:51:30.398036778Z",
     "start_time": "2023-10-06T00:51:30.357943128Z"
    }
   },
   "id": "ca3e5ffe334a96c1"
  }
 ],
 "metadata": {
  "kernelspec": {
   "display_name": "Python 3",
   "language": "python",
   "name": "python3"
  },
  "language_info": {
   "codemirror_mode": {
    "name": "ipython",
    "version": 2
   },
   "file_extension": ".py",
   "mimetype": "text/x-python",
   "name": "python",
   "nbconvert_exporter": "python",
   "pygments_lexer": "ipython2",
   "version": "2.7.6"
  }
 },
 "nbformat": 4,
 "nbformat_minor": 5
}
