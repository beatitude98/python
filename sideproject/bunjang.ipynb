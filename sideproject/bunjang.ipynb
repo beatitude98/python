{
 "cells": [
  {
   "cell_type": "code",
   "execution_count": 64,
   "id": "initial_id",
   "metadata": {
    "collapsed": true,
    "ExecuteTime": {
     "end_time": "2023-10-25T09:19:03.023371028Z",
     "start_time": "2023-10-25T09:18:49.677127599Z"
    }
   },
   "outputs": [],
   "source": [
    "import time\n",
    "from selenium import webdriver\n",
    "from selenium.webdriver.common.keys import Keys\n",
    "from selenium.webdriver.common.by import By\n",
    "from selenium.webdriver.support.ui import WebDriverWait\n",
    "from selenium.webdriver.support import expected_conditions as EC\n",
    "\n",
    "\n",
    "url = \"https://m.bunjang.co.kr/\"\n",
    "\n",
    "driver = webdriver.Chrome()\n",
    "\n",
    "driver.get(url)\n",
    "\n",
    "time.sleep(3)\n",
    "\n",
    "search_box = driver.find_element('xpath','//*[@id=\"root\"]/div/div/div[2]/div[1]/div[1]/div[1]/div[1]/input')\n",
    "\n",
    "time.sleep(2)\n",
    "search_box.send_keys('크리드')\n",
    "\n",
    "time.sleep(2)\n",
    "search_box.send_keys(Keys.RETURN)\n",
    "time.sleep(2)\n"
   ]
  },
  {
   "cell_type": "code",
   "execution_count": 63,
   "outputs": [
    {
     "name": "stdout",
     "output_type": "stream",
     "text": [
      " 상품명 : 크리드 어벤투스 50ml, 상품가격 : 160,000\n",
      " 상품명 : PS3 어쌔신 크리드2 팝니다, 상품가격 : 7,000\n",
      " 상품명 : 크리드 실버마운틴 워터 100미리 공병 팝니다, 상품가격 : 40,000\n",
      " 상품명 : 가격내림 ps5 타이틀 팔아요 언제든 연락주세요 어쌔신 크리드 발할라, 상품가격 : 20,000\n"
     ]
    },
    {
     "ename": "NoSuchElementException",
     "evalue": "Message: no such element: Unable to locate element: {\"method\":\"css selector\",\"selector\":\".sc-RcBXQ\"}\n  (Session info: chrome=118.0.5993.88); For documentation on this error, please visit: https://www.selenium.dev/documentation/webdriver/troubleshooting/errors#no-such-element-exception\nStacktrace:\n#0 0x56495e005fb3 <unknown>\n#1 0x56495dcd94a7 <unknown>\n#2 0x56495dd20dd6 <unknown>\n#3 0x56495dd20ec1 <unknown>\n#4 0x56495dd168a6 <unknown>\n#5 0x56495dd4296d <unknown>\n#6 0x56495dd16776 <unknown>\n#7 0x56495dd42b0e <unknown>\n#8 0x56495dd5bc02 <unknown>\n#9 0x56495dd42713 <unknown>\n#10 0x56495dd1518b <unknown>\n#11 0x56495dd15f7e <unknown>\n#12 0x56495dfcb8d8 <unknown>\n#13 0x56495dfcf800 <unknown>\n#14 0x56495dfd9cfc <unknown>\n#15 0x56495dfd0418 <unknown>\n#16 0x56495df9d42f <unknown>\n#17 0x56495dff44e8 <unknown>\n#18 0x56495dff46b4 <unknown>\n#19 0x56495e005143 <unknown>\n#20 0x7f2070b80b43 <unknown>\n",
     "output_type": "error",
     "traceback": [
      "\u001B[0;31m---------------------------------------------------------------------------\u001B[0m",
      "\u001B[0;31mNoSuchElementException\u001B[0m                    Traceback (most recent call last)",
      "Cell \u001B[0;32mIn[63], line 8\u001B[0m\n\u001B[1;32m      6\u001B[0m all_products \u001B[38;5;241m=\u001B[39m driver\u001B[38;5;241m.\u001B[39mfind_elements(By\u001B[38;5;241m.\u001B[39mCLASS_NAME, \u001B[38;5;124m\"\u001B[39m\u001B[38;5;124msc-cTjmhe\u001B[39m\u001B[38;5;124m\"\u001B[39m)\n\u001B[1;32m      7\u001B[0m \u001B[38;5;28;01mfor\u001B[39;00m element \u001B[38;5;129;01min\u001B[39;00m all_products:\n\u001B[0;32m----> 8\u001B[0m     product_name \u001B[38;5;241m=\u001B[39m \u001B[43melement\u001B[49m\u001B[38;5;241;43m.\u001B[39;49m\u001B[43mfind_element\u001B[49m\u001B[43m(\u001B[49m\u001B[43mBy\u001B[49m\u001B[38;5;241;43m.\u001B[39;49m\u001B[43mCLASS_NAME\u001B[49m\u001B[43m,\u001B[49m\u001B[43m \u001B[49m\u001B[38;5;124;43m\"\u001B[39;49m\u001B[38;5;124;43msc-RcBXQ\u001B[39;49m\u001B[38;5;124;43m\"\u001B[39;49m\u001B[43m)\u001B[49m\u001B[38;5;241m.\u001B[39mtext\n\u001B[1;32m      9\u001B[0m     product_price \u001B[38;5;241m=\u001B[39m element\u001B[38;5;241m.\u001B[39mfind_element(By\u001B[38;5;241m.\u001B[39mCLASS_NAME, \u001B[38;5;124m\"\u001B[39m\u001B[38;5;124msc-iSDuPN\u001B[39m\u001B[38;5;124m\"\u001B[39m)\u001B[38;5;241m.\u001B[39mtext\n\u001B[1;32m     10\u001B[0m     \u001B[38;5;28mprint\u001B[39m(\u001B[38;5;124mf\u001B[39m\u001B[38;5;124m'\u001B[39m\u001B[38;5;124m 상품명 : \u001B[39m\u001B[38;5;132;01m{\u001B[39;00mproduct_name\u001B[38;5;132;01m}\u001B[39;00m\u001B[38;5;124m, 상품가격 : \u001B[39m\u001B[38;5;132;01m{\u001B[39;00mproduct_price\u001B[38;5;132;01m}\u001B[39;00m\u001B[38;5;124m'\u001B[39m)\n",
      "File \u001B[0;32m~/PycharmProjects/BasicPython/venv/lib/python3.10/site-packages/selenium/webdriver/remote/webelement.py:416\u001B[0m, in \u001B[0;36mWebElement.find_element\u001B[0;34m(self, by, value)\u001B[0m\n\u001B[1;32m    413\u001B[0m     by \u001B[38;5;241m=\u001B[39m By\u001B[38;5;241m.\u001B[39mCSS_SELECTOR\n\u001B[1;32m    414\u001B[0m     value \u001B[38;5;241m=\u001B[39m \u001B[38;5;124mf\u001B[39m\u001B[38;5;124m'\u001B[39m\u001B[38;5;124m[name=\u001B[39m\u001B[38;5;124m\"\u001B[39m\u001B[38;5;132;01m{\u001B[39;00mvalue\u001B[38;5;132;01m}\u001B[39;00m\u001B[38;5;124m\"\u001B[39m\u001B[38;5;124m]\u001B[39m\u001B[38;5;124m'\u001B[39m\n\u001B[0;32m--> 416\u001B[0m \u001B[38;5;28;01mreturn\u001B[39;00m \u001B[38;5;28;43mself\u001B[39;49m\u001B[38;5;241;43m.\u001B[39;49m\u001B[43m_execute\u001B[49m\u001B[43m(\u001B[49m\u001B[43mCommand\u001B[49m\u001B[38;5;241;43m.\u001B[39;49m\u001B[43mFIND_CHILD_ELEMENT\u001B[49m\u001B[43m,\u001B[49m\u001B[43m \u001B[49m\u001B[43m{\u001B[49m\u001B[38;5;124;43m\"\u001B[39;49m\u001B[38;5;124;43musing\u001B[39;49m\u001B[38;5;124;43m\"\u001B[39;49m\u001B[43m:\u001B[49m\u001B[43m \u001B[49m\u001B[43mby\u001B[49m\u001B[43m,\u001B[49m\u001B[43m \u001B[49m\u001B[38;5;124;43m\"\u001B[39;49m\u001B[38;5;124;43mvalue\u001B[39;49m\u001B[38;5;124;43m\"\u001B[39;49m\u001B[43m:\u001B[49m\u001B[43m \u001B[49m\u001B[43mvalue\u001B[49m\u001B[43m}\u001B[49m\u001B[43m)\u001B[49m[\u001B[38;5;124m\"\u001B[39m\u001B[38;5;124mvalue\u001B[39m\u001B[38;5;124m\"\u001B[39m]\n",
      "File \u001B[0;32m~/PycharmProjects/BasicPython/venv/lib/python3.10/site-packages/selenium/webdriver/remote/webelement.py:394\u001B[0m, in \u001B[0;36mWebElement._execute\u001B[0;34m(self, command, params)\u001B[0m\n\u001B[1;32m    392\u001B[0m     params \u001B[38;5;241m=\u001B[39m {}\n\u001B[1;32m    393\u001B[0m params[\u001B[38;5;124m\"\u001B[39m\u001B[38;5;124mid\u001B[39m\u001B[38;5;124m\"\u001B[39m] \u001B[38;5;241m=\u001B[39m \u001B[38;5;28mself\u001B[39m\u001B[38;5;241m.\u001B[39m_id\n\u001B[0;32m--> 394\u001B[0m \u001B[38;5;28;01mreturn\u001B[39;00m \u001B[38;5;28;43mself\u001B[39;49m\u001B[38;5;241;43m.\u001B[39;49m\u001B[43m_parent\u001B[49m\u001B[38;5;241;43m.\u001B[39;49m\u001B[43mexecute\u001B[49m\u001B[43m(\u001B[49m\u001B[43mcommand\u001B[49m\u001B[43m,\u001B[49m\u001B[43m \u001B[49m\u001B[43mparams\u001B[49m\u001B[43m)\u001B[49m\n",
      "File \u001B[0;32m~/PycharmProjects/BasicPython/venv/lib/python3.10/site-packages/selenium/webdriver/remote/webdriver.py:344\u001B[0m, in \u001B[0;36mWebDriver.execute\u001B[0;34m(self, driver_command, params)\u001B[0m\n\u001B[1;32m    342\u001B[0m response \u001B[38;5;241m=\u001B[39m \u001B[38;5;28mself\u001B[39m\u001B[38;5;241m.\u001B[39mcommand_executor\u001B[38;5;241m.\u001B[39mexecute(driver_command, params)\n\u001B[1;32m    343\u001B[0m \u001B[38;5;28;01mif\u001B[39;00m response:\n\u001B[0;32m--> 344\u001B[0m     \u001B[38;5;28;43mself\u001B[39;49m\u001B[38;5;241;43m.\u001B[39;49m\u001B[43merror_handler\u001B[49m\u001B[38;5;241;43m.\u001B[39;49m\u001B[43mcheck_response\u001B[49m\u001B[43m(\u001B[49m\u001B[43mresponse\u001B[49m\u001B[43m)\u001B[49m\n\u001B[1;32m    345\u001B[0m     response[\u001B[38;5;124m\"\u001B[39m\u001B[38;5;124mvalue\u001B[39m\u001B[38;5;124m\"\u001B[39m] \u001B[38;5;241m=\u001B[39m \u001B[38;5;28mself\u001B[39m\u001B[38;5;241m.\u001B[39m_unwrap_value(response\u001B[38;5;241m.\u001B[39mget(\u001B[38;5;124m\"\u001B[39m\u001B[38;5;124mvalue\u001B[39m\u001B[38;5;124m\"\u001B[39m, \u001B[38;5;28;01mNone\u001B[39;00m))\n\u001B[1;32m    346\u001B[0m     \u001B[38;5;28;01mreturn\u001B[39;00m response\n",
      "File \u001B[0;32m~/PycharmProjects/BasicPython/venv/lib/python3.10/site-packages/selenium/webdriver/remote/errorhandler.py:229\u001B[0m, in \u001B[0;36mErrorHandler.check_response\u001B[0;34m(self, response)\u001B[0m\n\u001B[1;32m    227\u001B[0m         alert_text \u001B[38;5;241m=\u001B[39m value[\u001B[38;5;124m\"\u001B[39m\u001B[38;5;124malert\u001B[39m\u001B[38;5;124m\"\u001B[39m]\u001B[38;5;241m.\u001B[39mget(\u001B[38;5;124m\"\u001B[39m\u001B[38;5;124mtext\u001B[39m\u001B[38;5;124m\"\u001B[39m)\n\u001B[1;32m    228\u001B[0m     \u001B[38;5;28;01mraise\u001B[39;00m exception_class(message, screen, stacktrace, alert_text)  \u001B[38;5;66;03m# type: ignore[call-arg]  # mypy is not smart enough here\u001B[39;00m\n\u001B[0;32m--> 229\u001B[0m \u001B[38;5;28;01mraise\u001B[39;00m exception_class(message, screen, stacktrace)\n",
      "\u001B[0;31mNoSuchElementException\u001B[0m: Message: no such element: Unable to locate element: {\"method\":\"css selector\",\"selector\":\".sc-RcBXQ\"}\n  (Session info: chrome=118.0.5993.88); For documentation on this error, please visit: https://www.selenium.dev/documentation/webdriver/troubleshooting/errors#no-such-element-exception\nStacktrace:\n#0 0x56495e005fb3 <unknown>\n#1 0x56495dcd94a7 <unknown>\n#2 0x56495dd20dd6 <unknown>\n#3 0x56495dd20ec1 <unknown>\n#4 0x56495dd168a6 <unknown>\n#5 0x56495dd4296d <unknown>\n#6 0x56495dd16776 <unknown>\n#7 0x56495dd42b0e <unknown>\n#8 0x56495dd5bc02 <unknown>\n#9 0x56495dd42713 <unknown>\n#10 0x56495dd1518b <unknown>\n#11 0x56495dd15f7e <unknown>\n#12 0x56495dfcb8d8 <unknown>\n#13 0x56495dfcf800 <unknown>\n#14 0x56495dfd9cfc <unknown>\n#15 0x56495dfd0418 <unknown>\n#16 0x56495df9d42f <unknown>\n#17 0x56495dff44e8 <unknown>\n#18 0x56495dff46b4 <unknown>\n#19 0x56495e005143 <unknown>\n#20 0x7f2070b80b43 <unknown>\n"
     ]
    }
   ],
   "source": [
    "from urllib.request import urlopen\n",
    "from bs4 import BeautifulSoup\n",
    "\n",
    "results = []\n",
    "\n",
    "all_products = driver.find_elements(By.CLASS_NAME, \"sc-cTjmhe\")\n",
    "for element in all_products:\n",
    "    product_name = element.find_element(By.CLASS_NAME, \"sc-RcBXQ\").text\n",
    "    product_price = element.find_element(By.CLASS_NAME, \"sc-iSDuPN\").text\n",
    "    print(f' 상품명 : {product_name}, 상품가격 : {product_price}')\n",
    "    \n",
    "# for pageNo in range(1,10):\n",
    "#     bunjang_url = f\"https://m.bunjang.co.kr/search/products?order=score&page={pageNo}&q=%ED%81%AC%EB%A6%AC%EB%93%9C\"\n",
    "#     html = urlopen(bunjang_url)\n",
    "#     soup = BeautifulSoup(html, 'html.parser')\n",
    "#     \n",
    "#     # 전체 담고 있는 클래스명 : sc-eTpRJs ekyrKV = tbody // 상품 info가 들어있는 박스 하나하나: sc-dxZgTM xRBLa\n",
    "#     # 상품 클래스명 : sc-iBEsjs fqRSdX  //  상품 가격 클래스명 : sc-hzNEM bmEaky\n",
    "#     # sc-jKmXuR hQiBRl\n",
    "#     \n",
    "# allproducts = soup.find_all('div', class_='sc-cTjmhe')\n",
    "# print(allproducts)\n",
    "# for perfume in allproducts.find('div', class_='sc-dxZgTM xRBLa'):\n",
    "#     product_name = perfume.select_one('div', class_='sc-LKuAh fuGAmW')\n",
    "#     product_price = perfume.select_one('div', class_='sc-hzNEM bmEaky')\n",
    "\n",
    "# for perfume in allproducts:\n",
    "#     product_name = perfume.select_one('div.sc-LKuAh.fuGAmW')\n",
    "#     product_price = perfume.select_one('div.sc-hzNEM.bmEaky')\n",
    "#     if product_name:\n",
    "#         print(product_name.get_text())\n",
    "#     if product_price:\n",
    "#         print(product_price.get_text())\n",
    "\n",
    "# print(results)"
   ],
   "metadata": {
    "collapsed": false,
    "ExecuteTime": {
     "end_time": "2023-10-25T09:10:16.590530517Z",
     "start_time": "2023-10-25T09:10:16.227996086Z"
    }
   },
   "id": "ab1dfcdf5f11e8a1"
  },
  {
   "cell_type": "code",
   "execution_count": null,
   "outputs": [],
   "source": [],
   "metadata": {
    "collapsed": false
   },
   "id": "85c66e3805fd449d"
  }
 ],
 "metadata": {
  "kernelspec": {
   "display_name": "Python 3",
   "language": "python",
   "name": "python3"
  },
  "language_info": {
   "codemirror_mode": {
    "name": "ipython",
    "version": 2
   },
   "file_extension": ".py",
   "mimetype": "text/x-python",
   "name": "python",
   "nbconvert_exporter": "python",
   "pygments_lexer": "ipython2",
   "version": "2.7.6"
  }
 },
 "nbformat": 4,
 "nbformat_minor": 5
}
