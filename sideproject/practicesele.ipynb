{
 "cells": [
  {
   "cell_type": "code",
   "execution_count": null,
   "id": "initial_id",
   "metadata": {
    "collapsed": true
   },
   "outputs": [],
   "source": [
    "from urllib.request import urlopen\n",
    "from bs4 import BeautifulSoup\n",
    "\n",
    "results = []\n",
    "\n",
    "all_products = driver.find_elements(By.CLASS_NAME, \"sc-cTjmhe\")\n",
    "for element in all_products:\n",
    "    product_name = element.find_element(By.CLASS_NAME, \"sc-RcBXQ\").text\n",
    "    product_price = element.find_element(By.CLASS_NAME, \"sc-iSDuPN\").text\n",
    "    print(f'{product_name}: {product_price}')\n",
    "    \n",
    "# for pageNo in range(1,10):\n",
    "#     bunjang_url = f\"https://m.bunjang.co.kr/search/products?order=score&page={pageNo}&q=%ED%81%AC%EB%A6%AC%EB%93%9C\"\n",
    "#     html = urlopen(bunjang_url)\n",
    "#     soup = BeautifulSoup(html, 'html.parser')\n",
    "#     \n",
    "#     # 전체 담고 있는 클래스명 : sc-eTpRJs ekyrKV = tbody // 상품 info가 들어있는 박스 하나하나: sc-dxZgTM xRBLa\n",
    "#     # 상품 클래스명 : sc-iBEsjs fqRSdX  //  상품 가격 클래스명 : sc-hzNEM bmEaky\n",
    "#     # sc-jKmXuR hQiBRl\n",
    "#     \n",
    "# allproducts = soup.find_all('div', class_='sc-cTjmhe')\n",
    "# print(allproducts)\n",
    "# for perfume in allproducts.find('div', class_='sc-dxZgTM xRBLa'):\n",
    "#     product_name = perfume.select_one('div', class_='sc-LKuAh fuGAmW')\n",
    "#     product_price = perfume.select_one('div', class_='sc-hzNEM bmEaky')\n",
    "\n",
    "# for perfume in allproducts:\n",
    "#     product_name = perfume.select_one('div.sc-LKuAh.fuGAmW')\n",
    "#     product_price = perfume.select_one('div.sc-hzNEM.bmEaky')\n",
    "#     if product_name:\n",
    "#         print(product_name.get_text())\n",
    "#     if product_price:\n",
    "#         print(product_price.get_text())\n",
    "\n",
    "# print(results)"
   ]
  }
 ],
 "metadata": {
  "kernelspec": {
   "display_name": "Python 3",
   "language": "python",
   "name": "python3"
  },
  "language_info": {
   "codemirror_mode": {
    "name": "ipython",
    "version": 2
   },
   "file_extension": ".py",
   "mimetype": "text/x-python",
   "name": "python",
   "nbconvert_exporter": "python",
   "pygments_lexer": "ipython2",
   "version": "2.7.6"
  }
 },
 "nbformat": 4,
 "nbformat_minor": 5
}
