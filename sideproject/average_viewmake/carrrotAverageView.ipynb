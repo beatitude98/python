{
 "cells": [
  {
   "cell_type": "code",
   "execution_count": 6,
   "id": "initial_id",
   "metadata": {
    "collapsed": true,
    "ExecuteTime": {
     "end_time": "2023-10-27T06:59:05.667122100Z",
     "start_time": "2023-10-27T06:58:56.736050509Z"
    }
   },
   "outputs": [
    {
     "ename": "NoSuchElementException",
     "evalue": "Message: no such element: Unable to locate element: {\"method\":\"xpath\",\"selector\":\"//*[@id=\"result\"]/div[1]/div[2]\"}\n  (Session info: chrome=118.0.5993.88); For documentation on this error, please visit: https://www.selenium.dev/documentation/webdriver/troubleshooting/errors#no-such-element-exception\nStacktrace:\n#0 0x55b560f75fb3 <unknown>\n#1 0x55b560c494a7 <unknown>\n#2 0x55b560c90dd6 <unknown>\n#3 0x55b560c90ec1 <unknown>\n#4 0x55b560cce354 <unknown>\n#5 0x55b560cb296d <unknown>\n#6 0x55b560ccbc02 <unknown>\n#7 0x55b560cb2713 <unknown>\n#8 0x55b560c8518b <unknown>\n#9 0x55b560c85f7e <unknown>\n#10 0x55b560f3b8d8 <unknown>\n#11 0x55b560f3f800 <unknown>\n#12 0x55b560f49cfc <unknown>\n#13 0x55b560f40418 <unknown>\n#14 0x55b560f0d42f <unknown>\n#15 0x55b560f644e8 <unknown>\n#16 0x55b560f646b4 <unknown>\n#17 0x55b560f75143 <unknown>\n#18 0x7ff26d56cb43 <unknown>\n",
     "output_type": "error",
     "traceback": [
      "\u001B[0;31m---------------------------------------------------------------------------\u001B[0m",
      "\u001B[0;31mNoSuchElementException\u001B[0m                    Traceback (most recent call last)",
      "Cell \u001B[0;32mIn[6], line 31\u001B[0m\n\u001B[1;32m     26\u001B[0m search_box\u001B[38;5;241m.\u001B[39msend_keys(Keys\u001B[38;5;241m.\u001B[39mRETURN)\n\u001B[1;32m     29\u001B[0m driver\u001B[38;5;241m.\u001B[39mfullscreen_window()\n\u001B[0;32m---> 31\u001B[0m \u001B[43mdriver\u001B[49m\u001B[38;5;241;43m.\u001B[39;49m\u001B[43mfind_element\u001B[49m\u001B[43m(\u001B[49m\u001B[38;5;124;43m'\u001B[39;49m\u001B[38;5;124;43mxpath\u001B[39;49m\u001B[38;5;124;43m'\u001B[39;49m\u001B[43m,\u001B[49m\u001B[38;5;124;43m'\u001B[39;49m\u001B[38;5;124;43m//*[@id=\u001B[39;49m\u001B[38;5;124;43m\"\u001B[39;49m\u001B[38;5;124;43mresult\u001B[39;49m\u001B[38;5;124;43m\"\u001B[39;49m\u001B[38;5;124;43m]/div[1]/div[2]\u001B[39;49m\u001B[38;5;124;43m'\u001B[39;49m\u001B[43m)\u001B[49m\u001B[38;5;241m.\u001B[39mclick() \u001B[38;5;66;03m# 상품 더보기\u001B[39;00m\n\u001B[1;32m     33\u001B[0m product_list \u001B[38;5;241m=\u001B[39m WebDriverWait(driver, \u001B[38;5;241m10\u001B[39m)\u001B[38;5;241m.\u001B[39muntil(\n\u001B[1;32m     34\u001B[0m     EC\u001B[38;5;241m.\u001B[39mpresence_of_all_elements_located((By\u001B[38;5;241m.\u001B[39mCLASS_NAME, \u001B[38;5;124m\"\u001B[39m\u001B[38;5;124marticles-wrap\u001B[39m\u001B[38;5;124m\"\u001B[39m))\n\u001B[1;32m     35\u001B[0m )\n\u001B[1;32m     37\u001B[0m driver\u001B[38;5;241m.\u001B[39mfind_element(\u001B[38;5;124m'\u001B[39m\u001B[38;5;124mxpath\u001B[39m\u001B[38;5;124m'\u001B[39m,\u001B[38;5;124m'\u001B[39m\u001B[38;5;124m//*[@id=\u001B[39m\u001B[38;5;124m\"\u001B[39m\u001B[38;5;124mresult\u001B[39m\u001B[38;5;124m\"\u001B[39m\u001B[38;5;124m]/div[1]/div[2]\u001B[39m\u001B[38;5;124m'\u001B[39m)\u001B[38;5;241m.\u001B[39mclick()\n",
      "File \u001B[0;32m~/PycharmProjects/BasicPython/venv/lib/python3.10/site-packages/selenium/webdriver/remote/webdriver.py:738\u001B[0m, in \u001B[0;36mWebDriver.find_element\u001B[0;34m(self, by, value)\u001B[0m\n\u001B[1;32m    735\u001B[0m     by \u001B[38;5;241m=\u001B[39m By\u001B[38;5;241m.\u001B[39mCSS_SELECTOR\n\u001B[1;32m    736\u001B[0m     value \u001B[38;5;241m=\u001B[39m \u001B[38;5;124mf\u001B[39m\u001B[38;5;124m'\u001B[39m\u001B[38;5;124m[name=\u001B[39m\u001B[38;5;124m\"\u001B[39m\u001B[38;5;132;01m{\u001B[39;00mvalue\u001B[38;5;132;01m}\u001B[39;00m\u001B[38;5;124m\"\u001B[39m\u001B[38;5;124m]\u001B[39m\u001B[38;5;124m'\u001B[39m\n\u001B[0;32m--> 738\u001B[0m \u001B[38;5;28;01mreturn\u001B[39;00m \u001B[38;5;28;43mself\u001B[39;49m\u001B[38;5;241;43m.\u001B[39;49m\u001B[43mexecute\u001B[49m\u001B[43m(\u001B[49m\u001B[43mCommand\u001B[49m\u001B[38;5;241;43m.\u001B[39;49m\u001B[43mFIND_ELEMENT\u001B[49m\u001B[43m,\u001B[49m\u001B[43m \u001B[49m\u001B[43m{\u001B[49m\u001B[38;5;124;43m\"\u001B[39;49m\u001B[38;5;124;43musing\u001B[39;49m\u001B[38;5;124;43m\"\u001B[39;49m\u001B[43m:\u001B[49m\u001B[43m \u001B[49m\u001B[43mby\u001B[49m\u001B[43m,\u001B[49m\u001B[43m \u001B[49m\u001B[38;5;124;43m\"\u001B[39;49m\u001B[38;5;124;43mvalue\u001B[39;49m\u001B[38;5;124;43m\"\u001B[39;49m\u001B[43m:\u001B[49m\u001B[43m \u001B[49m\u001B[43mvalue\u001B[49m\u001B[43m}\u001B[49m\u001B[43m)\u001B[49m[\u001B[38;5;124m\"\u001B[39m\u001B[38;5;124mvalue\u001B[39m\u001B[38;5;124m\"\u001B[39m]\n",
      "File \u001B[0;32m~/PycharmProjects/BasicPython/venv/lib/python3.10/site-packages/selenium/webdriver/remote/webdriver.py:344\u001B[0m, in \u001B[0;36mWebDriver.execute\u001B[0;34m(self, driver_command, params)\u001B[0m\n\u001B[1;32m    342\u001B[0m response \u001B[38;5;241m=\u001B[39m \u001B[38;5;28mself\u001B[39m\u001B[38;5;241m.\u001B[39mcommand_executor\u001B[38;5;241m.\u001B[39mexecute(driver_command, params)\n\u001B[1;32m    343\u001B[0m \u001B[38;5;28;01mif\u001B[39;00m response:\n\u001B[0;32m--> 344\u001B[0m     \u001B[38;5;28;43mself\u001B[39;49m\u001B[38;5;241;43m.\u001B[39;49m\u001B[43merror_handler\u001B[49m\u001B[38;5;241;43m.\u001B[39;49m\u001B[43mcheck_response\u001B[49m\u001B[43m(\u001B[49m\u001B[43mresponse\u001B[49m\u001B[43m)\u001B[49m\n\u001B[1;32m    345\u001B[0m     response[\u001B[38;5;124m\"\u001B[39m\u001B[38;5;124mvalue\u001B[39m\u001B[38;5;124m\"\u001B[39m] \u001B[38;5;241m=\u001B[39m \u001B[38;5;28mself\u001B[39m\u001B[38;5;241m.\u001B[39m_unwrap_value(response\u001B[38;5;241m.\u001B[39mget(\u001B[38;5;124m\"\u001B[39m\u001B[38;5;124mvalue\u001B[39m\u001B[38;5;124m\"\u001B[39m, \u001B[38;5;28;01mNone\u001B[39;00m))\n\u001B[1;32m    346\u001B[0m     \u001B[38;5;28;01mreturn\u001B[39;00m response\n",
      "File \u001B[0;32m~/PycharmProjects/BasicPython/venv/lib/python3.10/site-packages/selenium/webdriver/remote/errorhandler.py:229\u001B[0m, in \u001B[0;36mErrorHandler.check_response\u001B[0;34m(self, response)\u001B[0m\n\u001B[1;32m    227\u001B[0m         alert_text \u001B[38;5;241m=\u001B[39m value[\u001B[38;5;124m\"\u001B[39m\u001B[38;5;124malert\u001B[39m\u001B[38;5;124m\"\u001B[39m]\u001B[38;5;241m.\u001B[39mget(\u001B[38;5;124m\"\u001B[39m\u001B[38;5;124mtext\u001B[39m\u001B[38;5;124m\"\u001B[39m)\n\u001B[1;32m    228\u001B[0m     \u001B[38;5;28;01mraise\u001B[39;00m exception_class(message, screen, stacktrace, alert_text)  \u001B[38;5;66;03m# type: ignore[call-arg]  # mypy is not smart enough here\u001B[39;00m\n\u001B[0;32m--> 229\u001B[0m \u001B[38;5;28;01mraise\u001B[39;00m exception_class(message, screen, stacktrace)\n",
      "\u001B[0;31mNoSuchElementException\u001B[0m: Message: no such element: Unable to locate element: {\"method\":\"xpath\",\"selector\":\"//*[@id=\"result\"]/div[1]/div[2]\"}\n  (Session info: chrome=118.0.5993.88); For documentation on this error, please visit: https://www.selenium.dev/documentation/webdriver/troubleshooting/errors#no-such-element-exception\nStacktrace:\n#0 0x55b560f75fb3 <unknown>\n#1 0x55b560c494a7 <unknown>\n#2 0x55b560c90dd6 <unknown>\n#3 0x55b560c90ec1 <unknown>\n#4 0x55b560cce354 <unknown>\n#5 0x55b560cb296d <unknown>\n#6 0x55b560ccbc02 <unknown>\n#7 0x55b560cb2713 <unknown>\n#8 0x55b560c8518b <unknown>\n#9 0x55b560c85f7e <unknown>\n#10 0x55b560f3b8d8 <unknown>\n#11 0x55b560f3f800 <unknown>\n#12 0x55b560f49cfc <unknown>\n#13 0x55b560f40418 <unknown>\n#14 0x55b560f0d42f <unknown>\n#15 0x55b560f644e8 <unknown>\n#16 0x55b560f646b4 <unknown>\n#17 0x55b560f75143 <unknown>\n#18 0x7ff26d56cb43 <unknown>\n"
     ]
    }
   ],
   "source": [
    "import time\n",
    "from selenium import webdriver\n",
    "from selenium.webdriver.common.by import By\n",
    "from selenium.webdriver.common.keys import Keys\n",
    "from selenium.webdriver.support.ui import WebDriverWait\n",
    "from selenium.webdriver.support import expected_conditions as EC\n",
    "\n",
    "search_product = input(\"검색할 상품명\")\n",
    "\n",
    "\n",
    "url = \"https://www.daangn.com/\"\n",
    "\n",
    "driver = webdriver.Chrome()\n",
    "driver.get(url)\n",
    "driver.fullscreen_window()\n",
    "\n",
    "\n",
    "\n",
    "search_box = WebDriverWait(driver, 10).until(\n",
    "    EC.presence_of_element_located((By.XPATH, '//*[@id=\"gnb-root\"]/div/div/div/div/span[1]/form/input'))\n",
    ")\n",
    "\n",
    "\n",
    "\n",
    "search_box.send_keys(search_product)\n",
    "search_box.send_keys(Keys.RETURN)\n",
    "\n",
    "\n",
    "driver.fullscreen_window()\n",
    "\n",
    "driver.find_element('xpath','//*[@id=\"result\"]/div[1]/div[2]').click() # 상품 더보기\n",
    "\n",
    "product_list = WebDriverWait(driver, 10).until(\n",
    "    EC.presence_of_all_elements_located((By.CLASS_NAME, \"articles-wrap\"))\n",
    ")\n",
    "\n",
    "driver.find_element('xpath','//*[@id=\"result\"]/div[1]/div[2]').click()\n",
    "driver.find_element('xpath','//*[@id=\"result\"]/div[1]/div[2]').click()\n",
    "driver.find_element('xpath','//*[@id=\"result\"]/div[1]/div[2]').click()\n",
    "driver.find_element('xpath','//*[@id=\"result\"]/div[1]/div[2]').click()\n",
    "driver.find_element('xpath','//*[@id=\"result\"]/div[1]/div[2]').click()\n",
    "driver.find_element('xpath','//*[@id=\"result\"]/div[1]/div[2]').click()\n",
    "driver.find_element('xpath','//*[@id=\"result\"]/div[1]/div[2]').click()\n",
    "\n",
    "total_price = 0\n",
    "products = []\n",
    "\n",
    "for i in range(1, 101):\n",
    "    name_xpath = f'//*[@id=\"flea-market-wrap\"]/article[{i}]/a/div[2]/div/span[1]'\n",
    "    price_xpath = f'//*[@id=\"flea-market-wrap\"]/article[{i}]/a/div[2]/p[2]'\n",
    "\n",
    "    try:\n",
    "        # 상품 이름\n",
    "        product_name = WebDriverWait(driver, 10).until(\n",
    "            EC.presence_of_element_located((By.XPATH, name_xpath))\n",
    "        ).text\n",
    "\n",
    "        # 상품 가격\n",
    "        product_price = WebDriverWait(driver, 10).until(\n",
    "            EC.presence_of_element_located((By.XPATH, price_xpath))\n",
    "        ).text\n",
    "        \n",
    "        product_price = int(product_price.replace(',', ''))  # 가격에서 , 제거\n",
    "        total_price += product_price\n",
    "\n",
    "        products.append((product_name, product_price))\n",
    "\n",
    "        print(f'상품명 {i}: {product_name}, 가격 : {product_price}')\n",
    "    except Exception as e:\n",
    "        print(f'상품 정보를 가져오는 데 실패했습니다. 오류 메시지: {e}')\n",
    "    if len(products) >= 100:\n",
    "        break\n",
    "\n",
    "# 크롤링된 상품 수에 따라 평균 가격을 계산합니다.\n",
    "if len(products) > 0:\n",
    "    average_price = total_price / len(products)\n",
    "    print(f'크리드 어벤투스 평균 가격: {average_price}')\n",
    "else:\n",
    "    print('상품을 찾지 못했습니다.')\n"
   ]
  }
 ],
 "metadata": {
  "kernelspec": {
   "display_name": "Python 3",
   "language": "python",
   "name": "python3"
  },
  "language_info": {
   "codemirror_mode": {
    "name": "ipython",
    "version": 2
   },
   "file_extension": ".py",
   "mimetype": "text/x-python",
   "name": "python",
   "nbconvert_exporter": "python",
   "pygments_lexer": "ipython2",
   "version": "2.7.6"
  }
 },
 "nbformat": 4,
 "nbformat_minor": 5
}
