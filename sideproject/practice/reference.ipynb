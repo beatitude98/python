{
 "cells": [
  {
   "cell_type": "code",
   "execution_count": null,
   "id": "initial_id",
   "metadata": {
    "collapsed": true
   },
   "outputs": [],
   "source": [
    "import time\n",
    "from selenium import webdriver\n",
    "from selenium.webdriver.common.by import By\n",
    "from selenium.webdriver.common.keys import Keys\n",
    "from transformers import TFAutoModelForSequenceClassification, AutoTokenizer\n",
    "import tensorflow as tf\n",
    "\n",
    "# 웹 드라이버 초기화\n",
    "url = \"https://www.melon.com/\"\n",
    "driver = webdriver.Chrome()\n",
    "driver.get(url)\n",
    "\n",
    "search_term = input(\"검색할 음악제목을 입력하세요(한국노래만, 19금 노래 제외)\")\n",
    "\n",
    "search_box = driver.find_element(By.XPATH, \"//[@id='top_search']\")\n",
    "search_box.send_keys(search_term)\n",
    "search_box.send_keys(Keys.RETURN)\n",
    "\n",
    "first_result = driver.find_element(By.XPATH, \"//[@id='frm_searchSong']/div/table/tbody/tr[1]/td[3]/div/div/a[1]/span\")\n",
    "first_result.click()\n",
    "\n",
    "# 가사 정보가 있는 요소 식별\n",
    "lyrics_element = driver.find_element(By.XPATH, \"//*[@id='d_video_summary']\")\n",
    "\n",
    "# 가사 텍스트 추출\n",
    "lyrics_text = lyrics_element.text\n",
    "print(lyrics_text)\n",
    "\n",
    "# KoBERT 모델 로드\n",
    "model_name = \"beomi/kcbert-base\"\n",
    "model = TFAutoModelForSequenceClassification.from_pretrained(model_name)\n",
    "tokenizer = AutoTokenizer.from_pretrained(model_name)\n",
    "\n",
    "# 가사 텍스트를 KoBERT 입력 형식에 맞게 토큰화\n",
    "inputs = tokenizer(lyrics_text, return_tensors='tf', padding=True, truncation=True)\n",
    "\n",
    "# 감정 분석을 수행\n",
    "with tf.device('CPU:0'):  # 또는 GPU를 지정할 수 있습니다.\n",
    "    logits = model(inputs).logits\n",
    "\n",
    "predicted_class = tf.argmax(logits, axis=1).numpy()[0]\n",
    "\n",
    "# 감정 클래스에 따라 결과 출력\n",
    "if predicted_class == 0:\n",
    "    print(\"부정적 감정\")\n",
    "elif predicted_class == 1:\n",
    "    print(\"중립적 감정\")\n",
    "else:\n",
    "    print(\"긍정적 감정\")\n",
    "\n",
    "# 웹 드라이버 종료\n",
    "driver.close()"
   ]
  }
 ],
 "metadata": {
  "kernelspec": {
   "display_name": "Python 3",
   "language": "python",
   "name": "python3"
  },
  "language_info": {
   "codemirror_mode": {
    "name": "ipython",
    "version": 2
   },
   "file_extension": ".py",
   "mimetype": "text/x-python",
   "name": "python",
   "nbconvert_exporter": "python",
   "pygments_lexer": "ipython2",
   "version": "2.7.6"
  }
 },
 "nbformat": 4,
 "nbformat_minor": 5
}
