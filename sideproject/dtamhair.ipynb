{
 "cells": [
  {
   "cell_type": "code",
   "execution_count": 4,
   "id": "initial_id",
   "metadata": {
    "collapsed": true,
    "ExecuteTime": {
     "end_time": "2023-10-23T02:49:24.810952436Z",
     "start_time": "2023-10-23T02:49:22.768365110Z"
    }
   },
   "outputs": [
    {
     "name": "stdout",
     "output_type": "stream",
     "text": [
      "[[None], [None], [None], [None], [None], [None], [None], [None], [None], [None], [None]]\n"
     ]
    }
   ],
   "source": [
    "from urllib.request import urlopen\n",
    "from bs4 import BeautifulSoup\n",
    "\n",
    "results = []\n",
    "\n",
    "for pageNo in range(1,12):\n",
    "    # dtam_url = f\"https://blog.naver.com/PostList.naver?from=postList&blogId=dtamhair&categoryNo=11&currentPage={pageNo}\"\n",
    "    dtam_url = f\"https://blog.naver.com/PostList.naver?blogId=dtamhair&skinType=&skinId=&from=menu&userSelectMenu=true\"\n",
    "    html = urlopen(dtam_url)\n",
    "    soup = BeautifulSoup(html, 'html.parser') #new bs4.BeautifulSoup();\n",
    "    # print(soup)\n",
    "    tbody= soup.find('tbody')\n",
    "    # hs = hairstyle\n",
    "    for hs in tbody.find_all('tr'):\n",
    "        td = hs.find_all('td')\n",
    "        hs_title = td[0].string\n",
    "        results.append([hs_title])\n",
    "        \n",
    "print(results)"
   ]
  }
 ],
 "metadata": {
  "kernelspec": {
   "display_name": "Python 3",
   "language": "python",
   "name": "python3"
  },
  "language_info": {
   "codemirror_mode": {
    "name": "ipython",
    "version": 2
   },
   "file_extension": ".py",
   "mimetype": "text/x-python",
   "name": "python",
   "nbconvert_exporter": "python",
   "pygments_lexer": "ipython2",
   "version": "2.7.6"
  }
 },
 "nbformat": 4,
 "nbformat_minor": 5
}
