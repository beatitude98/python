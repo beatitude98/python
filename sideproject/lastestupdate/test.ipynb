{
 "cells": [
  {
   "cell_type": "code",
   "execution_count": 12,
   "id": "initial_id",
   "metadata": {
    "collapsed": true,
    "ExecuteTime": {
     "end_time": "2023-10-27T09:24:58.138657182Z",
     "start_time": "2023-10-27T09:24:57.646129247Z"
    }
   },
   "outputs": [
    {
     "name": "stdout",
     "output_type": "stream",
     "text": [
      " * Serving Flask app '__main__'\n",
      " * Debug mode: on\n"
     ]
    },
    {
     "name": "stderr",
     "output_type": "stream",
     "text": [
      "\u001B[31m\u001B[1mWARNING: This is a development server. Do not use it in a production deployment. Use a production WSGI server instead.\u001B[0m\n",
      " * Running on http://127.0.0.1:5000\n",
      "\u001B[33mPress CTRL+C to quit\u001B[0m\n",
      " * Restarting with stat\n",
      "Traceback (most recent call last):\n",
      "  File \"/usr/lib/python3.10/runpy.py\", line 196, in _run_module_as_main\n",
      "    return _run_code(code, main_globals, None,\n",
      "  File \"/usr/lib/python3.10/runpy.py\", line 86, in _run_code\n",
      "    exec(code, run_globals)\n",
      "  File \"/home/pc32/PycharmProjects/BasicPython/venv/lib/python3.10/site-packages/ipykernel_launcher.py\", line 17, in <module>\n",
      "    app.launch_new_instance()\n",
      "  File \"/home/pc32/PycharmProjects/BasicPython/venv/lib/python3.10/site-packages/traitlets/config/application.py\", line 1042, in launch_instance\n",
      "    app.initialize(argv)\n",
      "  File \"/home/pc32/PycharmProjects/BasicPython/venv/lib/python3.10/site-packages/traitlets/config/application.py\", line 113, in inner\n",
      "    return method(app, *args, **kwargs)\n",
      "  File \"/home/pc32/PycharmProjects/BasicPython/venv/lib/python3.10/site-packages/ipykernel/kernelapp.py\", line 689, in initialize\n",
      "    self.init_sockets()\n",
      "  File \"/home/pc32/PycharmProjects/BasicPython/venv/lib/python3.10/site-packages/ipykernel/kernelapp.py\", line 328, in init_sockets\n",
      "    self.shell_port = self._bind_socket(self.shell_socket, self.shell_port)\n",
      "  File \"/home/pc32/PycharmProjects/BasicPython/venv/lib/python3.10/site-packages/ipykernel/kernelapp.py\", line 252, in _bind_socket\n",
      "    return self._try_bind_socket(s, port)\n",
      "  File \"/home/pc32/PycharmProjects/BasicPython/venv/lib/python3.10/site-packages/ipykernel/kernelapp.py\", line 228, in _try_bind_socket\n",
      "    s.bind(\"tcp://%s:%i\" % (self.ip, port))\n",
      "  File \"/home/pc32/PycharmProjects/BasicPython/venv/lib/python3.10/site-packages/zmq/sugar/socket.py\", line 302, in bind\n",
      "    super().bind(addr)\n",
      "  File \"zmq/backend/cython/socket.pyx\", line 564, in zmq.backend.cython.socket.Socket.bind\n",
      "  File \"zmq/backend/cython/checkrc.pxd\", line 28, in zmq.backend.cython.checkrc._check_rc\n",
      "zmq.error.ZMQError: Address already in use (addr='tcp://127.0.0.1:42301')\n"
     ]
    },
    {
     "ename": "SystemExit",
     "evalue": "1",
     "output_type": "error",
     "traceback": [
      "An exception has occurred, use %tb to see the full traceback.\n",
      "\u001B[0;31mSystemExit\u001B[0m\u001B[0;31m:\u001B[0m 1\n"
     ]
    }
   ],
   "source": [
    "import time\n",
    "from selenium import webdriver\n",
    "from selenium.webdriver.common.by import By\n",
    "from selenium.webdriver.common.keys import Keys\n",
    "from selenium.webdriver.support.ui import WebDriverWait\n",
    "from selenium.webdriver.support import expected_conditions as EC\n",
    "from flask import Flask, render_template\n",
    "\n",
    "app = Flask(__name__)\n",
    "\n",
    "@app.route('/')\n",
    "def show_average_price():\n",
    "    return render_template('average_price.html', average_price=average_price)\n",
    "\n",
    "if __name__ == '__main__':\n",
    "    app.run(debug=True)\n",
    "    \n",
    "\n",
    "    search_product = input(\"검색할 상품명\")\n",
    "    \n",
    "    url = \"https://m.bunjang.co.kr/\"\n",
    "    \n",
    "    driver = webdriver.Chrome()\n",
    "    driver.get(url)\n",
    "    driver.fullscreen_window()\n",
    "    \n",
    "    \n",
    "        \n",
    "    search_box = WebDriverWait(driver, 10).until(\n",
    "        EC.presence_of_element_located((By.XPATH, '//*[@id=\"root\"]/div/div/div[2]/div[1]/div[1]/div[1]/div[1]/input'))\n",
    "    )\n",
    "    \n",
    "    search_box.send_keys(search_product)\n",
    "    search_box.send_keys(Keys.RETURN)\n",
    "    \n",
    "    product_list = WebDriverWait(driver, 10).until(\n",
    "        EC.presence_of_all_elements_located((By.CLASS_NAME, \"sc-cTjmhe\"))\n",
    "    )\n",
    "    \n",
    "    total_price = 0\n",
    "    products = []\n",
    "    \n",
    "    for i in range(1, 101):\n",
    "        name_xpath = f'//*[@id=\"root\"]/div/div/div[4]/div/div[4]/div/div[{i}]/a/div[2]/div[1]'\n",
    "        price_xpath = f'//*[@id=\"root\"]/div/div/div[4]/div/div[4]/div/div[{i}]/a/div[2]/div[2]/div[1]'\n",
    "    \n",
    "        try:\n",
    "            product_name = WebDriverWait(driver, 10).until(\n",
    "                EC.presence_of_element_located((By.XPATH, name_xpath))\n",
    "            ).text\n",
    "    \n",
    "            product_price = WebDriverWait(driver, 10).until(\n",
    "                EC.presence_of_element_located((By.XPATH, price_xpath))\n",
    "            ).text\n",
    "            \n",
    "            \n",
    "            product_price = int(product_price.replace(',', ''))  # 가격에서 , 제거\n",
    "            total_price += product_price\n",
    "    \n",
    "            products.append((product_name, product_price))\n",
    "    \n",
    "            print(f'{i} : 상품명 : {product_name}, 가격 : {product_price}')\n",
    "        except Exception as e:\n",
    "            print(f'상품 정보를 가져오는 데 실패했습니다. 오류 메시지: {e}')\n",
    "        \n",
    "        if len(products) >= 100:\n",
    "            break\n",
    "    \n",
    "    # 크롤링된 상품 수에 따라 평균 가격을 계산합니다.\n",
    "    if len(products) > 0:\n",
    "        average_price = total_price / len(products)\n",
    "        print(f'크리드 어벤투스 평균 가격: {average_price}')\n",
    "    else:\n",
    "        print('상품을 찾지 못했습니다.')\n",
    "        \n",
    "        \n",
    "    # 브라우저를 닫습니다.\n",
    "    # driver.quit()"
   ]
  },
  {
   "cell_type": "code",
   "execution_count": null,
   "outputs": [],
   "source": [],
   "metadata": {
    "collapsed": false
   },
   "id": "ab8ccb82f7759c13"
  }
 ],
 "metadata": {
  "kernelspec": {
   "display_name": "Python 3",
   "language": "python",
   "name": "python3"
  },
  "language_info": {
   "codemirror_mode": {
    "name": "ipython",
    "version": 2
   },
   "file_extension": ".py",
   "mimetype": "text/x-python",
   "name": "python",
   "nbconvert_exporter": "python",
   "pygments_lexer": "ipython2",
   "version": "2.7.6"
  }
 },
 "nbformat": 4,
 "nbformat_minor": 5
}
