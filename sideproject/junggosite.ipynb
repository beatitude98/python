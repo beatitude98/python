{
 "cells": [
  {
   "cell_type": "code",
   "execution_count": 24,
   "id": "initial_id",
   "metadata": {
    "collapsed": true,
    "ExecuteTime": {
     "end_time": "2023-10-25T01:54:36.664360028Z",
     "start_time": "2023-10-25T01:54:36.143765990Z"
    }
   },
   "outputs": [
    {
     "ename": "AttributeError",
     "evalue": "ResultSet object has no attribute 'find'. You're probably treating a list of elements like a single element. Did you call find_all() when you meant to call find()?",
     "output_type": "error",
     "traceback": [
      "\u001B[0;31m---------------------------------------------------------------------------\u001B[0m",
      "\u001B[0;31mAttributeError\u001B[0m                            Traceback (most recent call last)",
      "Cell \u001B[0;32mIn[24], line 20\u001B[0m\n\u001B[1;32m     14\u001B[0m     \u001B[38;5;66;03m# 전체 담고 있는 클래스명 : sc-eTpRJs ekyrKV = tbody // 상품 info가 들어있는 박스 하나하나: sc-dxZgTM xRBLa\u001B[39;00m\n\u001B[1;32m     15\u001B[0m     \u001B[38;5;66;03m# 상품 클래스명 : sc-iBEsjs fqRSdX  //  상품 가격 클래스명 : sc-hzNEM bmEaky\u001B[39;00m\n\u001B[1;32m     16\u001B[0m     \u001B[38;5;66;03m# sc-jKmXuR hQiBRl\u001B[39;00m\n\u001B[1;32m     18\u001B[0m allproducts \u001B[38;5;241m=\u001B[39m soup\u001B[38;5;241m.\u001B[39mfind_all(\u001B[38;5;124m'\u001B[39m\u001B[38;5;124mdiv\u001B[39m\u001B[38;5;124m'\u001B[39m, class_\u001B[38;5;241m=\u001B[39m\u001B[38;5;124m'\u001B[39m\u001B[38;5;124msc-iBEsjs fqRSdX\u001B[39m\u001B[38;5;124m'\u001B[39m)\n\u001B[0;32m---> 20\u001B[0m \u001B[38;5;28;01mfor\u001B[39;00m perfume \u001B[38;5;129;01min\u001B[39;00m \u001B[43mallproducts\u001B[49m\u001B[38;5;241;43m.\u001B[39;49m\u001B[43mfind\u001B[49m(\u001B[38;5;124m'\u001B[39m\u001B[38;5;124mdiv\u001B[39m\u001B[38;5;124m'\u001B[39m, class_\u001B[38;5;241m=\u001B[39m\u001B[38;5;124m'\u001B[39m\u001B[38;5;124msc-dxZgTM xRBLa\u001B[39m\u001B[38;5;124m'\u001B[39m): \n\u001B[1;32m     21\u001B[0m         product_name \u001B[38;5;241m=\u001B[39m perfume\u001B[38;5;241m.\u001B[39mselect_one(\u001B[38;5;124m'\u001B[39m\u001B[38;5;124mdiv\u001B[39m\u001B[38;5;124m'\u001B[39m, class_\u001B[38;5;241m=\u001B[39m\u001B[38;5;124m'\u001B[39m\u001B[38;5;124msc-LKuAh fuGAmW\u001B[39m\u001B[38;5;124m'\u001B[39m)\n\u001B[1;32m     22\u001B[0m         \u001B[38;5;28mprint\u001B[39m(product_name)\n",
      "File \u001B[0;32m~/PycharmProjects/BasicPython/venv/lib/python3.10/site-packages/bs4/element.py:2428\u001B[0m, in \u001B[0;36mResultSet.__getattr__\u001B[0;34m(self, key)\u001B[0m\n\u001B[1;32m   2426\u001B[0m \u001B[38;5;28;01mdef\u001B[39;00m \u001B[38;5;21m__getattr__\u001B[39m(\u001B[38;5;28mself\u001B[39m, key):\n\u001B[1;32m   2427\u001B[0m \u001B[38;5;250m    \u001B[39m\u001B[38;5;124;03m\"\"\"Raise a helpful exception to explain a common code fix.\"\"\"\u001B[39;00m\n\u001B[0;32m-> 2428\u001B[0m     \u001B[38;5;28;01mraise\u001B[39;00m \u001B[38;5;167;01mAttributeError\u001B[39;00m(\n\u001B[1;32m   2429\u001B[0m         \u001B[38;5;124m\"\u001B[39m\u001B[38;5;124mResultSet object has no attribute \u001B[39m\u001B[38;5;124m'\u001B[39m\u001B[38;5;132;01m%s\u001B[39;00m\u001B[38;5;124m'\u001B[39m\u001B[38;5;124m. You\u001B[39m\u001B[38;5;124m'\u001B[39m\u001B[38;5;124mre probably treating a list of elements like a single element. Did you call find_all() when you meant to call find()?\u001B[39m\u001B[38;5;124m\"\u001B[39m \u001B[38;5;241m%\u001B[39m key\n\u001B[1;32m   2430\u001B[0m     )\n",
      "\u001B[0;31mAttributeError\u001B[0m: ResultSet object has no attribute 'find'. You're probably treating a list of elements like a single element. Did you call find_all() when you meant to call find()?"
     ]
    }
   ],
   "source": [
    "# https://m.bunjang.co.kr/search/products?order=score&page=2&q=%ED%81%AC%EB%A6%AC%EB%93%9C\n",
    "\n",
    "\n",
    "from urllib.request import urlopen\n",
    "from bs4 import BeautifulSoup\n",
    "\n",
    "results = []\n",
    "\n",
    "for pageNo in range(1,10):\n",
    "    bunjang_url = f\"https://m.bunjang.co.kr/search/products?order=score&page={pageNo}&q=%ED%81%AC%EB%A6%AC%EB%93%9C\"\n",
    "    html = urlopen(bunjang_url)\n",
    "    soup = BeautifulSoup(html, 'html.parser')\n",
    "    \n",
    "    # 전체 담고 있는 클래스명 : sc-eTpRJs ekyrKV = tbody // 상품 info가 들어있는 박스 하나하나: sc-dxZgTM xRBLa\n",
    "    # 상품 클래스명 : sc-iBEsjs fqRSdX  //  상품 가격 클래스명 : sc-hzNEM bmEaky\n",
    "    # sc-jKmXuR hQiBRl\n",
    "    \n",
    "allproducts = soup.find_all('div', class_='sc-iBEsjs fqRSdX')\n",
    "    \n",
    "for perfume in allproducts.find('div', class_='sc-dxZgTM xRBLa'):\n",
    "        product_name = perfume.select_one('div', class_='sc-LKuAh fuGAmW')\n"
   ]
  },
  {
   "cell_type": "code",
   "execution_count": null,
   "outputs": [],
   "source": [],
   "metadata": {
    "collapsed": false
   },
   "id": "e8d95855c3c1d42b"
  }
 ],
 "metadata": {
  "kernelspec": {
   "display_name": "Python 3",
   "language": "python",
   "name": "python3"
  },
  "language_info": {
   "codemirror_mode": {
    "name": "ipython",
    "version": 2
   },
   "file_extension": ".py",
   "mimetype": "text/x-python",
   "name": "python",
   "nbconvert_exporter": "python",
   "pygments_lexer": "ipython2",
   "version": "2.7.6"
  }
 },
 "nbformat": 4,
 "nbformat_minor": 5
}
