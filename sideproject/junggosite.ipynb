{
 "cells": [
  {
   "cell_type": "code",
   "execution_count": 17,
   "id": "initial_id",
   "metadata": {
    "collapsed": true,
    "ExecuteTime": {
     "end_time": "2023-10-23T03:42:05.445170167Z",
     "start_time": "2023-10-23T03:42:05.396292358Z"
    }
   },
   "outputs": [],
   "source": [
    "# https://m.bunjang.co.kr/search/products?order=score&page=2&q=%ED%81%AC%EB%A6%AC%EB%93%9C\n",
    "\n",
    "\n",
    "from urllib.request import urlopen\n",
    "from bs4 import BeautifulSoup\n",
    "\n",
    "results = []\n",
    "\n",
    "for pageNo in range(1,2):\n",
    "    bunjang_url = f\"https://m.bunjang.co.kr/search/products?order=score&page={pageNo}&q=%ED%81%AC%EB%A6%AC%EB%93%9C\"\n",
    "    html = urlopen(bunjang_url)\n",
    "    soup = BeautifulSoup(html, 'html.parser') #new bs4.BeautifulSoup();\n",
    "    # print(soup)\n",
    "    # class=\"sc-RcBXQ kWzERy\"\n",
    "    # tbody= soup.find()\n",
    "    \n",
    "     #클래스명\n",
    "    elements = soup.find_all(class_=\"sc-RcBXQ kWzERy\")\n",
    "\n",
    "    for element in elements:\n",
    "        name = element.get_text()  # 요소의 텍스트(이름)를 가져옵니다\n",
    "        results.append(name)\n",
    "\n",
    "for result in results:\n",
    "    print(results)\n",
    "    \n",
    "#     for store in tbody.find_all('tr'):\n",
    "#         td = store.find_all('td')\n",
    "#         store_sido = td[0].string\n",
    "#         store_name= td[1].string\n",
    "#         store_active = td[2].string\n",
    "#         store_address = td[3].string\n",
    "#         store_phone = td[5].string\n",
    "#         results.append([store_name]+[store_sido]+[store_address]+[store_phone]+[store_active])\n",
    "# \n",
    "# print(results)"
   ]
  }
 ],
 "metadata": {
  "kernelspec": {
   "display_name": "Python 3",
   "language": "python",
   "name": "python3"
  },
  "language_info": {
   "codemirror_mode": {
    "name": "ipython",
    "version": 2
   },
   "file_extension": ".py",
   "mimetype": "text/x-python",
   "name": "python",
   "nbconvert_exporter": "python",
   "pygments_lexer": "ipython2",
   "version": "2.7.6"
  }
 },
 "nbformat": 4,
 "nbformat_minor": 5
}
