{
 "cells": [
  {
   "cell_type": "code",
   "execution_count": null,
   "id": "initial_id",
   "metadata": {
    "collapsed": true
   },
   "outputs": [],
   "source": [
    "import time\n",
    "from selenium import webdriver\n",
    "from selenium.webdriver.common.keys import Keys\n",
    "from selenium.webdriver.common.by import By\n",
    "from selenium.webdriver.support.ui import WebDriverWait\n",
    "from selenium.webdriver.support import expected_conditions as EC\n",
    "from urllib.request import urlopen\n",
    "from bs4 import BeautifulSoup\n",
    "\n",
    "url = \"https://m.bunjang.co.kr/\"\n",
    "\n",
    "driver = webdriver.Chrome()\n",
    "driver.implicitly_wait(10)\n",
    "\n",
    "driver.get(url)\n",
    "\n",
    "\n",
    "search_box = driver.find_element('xpath','//*[@id=\"root\"]/div/div/div[2]/div[1]/div[1]/div[1]/div[1]/input')\n",
    "\n",
    "search_box.send_keys('크리드')\n",
    "\n",
    "search_box.send_keys(Keys.RETURN)\n",
    "\n",
    "\n",
    "results = []\n",
    "\n",
    "# nosuchelementexception 에러 해결 참고 블로그 https://zeuskwon-ds.tistory.com/67\n",
    "# 'list' object has no attribute 'text' 에러 해결 참고 블로그 https://world-insight-seeker.tistory.com/205\n",
    "# 'list' object has no attribute 'text' 에러 해결 참고 블로그 https://www.codeit.kr/community/questions/UXVlc3Rpb246NjBlNTQ5ZjEwN2Y2YzI0MzY1YmFkNThj \n",
    "\n",
    "all_products = driver.find_elements(By.CLASS_NAME, \"sc-cTjmhe.czqAjl\")\n",
    "for element in all_products:\n",
    "    product_name = element.find_element(By.CLASS_NAME, \"sc-RcBXQ.kWzERy\").text\n",
    "    # 이줄에서 elements를 하니 nosuch 에러는 사라졌으나 list객체에선 text를 못불러오기에 에러 발생\n",
    "    # 반복문으로 하나하나 실행하면 가능하다는 해결책있음\n",
    "    # 원인 : selenium은 보이는 화면만 크롤링하는 기능이라 다음 줄을 크롤링하려면 스크롤로 해당 페이지 내려서 또 다음줄에 대한 크롤링이 필요함.. ㅅ..ㅂ 이게 막혀서 7시간 했다..\n",
    "    product_price = element.find_element(By.CLASS_NAME, \"sc-iSDuPN.cPlkrx\").text\n",
    "    print(f' 상품명 : {product_name}, 상품가격 : {product_price}')\n",
    "    # print(f' 상품명 : {product_name}')\n",
    "\n"
   ]
  }
 ],
 "metadata": {
  "kernelspec": {
   "display_name": "Python 3",
   "language": "python",
   "name": "python3"
  },
  "language_info": {
   "codemirror_mode": {
    "name": "ipython",
    "version": 2
   },
   "file_extension": ".py",
   "mimetype": "text/x-python",
   "name": "python",
   "nbconvert_exporter": "python",
   "pygments_lexer": "ipython2",
   "version": "2.7.6"
  }
 },
 "nbformat": 4,
 "nbformat_minor": 5
}
