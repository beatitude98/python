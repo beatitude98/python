{
 "cells": [
  {
   "cell_type": "code",
   "execution_count": 1,
   "id": "initial_id",
   "metadata": {
    "collapsed": true,
    "ExecuteTime": {
     "end_time": "2023-10-24T00:33:57.780546399Z",
     "start_time": "2023-10-24T00:33:57.168719151Z"
    }
   },
   "outputs": [
    {
     "ename": "AttributeError",
     "evalue": "'NoneType' object has no attribute 'get'",
     "output_type": "error",
     "traceback": [
      "\u001B[0;31m---------------------------------------------------------------------------\u001B[0m",
      "\u001B[0;31mAttributeError\u001B[0m                            Traceback (most recent call last)",
      "Cell \u001B[0;32mIn[1], line 22\u001B[0m\n\u001B[1;32m     20\u001B[0m ol \u001B[38;5;241m=\u001B[39m soup\u001B[38;5;241m.\u001B[39mfind(\u001B[38;5;124m'\u001B[39m\u001B[38;5;124mol\u001B[39m\u001B[38;5;124m'\u001B[39m)\n\u001B[1;32m     21\u001B[0m \u001B[38;5;28;01mfor\u001B[39;00m movie \u001B[38;5;129;01min\u001B[39;00m ol\u001B[38;5;241m.\u001B[39mfind_all(\u001B[38;5;124m'\u001B[39m\u001B[38;5;124mli\u001B[39m\u001B[38;5;124m'\u001B[39m):\n\u001B[0;32m---> 22\u001B[0m     movetitle \u001B[38;5;241m=\u001B[39m \u001B[43mmovie\u001B[49m\u001B[38;5;241;43m.\u001B[39;49m\u001B[43mselect_one\u001B[49m\u001B[43m(\u001B[49m\u001B[38;5;124;43m'\u001B[39;49m\u001B[38;5;124;43m.item_poster .thumb_item .poster_movie .img_thumb\u001B[39;49m\u001B[38;5;124;43m'\u001B[39;49m\u001B[43m)\u001B[49m\u001B[38;5;241;43m.\u001B[39;49m\u001B[43mget\u001B[49m(\u001B[38;5;124m'\u001B[39m\u001B[38;5;124malt\u001B[39m\u001B[38;5;124m'\u001B[39m)\n\u001B[1;32m     23\u001B[0m     rank_num \u001B[38;5;241m=\u001B[39m movie\u001B[38;5;241m.\u001B[39mselect_one(\u001B[38;5;124m'\u001B[39m\u001B[38;5;124m.item_poster .thumb_item .poster_movie .rank_num\u001B[39m\u001B[38;5;124m'\u001B[39m)\u001B[38;5;241m.\u001B[39mstring\n\u001B[1;32m     24\u001B[0m     \u001B[38;5;66;03m# movie_link = movie.select_one('.item_poster .thumb_item .poster_info .link_story').get('href')\u001B[39;00m\n",
      "\u001B[0;31mAttributeError\u001B[0m: 'NoneType' object has no attribute 'get'"
     ]
    }
   ],
   "source": [
    "import ssl\n",
    "import openpyxl\n",
    "from urllib.request import urlopen\n",
    "from bs4 import BeautifulSoup  # import bs4.BeautifulSoup;\n",
    "\n",
    "\n",
    "ssl._create_default_https_context = ssl._create_unverified_context\n",
    "wb = openpyxl.Workbook()\n",
    "# wb.create_sheet('Movie')\n",
    "results = []\n",
    "sheet1 = wb.active\n",
    "sheet1.title = 'Daum 영화 정보'\n",
    "\n",
    "daummovie_url = f\"https://movie.daum.net/ranking/boxoffice/weekly\"\n",
    "html = urlopen(daummovie_url)\n",
    "\n",
    "soup = BeautifulSoup(html, 'html.parser')\n",
    "# ul li a  영화정보 링크정보  제목\n",
    "# select는 class로 찾을때\n",
    "ol = soup.find('ol')\n",
    "for movie in ol.find_all('li'):\n",
    "    img = movie.select_one('.item_poster .thumb_item .poster_movie img').get('src')\n",
    "    movetitle = movie.select_one('.item_poster .thumb_item .poster_movie .img_thumb').get('alt')\n",
    "    rank_num = movie.select_one('.item_poster .thumb_item .poster_movie .rank_num').string\n",
    "    # movie_link = movie.select_one('.item_poster .thumb_item .poster_info .link_story').get('href')\n",
    "    movie_link = movie.select_one('.item_poster .thumb_item .poster_info .link_story').get('href')\n",
    "    movie.select('.info_txt')[1].select_one('.screen_out').decompose()\n",
    "    peolplenumber = movie.select('.info_txt')[1].string\n",
    "    results.append([img]+[movetitle] + [rank_num] + [movie_link] + [peolplenumber])\n",
    "\n",
    "    sheet1.append([img]+[movetitle] + [rank_num] + [movie_link] + [peolplenumber])\n",
    "\n",
    "wb.save('DaummovieInfo.xlsx')"
   ]
  }
 ],
 "metadata": {
  "kernelspec": {
   "display_name": "Python 3",
   "language": "python",
   "name": "python3"
  },
  "language_info": {
   "codemirror_mode": {
    "name": "ipython",
    "version": 2
   },
   "file_extension": ".py",
   "mimetype": "text/x-python",
   "name": "python",
   "nbconvert_exporter": "python",
   "pygments_lexer": "ipython2",
   "version": "2.7.6"
  }
 },
 "nbformat": 4,
 "nbformat_minor": 5
}
