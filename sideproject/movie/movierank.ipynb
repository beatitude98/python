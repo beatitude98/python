{
 "cells": [
  {
   "cell_type": "code",
   "execution_count": 58,
   "id": "initial_id",
   "metadata": {
    "collapsed": true,
    "ExecuteTime": {
     "end_time": "2023-10-24T01:21:41.278708740Z",
     "start_time": "2023-10-24T01:21:41.147829558Z"
    }
   },
   "outputs": [
    {
     "name": "stdout",
     "output_type": "stream",
     "text": [
      "<img alt=\"플라워 킬링 문 포스터\" onerror=\"errorImage(this)\" src=\"https://img.cgv.co.kr/Movie/Thumbnail/Poster/000087/87444/87444_320.jpg\"/> <strong class=\"rank\">No.1</strong> 플라워 킬링 문 <strong class=\"percent\">예매율<span>4.4%</span></strong> <span class=\"txt-info\">\n",
      "<strong>\r\n",
      "                                2023.10.19 \r\n",
      "                                <span>개봉</span>\n",
      "</strong>\n",
      "</span>\n",
      "<img alt=\"30일 포스터\" onerror=\"errorImage(this)\" src=\"https://img.cgv.co.kr/Movie/Thumbnail/Poster/000087/87407/87407_320.jpg\"/> <strong class=\"rank\">No.2</strong> 30일 <strong class=\"percent\">예매율<span>3.3%</span></strong> <span class=\"txt-info\">\n",
      "<strong>\r\n",
      "                                2023.10.03 \r\n",
      "                                <span>개봉</span>\n",
      "</strong>\n",
      "</span>\n",
      "<img alt=\"바람 따라 만나리 : 김호중의 계절 포스터\" onerror=\"errorImage(this)\" src=\"https://img.cgv.co.kr/Movie/Thumbnail/Poster/000087/87422/87422_320.jpg\"/> <strong class=\"rank\">No.3</strong> 바람 따라 만나리 : 김호중의 계절 <strong class=\"percent\">예매율<span>2.9%</span></strong> <span class=\"txt-info\">\n",
      "<strong>\r\n",
      "                                2023.10.18 \r\n",
      "                                <span>개봉</span>\n",
      "</strong>\n",
      "</span>\n"
     ]
    }
   ],
   "source": [
    "# http://www.cgv.co.kr/movies/?lt=1&ft=0 CGV\n",
    "# https://www.lottecinema.co.kr/NLCHS/Movie/List?flag=1 롯데시네마\n",
    "# https://www.megabox.co.kr/movie 메가박스\n",
    "# 이미지 순위 제목 예약률 개봉일\n",
    "\n",
    "from urllib.request import urlopen\n",
    "from bs4 import BeautifulSoup\n",
    "import ssl\n",
    "import openpyxl\n",
    "\n",
    "\n",
    "ssl._create_default_https_context = ssl._create_unverified_context\n",
    "wb = openpyxl.Workbook()\n",
    "# wb.create_sheet('Movie')\n",
    "sheet1 = wb.active\n",
    "sheet1.title = 'CGV 영화 순위'\n",
    "\n",
    "results = []\n",
    "\n",
    "for pageNo in range(1):\n",
    "    cgv_url = f\"http://www.cgv.co.kr/movies/?lt=1&ft=1\"\n",
    "    html = urlopen(cgv_url)\n",
    "    soup = BeautifulSoup(html, 'html.parser')\n",
    "    # print(soup)\n",
    "    # ol안에 li박스 a영화제목\n",
    "    ol = soup.find('ol')\n",
    "    # print(ol)\n",
    "    for movie in ol.find_all('li'):\n",
    "        img = movie.select_one('.sect-movie-chart .box-image .thumb-image img')\n",
    "        movierank = movie.select_one('.sect-movie-chart .box-image .rank')\n",
    "        movietitle = movie.select_one('.sect-movie-chart .box-contents .title').string\n",
    "        moviebooking = movie.select_one('.sect-movie-chart .box-contents .score .percent')\n",
    "        comingout = movie.select_one('.sect-movie-chart .box-contents .txt-info')\n",
    "        results.append([img] + [movietitle] + [moviebooking] + [movierank] + [comingout])\n",
    "        print(img, movierank, movietitle, moviebooking, comingout)\n",
    "        # print(moviebooking)\n",
    "    # sheet1.append(  [movietitle] + [moviebooking] + [movierank] + [comingout])\n",
    "# wb.save('CGVmovierank.xlsx')\n",
    "        "
   ]
  },
  {
   "cell_type": "code",
   "execution_count": 63,
   "outputs": [
    {
     "ename": "AttributeError",
     "evalue": "'NoneType' object has no attribute 'find_all'",
     "output_type": "error",
     "traceback": [
      "\u001B[0;31m---------------------------------------------------------------------------\u001B[0m",
      "\u001B[0;31mAttributeError\u001B[0m                            Traceback (most recent call last)",
      "Cell \u001B[0;32mIn[63], line 24\u001B[0m\n\u001B[1;32m     22\u001B[0m movielist \u001B[38;5;241m=\u001B[39m soup\u001B[38;5;241m.\u001B[39mfind(\u001B[38;5;124m'\u001B[39m\u001B[38;5;124mmovie_list type2\u001B[39m\u001B[38;5;124m'\u001B[39m)\n\u001B[1;32m     23\u001B[0m \u001B[38;5;66;03m# print(ol)\u001B[39;00m\n\u001B[0;32m---> 24\u001B[0m \u001B[38;5;28;01mfor\u001B[39;00m movie \u001B[38;5;129;01min\u001B[39;00m \u001B[43mmovielist\u001B[49m\u001B[38;5;241;43m.\u001B[39;49m\u001B[43mfind_all\u001B[49m(\u001B[38;5;124m'\u001B[39m\u001B[38;5;124mscreen_add_box\u001B[39m\u001B[38;5;124m'\u001B[39m):\n\u001B[1;32m     25\u001B[0m     img \u001B[38;5;241m=\u001B[39m movie\u001B[38;5;241m.\u001B[39mselect_one(\u001B[38;5;124m'\u001B[39m\u001B[38;5;124m.poster_info\u001B[39m\u001B[38;5;124m'\u001B[39m)\n\u001B[1;32m     26\u001B[0m     \u001B[38;5;66;03m# movierank = movie.select_one('.sect-movie-chart .box-image .rank')\u001B[39;00m\n",
      "\u001B[0;31mAttributeError\u001B[0m: 'NoneType' object has no attribute 'find_all'"
     ]
    }
   ],
   "source": [],
   "metadata": {
    "collapsed": false,
    "ExecuteTime": {
     "end_time": "2023-10-24T01:29:13.035885959Z",
     "start_time": "2023-10-24T01:29:12.931430012Z"
    }
   },
   "id": "9ebbe1ecee954917"
  },
  {
   "cell_type": "markdown",
   "source": [],
   "metadata": {
    "collapsed": false
   },
   "id": "b889b229e51310ca"
  }
 ],
 "metadata": {
  "kernelspec": {
   "display_name": "Python 3",
   "language": "python",
   "name": "python3"
  },
  "language_info": {
   "codemirror_mode": {
    "name": "ipython",
    "version": 2
   },
   "file_extension": ".py",
   "mimetype": "text/x-python",
   "name": "python",
   "nbconvert_exporter": "python",
   "pygments_lexer": "ipython2",
   "version": "2.7.6"
  }
 },
 "nbformat": 4,
 "nbformat_minor": 5
}
