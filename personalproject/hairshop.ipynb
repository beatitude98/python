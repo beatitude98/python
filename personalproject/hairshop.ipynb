{
 "cells": [
  {
   "cell_type": "code",
   "execution_count": null,
   "id": "initial_id",
   "metadata": {
    "collapsed": true
   },
   "outputs": [],
   "source": [
    "import ssl\n",
    "import openpyxl\n",
    "from urllib.request import urlopen\n",
    "from bs4 import BeautifulSoup\n",
    "\n",
    "\n",
    "ssl._create_default_https_context = ssl._create_unverified_context\n",
    "wb = openpyxl.Workbook()\n",
    "# wb.create_sheet('perfume')\n",
    "results = []\n",
    "sheet1 = wb.active\n",
    "sheet1.title = '요즘 헤어스타일 선호도'\n",
    "\n",
    "dtamhair_url = f\"https://blog.naver.com/dtamhair\"\n",
    "html = urlopen(dtamhair_url)\n",
    "\n",
    "soup = BeautifulSoup(html, 'html.parser')\n",
    "# ul li a  영화정보 링크정보  제목\n",
    "# select는 class로 찾을때\n",
    "ol = soup.find('')\n",
    "for all_reviews in ol.find_all(''):"
   ]
  }
 ],
 "metadata": {
  "kernelspec": {
   "display_name": "Python 3",
   "language": "python",
   "name": "python3"
  },
  "language_info": {
   "codemirror_mode": {
    "name": "ipython",
    "version": 2
   },
   "file_extension": ".py",
   "mimetype": "text/x-python",
   "name": "python",
   "nbconvert_exporter": "python",
   "pygments_lexer": "ipython2",
   "version": "2.7.6"
  }
 },
 "nbformat": 4,
 "nbformat_minor": 5
}
