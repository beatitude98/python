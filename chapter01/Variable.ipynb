{
 "cells": [
  {
   "cell_type": "code",
   "execution_count": 1,
   "id": "initial_id",
   "metadata": {
    "collapsed": true,
    "ExecuteTime": {
     "end_time": "2023-09-12T03:37:27.098408105Z",
     "start_time": "2023-09-12T03:37:27.096978577Z"
    }
   },
   "outputs": [
    {
     "name": "stdout",
     "output_type": "stream",
     "text": [
      "2단\n",
      "2 x 1 = 2\n",
      "2 x 2 = 4\n",
      "2 x 3 = 6\n",
      "2 x 4 = 8\n",
      "2 x 5 = 10\n",
      "2 x 6 = 12\n",
      "2 x 7 = 14\n",
      "2 x 8 = 16\n",
      "2 x 9 = 18\n",
      "3단\n",
      "3 x 1 = 3\n",
      "3 x 2 = 6\n",
      "3 x 3 = 9\n",
      "3 x 4 = 12\n",
      "3 x 5 = 15\n",
      "3 x 6 = 18\n",
      "3 x 7 = 21\n",
      "3 x 8 = 24\n",
      "3 x 9 = 27\n",
      "4단\n",
      "4 x 1 = 4\n",
      "4 x 2 = 8\n",
      "4 x 3 = 12\n",
      "4 x 4 = 16\n",
      "4 x 5 = 20\n",
      "4 x 6 = 24\n",
      "4 x 7 = 28\n",
      "4 x 8 = 32\n",
      "4 x 9 = 36\n",
      "5단\n",
      "5 x 1 = 5\n",
      "5 x 2 = 10\n",
      "5 x 3 = 15\n",
      "5 x 4 = 20\n",
      "5 x 5 = 25\n",
      "5 x 6 = 30\n",
      "5 x 7 = 35\n",
      "5 x 8 = 40\n",
      "5 x 9 = 45\n",
      "6단\n",
      "6 x 1 = 6\n",
      "6 x 2 = 12\n",
      "6 x 3 = 18\n",
      "6 x 4 = 24\n",
      "6 x 5 = 30\n",
      "6 x 6 = 36\n",
      "6 x 7 = 42\n",
      "6 x 8 = 48\n",
      "6 x 9 = 54\n",
      "7단\n",
      "7 x 1 = 7\n",
      "7 x 2 = 14\n",
      "7 x 3 = 21\n",
      "7 x 4 = 28\n",
      "7 x 5 = 35\n",
      "7 x 6 = 42\n",
      "7 x 7 = 49\n",
      "7 x 8 = 56\n",
      "7 x 9 = 63\n",
      "8단\n",
      "8 x 1 = 8\n",
      "8 x 2 = 16\n",
      "8 x 3 = 24\n",
      "8 x 4 = 32\n",
      "8 x 5 = 40\n",
      "8 x 6 = 48\n",
      "8 x 7 = 56\n",
      "8 x 8 = 64\n",
      "8 x 9 = 72\n",
      "9단\n",
      "9 x 1 = 9\n",
      "9 x 2 = 18\n",
      "9 x 3 = 27\n",
      "9 x 4 = 36\n",
      "9 x 5 = 45\n",
      "9 x 6 = 54\n",
      "9 x 7 = 63\n",
      "9 x 8 = 72\n",
      "9 x 9 = 81\n"
     ]
    }
   ],
   "source": [
    "for dan in range(2, 10):\n",
    "    print(f'{dan}단')\n",
    "    for i in range(1,10):\n",
    "        print(f'{dan} x {i} = {dan * i}')"
   ]
  },
  {
   "cell_type": "code",
   "execution_count": 2,
   "outputs": [
    {
     "name": "stdout",
     "output_type": "stream",
     "text": [
      "1\n",
      "1\n",
      "1\n",
      "1\n",
      "1\n",
      "1\n",
      "1\n",
      "1\n",
      "1\n",
      "2\n",
      "2\n",
      "2\n",
      "2\n",
      "2\n",
      "2\n",
      "2\n",
      "2\n",
      "2\n",
      "3\n",
      "3\n",
      "3\n",
      "3\n",
      "3\n",
      "3\n",
      "3\n",
      "3\n",
      "3\n",
      "4\n",
      "4\n",
      "4\n",
      "4\n",
      "4\n",
      "4\n",
      "4\n",
      "4\n",
      "4\n",
      "5\n",
      "5\n",
      "5\n",
      "5\n",
      "5\n",
      "5\n",
      "5\n",
      "5\n",
      "5\n",
      "6\n",
      "6\n",
      "6\n",
      "6\n",
      "6\n",
      "6\n",
      "6\n",
      "6\n",
      "6\n",
      "7\n",
      "7\n",
      "7\n",
      "7\n",
      "7\n",
      "7\n",
      "7\n",
      "7\n",
      "7\n",
      "8\n",
      "8\n",
      "8\n",
      "8\n",
      "8\n",
      "8\n",
      "8\n",
      "8\n",
      "8\n",
      "9\n",
      "9\n",
      "9\n",
      "9\n",
      "9\n",
      "9\n",
      "9\n",
      "9\n",
      "9\n"
     ]
    }
   ],
   "source": [
    "sum = 0\n",
    "for sum in range(1, 10):\n",
    "    for i in range(1,10):\n",
    "        print(f'{sum} + {i} = ')"
   ],
   "metadata": {
    "collapsed": false,
    "ExecuteTime": {
     "end_time": "2023-09-12T03:40:29.243372151Z",
     "start_time": "2023-09-12T03:40:29.199665313Z"
    }
   },
   "id": "bcfca2c85ae2c3f4"
  },
  {
   "cell_type": "code",
   "execution_count": 3,
   "outputs": [
    {
     "name": "stdout",
     "output_type": "stream",
     "text": [
      "1\n",
      "2\n",
      "3\n",
      "4\n",
      "5\n",
      "6\n",
      "7\n",
      "8\n",
      "9\n"
     ]
    }
   ],
   "source": [
    "sum = 0\n",
    "for a in range(1, 10):\n",
    "    sum = a\n",
    "    print(sum)"
   ],
   "metadata": {
    "collapsed": false,
    "ExecuteTime": {
     "end_time": "2023-09-12T03:43:25.850894186Z",
     "start_time": "2023-09-12T03:43:25.772484673Z"
    }
   },
   "id": "4bcf3b02b627f99d"
  },
  {
   "cell_type": "code",
   "execution_count": 4,
   "outputs": [
    {
     "name": "stdout",
     "output_type": "stream",
     "text": [
      "1\n",
      "3\n",
      "6\n",
      "10\n",
      "15\n",
      "21\n",
      "28\n",
      "36\n",
      "45\n",
      "55\n"
     ]
    }
   ],
   "source": [
    "sum = 0\n",
    "for a in range(1, 11):\n",
    "    sum += a\n",
    "    print(sum)"
   ],
   "metadata": {
    "collapsed": false,
    "ExecuteTime": {
     "end_time": "2023-09-12T03:44:05.541677821Z",
     "start_time": "2023-09-12T03:44:05.512582724Z"
    }
   },
   "id": "a24026268e0f9be0"
  },
  {
   "cell_type": "code",
   "execution_count": 5,
   "outputs": [
    {
     "ename": "NameError",
     "evalue": "name 'c' is not defined",
     "output_type": "error",
     "traceback": [
      "\u001B[0;31m---------------------------------------------------------------------------\u001B[0m",
      "\u001B[0;31mNameError\u001B[0m                                 Traceback (most recent call last)",
      "Cell \u001B[0;32mIn[5], line 3\u001B[0m\n\u001B[1;32m      1\u001B[0m \u001B[38;5;28msum\u001B[39m \u001B[38;5;241m=\u001B[39m \u001B[38;5;241m0\u001B[39m\n\u001B[1;32m      2\u001B[0m \u001B[38;5;28;01mfor\u001B[39;00m a \u001B[38;5;129;01min\u001B[39;00m \u001B[38;5;28mrange\u001B[39m(\u001B[38;5;241m1\u001B[39m, \u001B[38;5;241m11\u001B[39m):\n\u001B[0;32m----> 3\u001B[0m     c \u001B[38;5;241m+\u001B[39m\u001B[38;5;241m=\u001B[39m a\n\u001B[1;32m      4\u001B[0m     \u001B[38;5;28msum\u001B[39m \u001B[38;5;241m=\u001B[39m c\n\u001B[1;32m      5\u001B[0m     \u001B[38;5;28mprint\u001B[39m(\u001B[38;5;28msum\u001B[39m)\n",
      "\u001B[0;31mNameError\u001B[0m: name 'c' is not defined"
     ]
    }
   ],
   "source": [
    "sum = 0\n",
    "c = 0\n",
    "for a in range(1, 11):\n",
    "    c += a\n",
    "    sum = c\n",
    "    print(sum)"
   ],
   "metadata": {
    "collapsed": false,
    "ExecuteTime": {
     "end_time": "2023-09-12T03:45:22.376755026Z",
     "start_time": "2023-09-12T03:45:22.107206462Z"
    }
   },
   "id": "4222018c7768c95c"
  },
  {
   "cell_type": "code",
   "execution_count": 6,
   "outputs": [
    {
     "ename": "IndentationError",
     "evalue": "expected an indented block after 'for' statement on line 4 (2415907349.py, line 5)",
     "output_type": "error",
     "traceback": [
      "\u001B[0;36m  Cell \u001B[0;32mIn[6], line 5\u001B[0;36m\u001B[0m\n\u001B[0;31m    c += a\u001B[0m\n\u001B[0m    ^\u001B[0m\n\u001B[0;31mIndentationError\u001B[0m\u001B[0;31m:\u001B[0m expected an indented block after 'for' statement on line 4\n"
     ]
    }
   ],
   "source": [
    "    print(sum)\n",
    "sum = 0\n",
    "c = 0\n",
    "for a in range(1, 11):\n",
    "    c += a\n",
    "    sum = c\n",
    "    print(sum)"
   ],
   "metadata": {
    "collapsed": false,
    "ExecuteTime": {
     "end_time": "2023-09-12T03:45:33.038460335Z",
     "start_time": "2023-09-12T03:45:32.922519996Z"
    }
   },
   "id": "89f5b3de401b852d"
  },
  {
   "cell_type": "code",
   "execution_count": 7,
   "outputs": [
    {
     "ename": "IndentationError",
     "evalue": "expected an indented block after 'for' statement on line 3 (2645564108.py, line 4)",
     "output_type": "error",
     "traceback": [
      "\u001B[0;36m  Cell \u001B[0;32mIn[7], line 4\u001B[0;36m\u001B[0m\n\u001B[0;31m    sum += a\u001B[0m\n\u001B[0m    ^\u001B[0m\n\u001B[0;31mIndentationError\u001B[0m\u001B[0;31m:\u001B[0m expected an indented block after 'for' statement on line 3\n"
     ]
    }
   ],
   "source": [
    "    print(sum)\n",
    "sum = 0\n",
    "for a in range(1, 11):\n",
    "    sum += a\n",
    "    print(sum)"
   ],
   "metadata": {
    "collapsed": false,
    "ExecuteTime": {
     "end_time": "2023-09-12T03:45:41.891274241Z",
     "start_time": "2023-09-12T03:45:41.883442305Z"
    }
   },
   "id": "99e91cfd34ac7d63"
  },
  {
   "cell_type": "code",
   "execution_count": 8,
   "outputs": [
    {
     "name": "stdout",
     "output_type": "stream",
     "text": [
      "1\n",
      "3\n",
      "6\n",
      "10\n",
      "15\n",
      "21\n",
      "28\n",
      "36\n",
      "45\n",
      "55\n"
     ]
    }
   ],
   "source": [
    "sum = 0\n",
    "for a in range(1, 11):\n",
    "    sum += a\n",
    "    print(sum)"
   ],
   "metadata": {
    "collapsed": false,
    "ExecuteTime": {
     "end_time": "2023-09-12T03:45:48.788634781Z",
     "start_time": "2023-09-12T03:45:48.723341929Z"
    }
   },
   "id": "a4dc1b0ef6b49381"
  },
  {
   "cell_type": "code",
   "execution_count": 9,
   "outputs": [
    {
     "name": "stdout",
     "output_type": "stream",
     "text": [
      "1\n",
      "2\n",
      "3\n",
      "4\n",
      "5\n",
      "6\n",
      "7\n",
      "8\n",
      "9\n",
      "10\n"
     ]
    }
   ],
   "source": [
    "sum = 0\n",
    "for a in range(1, 11):\n",
    "    print(a)"
   ],
   "metadata": {
    "collapsed": false,
    "ExecuteTime": {
     "end_time": "2023-09-12T03:46:45.015788854Z",
     "start_time": "2023-09-12T03:46:44.920703483Z"
    }
   },
   "id": "c0d18bf2abdccdae"
  },
  {
   "cell_type": "code",
   "execution_count": 1,
   "outputs": [
    {
     "ename": "SyntaxError",
     "evalue": "invalid syntax (2594844324.py, line 6)",
     "output_type": "error",
     "traceback": [
      "\u001B[0;36m  Cell \u001B[0;32mIn[1], line 6\u001B[0;36m\u001B[0m\n\u001B[0;31m    for i in range(1,11);\u001B[0m\n\u001B[0m                        ^\u001B[0m\n\u001B[0;31mSyntaxError\u001B[0m\u001B[0;31m:\u001B[0m invalid syntax\n"
     ]
    }
   ],
   "source": [
    "sum = 0\n",
    "# i = 1\n",
    "# while i <=10;\n",
    "#     sum+=i\n",
    "#     i +=1\n",
    "for i in range(1,11); \n",
    "# range(0,100,2) 0부터 2씩까지 증가시켜라\n",
    "    sum += i\n",
    "\n",
    "print(sum)"
   ],
   "metadata": {
    "collapsed": false,
    "ExecuteTime": {
     "end_time": "2023-09-13T00:14:31.976448536Z",
     "start_time": "2023-09-13T00:14:31.964910520Z"
    }
   },
   "id": "ebf6f9a346a5084a"
  },
  {
   "cell_type": "code",
   "execution_count": 2,
   "outputs": [
    {
     "ename": "IndentationError",
     "evalue": "expected an indented block after 'for' statement on line 7 (3762256879.py, line 9)",
     "output_type": "error",
     "traceback": [
      "\u001B[0;36m  Cell \u001B[0;32mIn[2], line 9\u001B[0;36m\u001B[0m\n\u001B[0;31m    sum += i\u001B[0m\n\u001B[0m    ^\u001B[0m\n\u001B[0;31mIndentationError\u001B[0m\u001B[0;31m:\u001B[0m expected an indented block after 'for' statement on line 7\n"
     ]
    }
   ],
   "source": [
    "\n",
    "sum = 0\n",
    "# i = 1\n",
    "# while i <=10;\n",
    "#     sum+=i\n",
    "#     i +=1\n",
    "for i in range(1, 11):\n",
    "# range(0,100,2) 0부터 2씩까지 증가시켜라\n",
    "sum += i\n",
    "\n",
    "print(sum)"
   ],
   "metadata": {
    "collapsed": false,
    "ExecuteTime": {
     "end_time": "2023-09-13T00:14:44.275869833Z",
     "start_time": "2023-09-13T00:14:44.211873149Z"
    }
   },
   "id": "85965710a956dd6"
  },
  {
   "cell_type": "code",
   "execution_count": 3,
   "outputs": [
    {
     "ename": "IndentationError",
     "evalue": "expected an indented block after 'for' statement on line 6 (3660865371.py, line 8)",
     "output_type": "error",
     "traceback": [
      "\u001B[0;36m  Cell \u001B[0;32mIn[3], line 8\u001B[0;36m\u001B[0m\n\u001B[0;31m    sum += i\u001B[0m\n\u001B[0m    ^\u001B[0m\n\u001B[0;31mIndentationError\u001B[0m\u001B[0;31m:\u001B[0m expected an indented block after 'for' statement on line 6\n"
     ]
    }
   ],
   "source": [
    "sum = 0\n",
    "# i = 1\n",
    "# while i <=10;\n",
    "#     sum+=i\n",
    "#     i +=1\n",
    "for i in range(1, 11):\n",
    "# range(0,100,2) 0부터 2씩까지 증가시켜라\n",
    "sum += i\n",
    "\n",
    "print(sum)"
   ],
   "metadata": {
    "collapsed": false,
    "ExecuteTime": {
     "end_time": "2023-09-13T00:15:23.178248124Z",
     "start_time": "2023-09-13T00:15:23.122513808Z"
    }
   },
   "id": "8ff80eeb75d6e554"
  },
  {
   "cell_type": "code",
   "execution_count": 6,
   "outputs": [
    {
     "name": "stdout",
     "output_type": "stream",
     "text": [
      "55\n"
     ]
    }
   ],
   "source": [
    "sum = 0\n",
    "# i = 1\n",
    "# while i <=10;\n",
    "#     sum+=i\n",
    "#     i +=1 # range(0,100,2) 0부터 2씩까지 증가시켜라\n",
    "for i in range(1, 11):\n",
    "    sum += i\n",
    "\n",
    "print(sum)"
   ],
   "metadata": {
    "collapsed": false,
    "ExecuteTime": {
     "end_time": "2023-09-13T00:22:59.938115381Z",
     "start_time": "2023-09-13T00:22:59.846809824Z"
    }
   },
   "id": "6dfd72fa191aae3e"
  },
  {
   "cell_type": "code",
   "execution_count": 19,
   "outputs": [
    {
     "name": "stdout",
     "output_type": "stream",
     "text": [
      "음료목록 1.오렌지주스100원 2.커피200원 3.콜라300원\n",
      "오렌지주스가 제공됩니다\n",
      "거스름돈은 200원입니다.\n",
      "음료목록 1.오렌지주스100원 2.커피200원 3.콜라300원\n",
      "오렌지주스가 제공됩니다\n",
      "거스름돈은 0원입니다.\n",
      "음료목록 1.오렌지주스100원 2.커피200원 3.콜라300원\n"
     ]
    },
    {
     "ename": "ValueError",
     "evalue": "invalid literal for int() with base 10: ''",
     "output_type": "error",
     "traceback": [
      "\u001B[0;31m---------------------------------------------------------------------------\u001B[0m",
      "\u001B[0;31mValueError\u001B[0m                                Traceback (most recent call last)",
      "Cell \u001B[0;32mIn[19], line 3\u001B[0m\n\u001B[1;32m      1\u001B[0m \u001B[38;5;28;01mwhile\u001B[39;00m \u001B[38;5;28;01mTrue\u001B[39;00m:\n\u001B[1;32m      2\u001B[0m     \u001B[38;5;28mprint\u001B[39m(\u001B[38;5;124m'\u001B[39m\u001B[38;5;124m음료목록 1.오렌지주스100원 2.커피200원 3.콜라300원\u001B[39m\u001B[38;5;124m'\u001B[39m)\n\u001B[0;32m----> 3\u001B[0m     drink \u001B[38;5;241m=\u001B[39m \u001B[38;5;28;43mint\u001B[39;49m\u001B[43m(\u001B[49m\u001B[38;5;28;43minput\u001B[39;49m\u001B[43m(\u001B[49m\u001B[38;5;124;43m'\u001B[39;49m\u001B[38;5;124;43m음료를 고르세요\u001B[39;49m\u001B[38;5;124;43m'\u001B[39;49m\u001B[43m)\u001B[49m\u001B[43m)\u001B[49m\n\u001B[1;32m      4\u001B[0m     coin \u001B[38;5;241m=\u001B[39m \u001B[38;5;28mint\u001B[39m(\u001B[38;5;28minput\u001B[39m(\u001B[38;5;124m'\u001B[39m\u001B[38;5;124m동전을 넣으세요\u001B[39m\u001B[38;5;124m'\u001B[39m))\n\u001B[1;32m      7\u001B[0m     \u001B[38;5;28;01mif\u001B[39;00m drink \u001B[38;5;241m==\u001B[39m \u001B[38;5;241m1\u001B[39m:\n",
      "\u001B[0;31mValueError\u001B[0m: invalid literal for int() with base 10: ''"
     ]
    }
   ],
   "source": [
    "while True:\n",
    "    print('음료목록 1.오렌지주스100원 2.커피200원 3.콜라300원')\n",
    "    drink = int(input('음료를 고르세요'))\n",
    "    coin = int(input('동전을 넣으세요'))\n",
    "\n",
    "    \n",
    "    if drink == 1:\n",
    "        if coin >= 100:\n",
    "            remain = coin - 100\n",
    "            print('오렌지주스가 제공됩니다')\n",
    "            print(f'거스름돈은 {remain}원입니다.')\n",
    "        else:\n",
    "            print('잔액이 부족합니다.')\n",
    "            \n",
    "    elif drink == 2:\n",
    "        if coin >= 200:\n",
    "            remain = coin - 100\n",
    "            print('커피가 제공됩니다')\n",
    "            print(f'거스름돈은 {remain}원입니다.')\n",
    "        else:\n",
    "            print('잔액이 부족합니다.')\n",
    "            \n",
    "    elif drink == 3:\n",
    "        if coin >= 300:\n",
    "            remain = coin - 100\n",
    "            print('콜라가 제공됩니다')\n",
    "            print(f'거스름돈은 {remain}원입니다.')\n",
    "        else:\n",
    "            print('잔액이 부족합니다.')\n",
    "            \n",
    "    else:\n",
    "        print('없는 메뉴입니다. 다시 입력해주세요')\n",
    "    coin = 0\n",
    "    # break\n"
   ],
   "metadata": {
    "collapsed": false,
    "ExecuteTime": {
     "end_time": "2023-09-13T00:50:39.324415703Z",
     "start_time": "2023-09-13T00:50:10.784083639Z"
    }
   },
   "id": "5698666e6b93d30e"
  },
  {
   "cell_type": "code",
   "execution_count": 11,
   "outputs": [
    {
     "name": "stdout",
     "output_type": "stream",
     "text": [
      "('오렌지주스', 100)\n"
     ]
    }
   ],
   "source": [
    "a= '오렌지주스',100\n",
    "print(a)"
   ],
   "metadata": {
    "collapsed": false,
    "ExecuteTime": {
     "end_time": "2023-09-13T00:32:25.870396405Z",
     "start_time": "2023-09-13T00:32:25.803771450Z"
    }
   },
   "id": "a68412dce8c50658"
  },
  {
   "cell_type": "code",
   "execution_count": 20,
   "outputs": [
    {
     "ename": "TypeError",
     "evalue": "'set' object is not subscriptable",
     "output_type": "error",
     "traceback": [
      "\u001B[0;31m---------------------------------------------------------------------------\u001B[0m",
      "\u001B[0;31mTypeError\u001B[0m                                 Traceback (most recent call last)",
      "Cell \u001B[0;32mIn[20], line 2\u001B[0m\n\u001B[1;32m      1\u001B[0m \u001B[38;5;28mlist\u001B[39m \u001B[38;5;241m=\u001B[39m {\u001B[38;5;241m1\u001B[39m,\u001B[38;5;241m2\u001B[39m,\u001B[38;5;241m3\u001B[39m,\u001B[38;5;241m4\u001B[39m,\u001B[38;5;241m5\u001B[39m,\u001B[38;5;241m6\u001B[39m,\u001B[38;5;241m7\u001B[39m,\u001B[38;5;241m8\u001B[39m,\u001B[38;5;241m9\u001B[39m,\u001B[38;5;241m10\u001B[39m}\n\u001B[0;32m----> 2\u001B[0m \u001B[38;5;28mprint\u001B[39m(\u001B[38;5;28;43mlist\u001B[39;49m\u001B[43m[\u001B[49m\u001B[38;5;241;43m3\u001B[39;49m\u001B[43m:\u001B[49m\u001B[38;5;241;43m7\u001B[39;49m\u001B[43m]\u001B[49m)\n",
      "\u001B[0;31mTypeError\u001B[0m: 'set' object is not subscriptable"
     ]
    }
   ],
   "source": [
    "list = {1,2,3,4,5,6,7,8,9,10}\n",
    "print(list[3:7])"
   ],
   "metadata": {
    "collapsed": false,
    "ExecuteTime": {
     "end_time": "2023-09-13T01:42:16.106869366Z",
     "start_time": "2023-09-13T01:42:16.056683131Z"
    }
   },
   "id": "f0f18b54d0c62210"
  },
  {
   "cell_type": "code",
   "execution_count": 21,
   "outputs": [
    {
     "name": "stdout",
     "output_type": "stream",
     "text": [
      "[4, 5, 6, 7]\n"
     ]
    }
   ],
   "source": [
    "list = [1,2,3,4,5,6,7,8,9,10]\n",
    "print(list[3:7])"
   ],
   "metadata": {
    "collapsed": false,
    "ExecuteTime": {
     "end_time": "2023-09-13T01:42:32.591354091Z",
     "start_time": "2023-09-13T01:42:32.466764809Z"
    }
   },
   "id": "e42858b7fb3e008a"
  },
  {
   "cell_type": "code",
   "execution_count": 22,
   "outputs": [
    {
     "name": "stdout",
     "output_type": "stream",
     "text": [
      "[10, 9, 8, 7, 6, 5, 4, 3, 2, 1]\n"
     ]
    }
   ],
   "source": [
    "list = [1, 2, 3, 4, 5, 6, 7, 8, 9, 10]\n",
    "list.reverse()\n",
    "print(list)"
   ],
   "metadata": {
    "collapsed": false,
    "ExecuteTime": {
     "end_time": "2023-09-13T01:44:48.207120451Z",
     "start_time": "2023-09-13T01:44:48.146204165Z"
    }
   },
   "id": "50e62ff6f9bb3eda"
  },
  {
   "cell_type": "code",
   "execution_count": 23,
   "outputs": [
    {
     "name": "stdout",
     "output_type": "stream",
     "text": [
      "[10, 9, 8, 7, 6, 5, 4, 3, 2, 1]\n"
     ]
    }
   ],
   "source": [
    "list = [1, 2, 3, 4, 5, 6, 7, 8, 9, 10]\n",
    "list.sort(reverse=True)\n",
    "print(list)"
   ],
   "metadata": {
    "collapsed": false,
    "ExecuteTime": {
     "end_time": "2023-09-13T01:46:53.249411266Z",
     "start_time": "2023-09-13T01:46:53.199327397Z"
    }
   },
   "id": "b7891767186352f7"
  },
  {
   "cell_type": "code",
   "execution_count": 24,
   "outputs": [
    {
     "name": "stdout",
     "output_type": "stream",
     "text": [
      "홍길동\n"
     ]
    }
   ],
   "source": [
    "dict_1 = {'name': '홍길동', 'birth' : 1990, 'addr': 'KR'}\n",
    "print(dict_1['name'])"
   ],
   "metadata": {
    "collapsed": false,
    "ExecuteTime": {
     "end_time": "2023-09-13T02:18:33.396690945Z",
     "start_time": "2023-09-13T02:18:33.298780629Z"
    }
   },
   "id": "f04c77a4376c82e5"
  },
  {
   "cell_type": "code",
   "execution_count": 29,
   "outputs": [
    {
     "name": "stdout",
     "output_type": "stream",
     "text": [
      "{'name': '홍길동', 'birth': 1990, 'addr': 'KR', 'weight': 67.8, 'hobby': ['게임', '독서']}\n",
      "{'name': '홍길동', 'birth': 1990, 'addr': 'KR', 'weight': 67.8, 'hobby': ['축구', '농구']}\n"
     ]
    }
   ],
   "source": [
    "name = 'name'\n",
    "birth = 'birth'\n",
    "addr = 'addr'\n",
    "dict_2 = {'name': '홍길동', 'birth' : 1990, 'addr': 'KR'}\n",
    "dict_2.update({'weight': 67.8, 'hobby' : ['게임','독서']})\n",
    "print(dict_2)\n",
    "\n",
    "dict_2['hobby'] = ['축구', '농구']\n",
    "print(dict_2)"
   ],
   "metadata": {
    "collapsed": false,
    "ExecuteTime": {
     "end_time": "2023-09-13T02:25:28.326697952Z",
     "start_time": "2023-09-13T02:25:28.314775492Z"
    }
   },
   "id": "9e55f2f69f29e1f2"
  },
  {
   "cell_type": "code",
   "execution_count": null,
   "outputs": [],
   "source": [
    "list = {'식재료': ''}\n",
    "input(\"추가할 식재료를 입력하시\")"
   ],
   "metadata": {
    "collapsed": false
   },
   "id": "3a4e42cb90822b87"
  }
 ],
 "metadata": {
  "kernelspec": {
   "display_name": "Python 3",
   "language": "python",
   "name": "python3"
  },
  "language_info": {
   "codemirror_mode": {
    "name": "ipython",
    "version": 2
   },
   "file_extension": ".py",
   "mimetype": "text/x-python",
   "name": "python",
   "nbconvert_exporter": "python",
   "pygments_lexer": "ipython2",
   "version": "2.7.6"
  }
 },
 "nbformat": 4,
 "nbformat_minor": 5
}
