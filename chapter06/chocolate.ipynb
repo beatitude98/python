{
 "cells": [
  {
   "cell_type": "code",
   "execution_count": 1,
   "id": "initial_id",
   "metadata": {
    "collapsed": true,
    "ExecuteTime": {
     "end_time": "2023-09-21T01:25:35.963182638Z",
     "start_time": "2023-09-21T01:25:35.929290167Z"
    }
   },
   "outputs": [
    {
     "name": "stdout",
     "output_type": "stream",
     "text": [
      "차원: 2\n",
      "모양: (1795, 4)\n",
      "원소 수: 7180\n",
      "[[1.000e+00 2.016e+03 6.300e-01 3.750e+00]\n",
      " [2.000e+00 2.015e+03 7.000e-01 2.750e+00]\n",
      " [3.000e+00 2.015e+03 7.000e-01 3.000e+00]\n",
      " ...\n",
      " [1.793e+03 2.011e+03 6.500e-01 3.500e+00]\n",
      " [1.794e+03 2.011e+03 6.200e-01 3.250e+00]\n",
      " [1.795e+03 2.010e+03 6.500e-01 3.000e+00]]\n"
     ]
    }
   ],
   "source": [
    "import numpy as np\n",
    "\n",
    "data = np.loadtxt('chocolate_rating.csv', delimiter=',')\n",
    "print(f'차원: {data.ndim}')\n",
    "print(f'모양: {data.shape}')\n",
    "print(f'원소 수: {data.size}')\n",
    "print(data)"
   ]
  },
  {
   "cell_type": "code",
   "execution_count": 3,
   "outputs": [
    {
     "name": "stdout",
     "output_type": "stream",
     "text": [
      "3.185933147632312\n"
     ]
    }
   ],
   "source": [
    "print(data[:,3].mean())"
   ],
   "metadata": {
    "collapsed": false,
    "ExecuteTime": {
     "end_time": "2023-09-21T01:39:42.258605910Z",
     "start_time": "2023-09-21T01:39:42.210202900Z"
    }
   },
   "id": "6fd637825d64722"
  },
  {
   "cell_type": "code",
   "execution_count": 5,
   "outputs": [
    {
     "name": "stdout",
     "output_type": "stream",
     "text": [
      "우수 초콜릿 수: 100\n",
      "[  10   18   21   55   57   77   78   79   84   87   88   93  108  109\n",
      "  118  124  153  180  181  187  223  232  233  240  243  244  245  248\n",
      "  257  312  316  317  358  437  503  567  573  574  582  601  650  687\n",
      "  690  691  701  720  730  800  828  862  864  865  866  883  919  993\n",
      " 1088 1089 1118 1119 1120 1204 1241 1245 1247 1274 1277 1278 1289 1291\n",
      " 1293 1295 1323 1331 1336 1378 1394 1426 1428 1433 1479 1488 1513 1516\n",
      " 1529 1530 1531 1533 1536 1537 1544 1545 1664 1683 1686 1688 1694 1700\n",
      " 1740 1757]\n"
     ]
    }
   ],
   "source": [
    "high_level = data[data[:,3] >=4]\n",
    "high_id = high_level[:,0].astype(np.int64)\n",
    "print(f'우수 초콜릿 수: {high_id.size}')\n",
    "print(high_id)"
   ],
   "metadata": {
    "collapsed": false,
    "ExecuteTime": {
     "end_time": "2023-09-21T01:46:44.637579670Z",
     "start_time": "2023-09-21T01:46:44.593877635Z"
    }
   },
   "id": "adad5996647ca9f1"
  },
  {
   "cell_type": "code",
   "execution_count": 7,
   "outputs": [
    {
     "name": "stdout",
     "output_type": "stream",
     "text": [
      "카카오 함유량: [0.6  0.63 0.64 0.65 0.66 0.67 0.68 0.69 0.7  0.71 0.72 0.73 0.74 0.75\n",
      " 0.78 0.8  0.88]\n",
      "함유량 빈도수: [ 1  3  4  2  1  3  2  2 45  1 11  1  4 17  1  1  1]\n"
     ]
    }
   ],
   "source": [
    "high_kakao = high_level[:,2]\n",
    "unique_value, value_counts = np.unique(high_kakao, \n",
    "          return_counts=True)\n",
    "print(f'카카오 함유량: {unique_value}')\n",
    "print(f'함유량 빈도수: {value_counts}')"
   ],
   "metadata": {
    "collapsed": false,
    "ExecuteTime": {
     "end_time": "2023-09-21T01:52:03.811558797Z",
     "start_time": "2023-09-21T01:52:03.766927608Z"
    }
   },
   "id": "e192e77a1dae538"
  },
  {
   "cell_type": "code",
   "execution_count": 8,
   "outputs": [
    {
     "name": "stdout",
     "output_type": "stream",
     "text": [
      "0.7\n",
      "우수 초콜릿 100개 중에서 45개의 카카오 함유량이 70.0%입니다.\n"
     ]
    }
   ],
   "source": [
    "max_index = np.argmax(value_counts)\n",
    "print(unique_value[max_index])\n",
    "print(f'우수 초콜릿 {high_id.size}개 중에서 {value_counts[max_index]}개의 카카오 함유량이 {unique_value[max_index] *100}%입니다.')"
   ],
   "metadata": {
    "collapsed": false,
    "ExecuteTime": {
     "end_time": "2023-09-21T02:07:19.665884489Z",
     "start_time": "2023-09-21T02:07:19.614436722Z"
    }
   },
   "id": "fa88cb0ec7a9bdbb"
  },
  {
   "cell_type": "code",
   "execution_count": 10,
   "outputs": [
    {
     "name": "stdout",
     "output_type": "stream",
     "text": [
      "카카오 함유량: (array([0.6 , 0.63, 0.64, 0.65, 0.66, 0.67, 0.68, 0.69, 0.7 , 0.71, 0.72,\n",
      "       0.73, 0.74, 0.75, 0.78, 0.8 , 0.88]), array([ 1,  3,  4,  2,  1,  3,  2,  2, 45,  1, 11,  1,  4, 17,  1,  1,  1]))\n",
      "함유량 빈도수: (array([0.6 , 0.63, 0.64, 0.65, 0.66, 0.67, 0.68, 0.69, 0.7 , 0.71, 0.72,\n",
      "       0.73, 0.74, 0.75, 0.78, 0.8 , 0.88]), array([ 1,  3,  4,  2,  1,  3,  2,  2, 45,  1, 11,  1,  4, 17,  1,  1,  1]))\n"
     ]
    }
   ],
   "source": [
    "unique_value = np.unique(high_kakao, return_counts=True)\n",
    "value_counts = np.unique(high_kakao, return_counts=True)\n",
    "print(f'카카오 함유량: {unique_value}')\n",
    "print(f'함유량 빈도수: {value_counts}')"
   ],
   "metadata": {
    "collapsed": false,
    "ExecuteTime": {
     "end_time": "2023-09-21T02:16:28.015589114Z",
     "start_time": "2023-09-21T02:16:27.970735002Z"
    }
   },
   "id": "840346bf3c160648"
  }
 ],
 "metadata": {
  "kernelspec": {
   "display_name": "Python 3",
   "language": "python",
   "name": "python3"
  },
  "language_info": {
   "codemirror_mode": {
    "name": "ipython",
    "version": 2
   },
   "file_extension": ".py",
   "mimetype": "text/x-python",
   "name": "python",
   "nbconvert_exporter": "python",
   "pygments_lexer": "ipython2",
   "version": "2.7.6"
  }
 },
 "nbformat": 4,
 "nbformat_minor": 5
}
