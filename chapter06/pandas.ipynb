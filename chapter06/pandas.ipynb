{
 "cells": [
  {
   "cell_type": "code",
   "execution_count": 27,
   "id": "initial_id",
   "metadata": {
    "collapsed": true,
    "ExecuteTime": {
     "end_time": "2023-09-21T02:35:43.674994193Z",
     "start_time": "2023-09-21T02:35:43.619163041Z"
    }
   },
   "outputs": [
    {
     "data": {
      "text/plain": "   이름  성별  나이    키\n0  한빛  남자  20  180\n1  한결  남자  21  177\n2  한라  여자  20  160",
      "text/html": "<div>\n<style scoped>\n    .dataframe tbody tr th:only-of-type {\n        vertical-align: middle;\n    }\n\n    .dataframe tbody tr th {\n        vertical-align: top;\n    }\n\n    .dataframe thead th {\n        text-align: right;\n    }\n</style>\n<table border=\"1\" class=\"dataframe\">\n  <thead>\n    <tr style=\"text-align: right;\">\n      <th></th>\n      <th>이름</th>\n      <th>성별</th>\n      <th>나이</th>\n      <th>키</th>\n    </tr>\n  </thead>\n  <tbody>\n    <tr>\n      <th>0</th>\n      <td>한빛</td>\n      <td>남자</td>\n      <td>20</td>\n      <td>180</td>\n    </tr>\n    <tr>\n      <th>1</th>\n      <td>한결</td>\n      <td>남자</td>\n      <td>21</td>\n      <td>177</td>\n    </tr>\n    <tr>\n      <th>2</th>\n      <td>한라</td>\n      <td>여자</td>\n      <td>20</td>\n      <td>160</td>\n    </tr>\n  </tbody>\n</table>\n</div>"
     },
     "execution_count": 27,
     "metadata": {},
     "output_type": "execute_result"
    }
   ],
   "source": [
    "import pandas as pd\n",
    "\n",
    "list1 = [['한빛', '남자', 20, 180],\n",
    "             ['한결', '남자', 21, 177],\n",
    "             ['한라', '여자', 20, 160]]\n",
    "col_names = ['이름', '성별', '나이', '키']\n",
    "pd.DataFrame(list1, columns=col_names)"
   ]
  },
  {
   "cell_type": "code",
   "execution_count": 15,
   "outputs": [
    {
     "data": {
      "text/plain": "   이름  성별  나이    키\n0  한빛  남자  20  180\n1  한결  남자  21  177\n2  한라  여자  20  160",
      "text/html": "<div>\n<style scoped>\n    .dataframe tbody tr th:only-of-type {\n        vertical-align: middle;\n    }\n\n    .dataframe tbody tr th {\n        vertical-align: top;\n    }\n\n    .dataframe thead th {\n        text-align: right;\n    }\n</style>\n<table border=\"1\" class=\"dataframe\">\n  <thead>\n    <tr style=\"text-align: right;\">\n      <th></th>\n      <th>이름</th>\n      <th>성별</th>\n      <th>나이</th>\n      <th>키</th>\n    </tr>\n  </thead>\n  <tbody>\n    <tr>\n      <th>0</th>\n      <td>한빛</td>\n      <td>남자</td>\n      <td>20</td>\n      <td>180</td>\n    </tr>\n    <tr>\n      <th>1</th>\n      <td>한결</td>\n      <td>남자</td>\n      <td>21</td>\n      <td>177</td>\n    </tr>\n    <tr>\n      <th>2</th>\n      <td>한라</td>\n      <td>여자</td>\n      <td>20</td>\n      <td>160</td>\n    </tr>\n  </tbody>\n</table>\n</div>"
     },
     "execution_count": 15,
     "metadata": {},
     "output_type": "execute_result"
    }
   ],
   "source": [
    "import numpy as np\n",
    "\n",
    "arr1 = np.array([['한빛', '남자', 20, 180],\n",
    "             ['한결', '남자', 21, 177],\n",
    "             ['한라', '여자', 20, 160]])\n",
    "col_names = ['이름', '성별', '나이', '키']\n",
    "pd.DataFrame(arr1, columns=col_names)"
   ],
   "metadata": {
    "collapsed": false,
    "ExecuteTime": {
     "end_time": "2023-09-21T02:25:44.074505552Z",
     "start_time": "2023-09-21T02:25:44.024460361Z"
    }
   },
   "id": "c39dd478486b901"
  },
  {
   "cell_type": "code",
   "execution_count": 23,
   "outputs": [
    {
     "data": {
      "text/plain": "   번호    년도  카카오 함유량    평점\n0   1  2016     0.63  3.75\n1   2  2015     0.70  2.75\n2   3  2015     0.70  3.00\n3   4  2015     0.70  3.50\n4   5  2015     0.70  3.50\n5   6  2014     0.70  2.75\n6   7  2014     0.70  3.50\n7   8  2014     0.70  3.50",
      "text/html": "<div>\n<style scoped>\n    .dataframe tbody tr th:only-of-type {\n        vertical-align: middle;\n    }\n\n    .dataframe tbody tr th {\n        vertical-align: top;\n    }\n\n    .dataframe thead th {\n        text-align: right;\n    }\n</style>\n<table border=\"1\" class=\"dataframe\">\n  <thead>\n    <tr style=\"text-align: right;\">\n      <th></th>\n      <th>번호</th>\n      <th>년도</th>\n      <th>카카오 함유량</th>\n      <th>평점</th>\n    </tr>\n  </thead>\n  <tbody>\n    <tr>\n      <th>0</th>\n      <td>1</td>\n      <td>2016</td>\n      <td>0.63</td>\n      <td>3.75</td>\n    </tr>\n    <tr>\n      <th>1</th>\n      <td>2</td>\n      <td>2015</td>\n      <td>0.70</td>\n      <td>2.75</td>\n    </tr>\n    <tr>\n      <th>2</th>\n      <td>3</td>\n      <td>2015</td>\n      <td>0.70</td>\n      <td>3.00</td>\n    </tr>\n    <tr>\n      <th>3</th>\n      <td>4</td>\n      <td>2015</td>\n      <td>0.70</td>\n      <td>3.50</td>\n    </tr>\n    <tr>\n      <th>4</th>\n      <td>5</td>\n      <td>2015</td>\n      <td>0.70</td>\n      <td>3.50</td>\n    </tr>\n    <tr>\n      <th>5</th>\n      <td>6</td>\n      <td>2014</td>\n      <td>0.70</td>\n      <td>2.75</td>\n    </tr>\n    <tr>\n      <th>6</th>\n      <td>7</td>\n      <td>2014</td>\n      <td>0.70</td>\n      <td>3.50</td>\n    </tr>\n    <tr>\n      <th>7</th>\n      <td>8</td>\n      <td>2014</td>\n      <td>0.70</td>\n      <td>3.50</td>\n    </tr>\n  </tbody>\n</table>\n</div>"
     },
     "execution_count": 23,
     "metadata": {},
     "output_type": "execute_result"
    }
   ],
   "source": [
    "list2 = [\n",
    "    [1, 2016, 0.63, 3.75],\n",
    "    [2, 2015, 0.70, 2.75],\n",
    "    [3, 2015, 0.70, 3],\n",
    "    [4, 2015, 0.70, 3.5],\n",
    "    [5, 2015, 0.70, 3.5],\n",
    "    [6, 2014, 0.70, 2.75],\n",
    "    [7, 2014, 0.70, 3.5],\n",
    "    [8, 2014, 0.70, 3.5],\n",
    "]\n",
    "\n",
    "col_names=['번호','년도','카카오 함유량','평점']\n",
    "df = pd.DataFrame(list2, columns=col_names)\n",
    "df"
   ],
   "metadata": {
    "collapsed": false,
    "ExecuteTime": {
     "end_time": "2023-09-21T02:33:11.066418342Z",
     "start_time": "2023-09-21T02:33:11.014305646Z"
    }
   },
   "id": "6529226512f7ef36"
  },
  {
   "cell_type": "code",
   "execution_count": 24,
   "outputs": [],
   "source": [
    "df.to_csv('chocolate.csv', header=True, index=False, encoding='utf-8')"
   ],
   "metadata": {
    "collapsed": false,
    "ExecuteTime": {
     "end_time": "2023-09-21T02:33:12.841197127Z",
     "start_time": "2023-09-21T02:33:12.833950612Z"
    }
   },
   "id": "20323ef47d9bd036"
  },
  {
   "cell_type": "code",
   "execution_count": 28,
   "outputs": [
    {
     "data": {
      "text/plain": "   번호    년도  카카오 함유량    평점\n0   1  2016     0.63  3.75\n1   2  2015     0.70  2.75\n2   3  2015     0.70  3.00\n3   4  2015     0.70  3.50\n4   5  2015     0.70  3.50\n5   6  2014     0.70  2.75\n6   7  2014     0.70  3.50\n7   8  2014     0.70  3.50",
      "text/html": "<div>\n<style scoped>\n    .dataframe tbody tr th:only-of-type {\n        vertical-align: middle;\n    }\n\n    .dataframe tbody tr th {\n        vertical-align: top;\n    }\n\n    .dataframe thead th {\n        text-align: right;\n    }\n</style>\n<table border=\"1\" class=\"dataframe\">\n  <thead>\n    <tr style=\"text-align: right;\">\n      <th></th>\n      <th>번호</th>\n      <th>년도</th>\n      <th>카카오 함유량</th>\n      <th>평점</th>\n    </tr>\n  </thead>\n  <tbody>\n    <tr>\n      <th>0</th>\n      <td>1</td>\n      <td>2016</td>\n      <td>0.63</td>\n      <td>3.75</td>\n    </tr>\n    <tr>\n      <th>1</th>\n      <td>2</td>\n      <td>2015</td>\n      <td>0.70</td>\n      <td>2.75</td>\n    </tr>\n    <tr>\n      <th>2</th>\n      <td>3</td>\n      <td>2015</td>\n      <td>0.70</td>\n      <td>3.00</td>\n    </tr>\n    <tr>\n      <th>3</th>\n      <td>4</td>\n      <td>2015</td>\n      <td>0.70</td>\n      <td>3.50</td>\n    </tr>\n    <tr>\n      <th>4</th>\n      <td>5</td>\n      <td>2015</td>\n      <td>0.70</td>\n      <td>3.50</td>\n    </tr>\n    <tr>\n      <th>5</th>\n      <td>6</td>\n      <td>2014</td>\n      <td>0.70</td>\n      <td>2.75</td>\n    </tr>\n    <tr>\n      <th>6</th>\n      <td>7</td>\n      <td>2014</td>\n      <td>0.70</td>\n      <td>3.50</td>\n    </tr>\n    <tr>\n      <th>7</th>\n      <td>8</td>\n      <td>2014</td>\n      <td>0.70</td>\n      <td>3.50</td>\n    </tr>\n  </tbody>\n</table>\n</div>"
     },
     "execution_count": 28,
     "metadata": {},
     "output_type": "execute_result"
    }
   ],
   "source": [
    "df2 = pd.read_csv('chocolate.csv')\n",
    "df2"
   ],
   "metadata": {
    "collapsed": false,
    "ExecuteTime": {
     "end_time": "2023-09-21T02:38:00.878546220Z",
     "start_time": "2023-09-21T02:38:00.848992695Z"
    }
   },
   "id": "510e5113bd2d0be3"
  },
  {
   "cell_type": "code",
   "execution_count": 29,
   "outputs": [],
   "source": [
    "df.to_json('chocolate.json', orient=\"records\", force_ascii=False)"
   ],
   "metadata": {
    "collapsed": false,
    "ExecuteTime": {
     "end_time": "2023-09-21T02:42:24.081880441Z",
     "start_time": "2023-09-21T02:42:24.034061883Z"
    }
   },
   "id": "5952998f09753b82"
  },
  {
   "cell_type": "code",
   "execution_count": 31,
   "outputs": [
    {
     "data": {
      "text/plain": "Index(['번호', '년도', '카카오 함유량', '평점'], dtype='object')"
     },
     "execution_count": 31,
     "metadata": {},
     "output_type": "execute_result"
    }
   ],
   "source": [
    "\n",
    "df.columns"
   ],
   "metadata": {
    "collapsed": false,
    "ExecuteTime": {
     "end_time": "2023-09-21T02:44:23.814900625Z",
     "start_time": "2023-09-21T02:44:23.810053163Z"
    }
   },
   "id": "b68d219e8695d63e"
  },
  {
   "cell_type": "code",
   "execution_count": 32,
   "outputs": [
    {
     "data": {
      "text/plain": "            번호           년도   카카오 함유량        평점\ncount  8.00000     8.000000  8.000000  8.000000\nmean   4.50000  2014.750000  0.691250  3.281250\nstd    2.44949     0.707107  0.024749  0.388162\nmin    1.00000  2014.000000  0.630000  2.750000\n25%    2.75000  2014.000000  0.700000  2.937500\n50%    4.50000  2015.000000  0.700000  3.500000\n75%    6.25000  2015.000000  0.700000  3.500000\nmax    8.00000  2016.000000  0.700000  3.750000",
      "text/html": "<div>\n<style scoped>\n    .dataframe tbody tr th:only-of-type {\n        vertical-align: middle;\n    }\n\n    .dataframe tbody tr th {\n        vertical-align: top;\n    }\n\n    .dataframe thead th {\n        text-align: right;\n    }\n</style>\n<table border=\"1\" class=\"dataframe\">\n  <thead>\n    <tr style=\"text-align: right;\">\n      <th></th>\n      <th>번호</th>\n      <th>년도</th>\n      <th>카카오 함유량</th>\n      <th>평점</th>\n    </tr>\n  </thead>\n  <tbody>\n    <tr>\n      <th>count</th>\n      <td>8.00000</td>\n      <td>8.000000</td>\n      <td>8.000000</td>\n      <td>8.000000</td>\n    </tr>\n    <tr>\n      <th>mean</th>\n      <td>4.50000</td>\n      <td>2014.750000</td>\n      <td>0.691250</td>\n      <td>3.281250</td>\n    </tr>\n    <tr>\n      <th>std</th>\n      <td>2.44949</td>\n      <td>0.707107</td>\n      <td>0.024749</td>\n      <td>0.388162</td>\n    </tr>\n    <tr>\n      <th>min</th>\n      <td>1.00000</td>\n      <td>2014.000000</td>\n      <td>0.630000</td>\n      <td>2.750000</td>\n    </tr>\n    <tr>\n      <th>25%</th>\n      <td>2.75000</td>\n      <td>2014.000000</td>\n      <td>0.700000</td>\n      <td>2.937500</td>\n    </tr>\n    <tr>\n      <th>50%</th>\n      <td>4.50000</td>\n      <td>2015.000000</td>\n      <td>0.700000</td>\n      <td>3.500000</td>\n    </tr>\n    <tr>\n      <th>75%</th>\n      <td>6.25000</td>\n      <td>2015.000000</td>\n      <td>0.700000</td>\n      <td>3.500000</td>\n    </tr>\n    <tr>\n      <th>max</th>\n      <td>8.00000</td>\n      <td>2016.000000</td>\n      <td>0.700000</td>\n      <td>3.750000</td>\n    </tr>\n  </tbody>\n</table>\n</div>"
     },
     "execution_count": 32,
     "metadata": {},
     "output_type": "execute_result"
    }
   ],
   "source": [
    "# 통계정보확인\n",
    "df.describe()"
   ],
   "metadata": {
    "collapsed": false,
    "ExecuteTime": {
     "end_time": "2023-09-21T02:44:26.309459682Z",
     "start_time": "2023-09-21T02:44:26.294270912Z"
    }
   },
   "id": "7f8801ea6d56fde1"
  },
  {
   "cell_type": "code",
   "execution_count": 33,
   "outputs": [
    {
     "data": {
      "text/plain": "   번호    년도  카카오 함유량    평점\n0   1  2016     0.63  3.75\n1   2  2015     0.70  2.75\n2   3  2015     0.70  3.00\n3   4  2015     0.70  3.50\n4   5  2015     0.70  3.50",
      "text/html": "<div>\n<style scoped>\n    .dataframe tbody tr th:only-of-type {\n        vertical-align: middle;\n    }\n\n    .dataframe tbody tr th {\n        vertical-align: top;\n    }\n\n    .dataframe thead th {\n        text-align: right;\n    }\n</style>\n<table border=\"1\" class=\"dataframe\">\n  <thead>\n    <tr style=\"text-align: right;\">\n      <th></th>\n      <th>번호</th>\n      <th>년도</th>\n      <th>카카오 함유량</th>\n      <th>평점</th>\n    </tr>\n  </thead>\n  <tbody>\n    <tr>\n      <th>0</th>\n      <td>1</td>\n      <td>2016</td>\n      <td>0.63</td>\n      <td>3.75</td>\n    </tr>\n    <tr>\n      <th>1</th>\n      <td>2</td>\n      <td>2015</td>\n      <td>0.70</td>\n      <td>2.75</td>\n    </tr>\n    <tr>\n      <th>2</th>\n      <td>3</td>\n      <td>2015</td>\n      <td>0.70</td>\n      <td>3.00</td>\n    </tr>\n    <tr>\n      <th>3</th>\n      <td>4</td>\n      <td>2015</td>\n      <td>0.70</td>\n      <td>3.50</td>\n    </tr>\n    <tr>\n      <th>4</th>\n      <td>5</td>\n      <td>2015</td>\n      <td>0.70</td>\n      <td>3.50</td>\n    </tr>\n  </tbody>\n</table>\n</div>"
     },
     "execution_count": 33,
     "metadata": {},
     "output_type": "execute_result"
    }
   ],
   "source": [
    "df.head() #데이터가 많을때 앞에서부터 5개씩 잘라서 보여줌"
   ],
   "metadata": {
    "collapsed": false,
    "ExecuteTime": {
     "end_time": "2023-09-21T02:44:55.151395210Z",
     "start_time": "2023-09-21T02:44:55.144567478Z"
    }
   },
   "id": "ce2c9cced1006848"
  },
  {
   "cell_type": "code",
   "execution_count": 34,
   "outputs": [
    {
     "data": {
      "text/plain": "   번호    년도  카카오 함유량    평점\n3   4  2015      0.7  3.50\n4   5  2015      0.7  3.50\n5   6  2014      0.7  2.75\n6   7  2014      0.7  3.50\n7   8  2014      0.7  3.50",
      "text/html": "<div>\n<style scoped>\n    .dataframe tbody tr th:only-of-type {\n        vertical-align: middle;\n    }\n\n    .dataframe tbody tr th {\n        vertical-align: top;\n    }\n\n    .dataframe thead th {\n        text-align: right;\n    }\n</style>\n<table border=\"1\" class=\"dataframe\">\n  <thead>\n    <tr style=\"text-align: right;\">\n      <th></th>\n      <th>번호</th>\n      <th>년도</th>\n      <th>카카오 함유량</th>\n      <th>평점</th>\n    </tr>\n  </thead>\n  <tbody>\n    <tr>\n      <th>3</th>\n      <td>4</td>\n      <td>2015</td>\n      <td>0.7</td>\n      <td>3.50</td>\n    </tr>\n    <tr>\n      <th>4</th>\n      <td>5</td>\n      <td>2015</td>\n      <td>0.7</td>\n      <td>3.50</td>\n    </tr>\n    <tr>\n      <th>5</th>\n      <td>6</td>\n      <td>2014</td>\n      <td>0.7</td>\n      <td>2.75</td>\n    </tr>\n    <tr>\n      <th>6</th>\n      <td>7</td>\n      <td>2014</td>\n      <td>0.7</td>\n      <td>3.50</td>\n    </tr>\n    <tr>\n      <th>7</th>\n      <td>8</td>\n      <td>2014</td>\n      <td>0.7</td>\n      <td>3.50</td>\n    </tr>\n  </tbody>\n</table>\n</div>"
     },
     "execution_count": 34,
     "metadata": {},
     "output_type": "execute_result"
    }
   ],
   "source": [
    "df.tail() #데이터가 많을때 뒤에서부터 5개씩 잘라서 보여줌\n",
    "#df.tail(3) 뒤에서부터 3개씩 default 기본값이 5개씩인거임 안에 숫자쓰면 그 갯수만큼 보여줌"
   ],
   "metadata": {
    "collapsed": false,
    "ExecuteTime": {
     "end_time": "2023-09-21T02:45:23.304430541Z",
     "start_time": "2023-09-21T02:45:23.275842377Z"
    }
   },
   "id": "5bd0fe8d58fafef"
  },
  {
   "cell_type": "code",
   "execution_count": 35,
   "outputs": [
    {
     "data": {
      "text/plain": "     0   1   2    3\n0  허준호  남자  30  183\n1  이가원  여자  24  162\n2  배규민  남자  23  179\n3  고고림  남자  21  182\n4  이새봄  여자  28  160\n5  이보람  여자  26  163\n6  이루리  여자  24  157\n7  오다현  여자  24  172",
      "text/html": "<div>\n<style scoped>\n    .dataframe tbody tr th:only-of-type {\n        vertical-align: middle;\n    }\n\n    .dataframe tbody tr th {\n        vertical-align: top;\n    }\n\n    .dataframe thead th {\n        text-align: right;\n    }\n</style>\n<table border=\"1\" class=\"dataframe\">\n  <thead>\n    <tr style=\"text-align: right;\">\n      <th></th>\n      <th>0</th>\n      <th>1</th>\n      <th>2</th>\n      <th>3</th>\n    </tr>\n  </thead>\n  <tbody>\n    <tr>\n      <th>0</th>\n      <td>허준호</td>\n      <td>남자</td>\n      <td>30</td>\n      <td>183</td>\n    </tr>\n    <tr>\n      <th>1</th>\n      <td>이가원</td>\n      <td>여자</td>\n      <td>24</td>\n      <td>162</td>\n    </tr>\n    <tr>\n      <th>2</th>\n      <td>배규민</td>\n      <td>남자</td>\n      <td>23</td>\n      <td>179</td>\n    </tr>\n    <tr>\n      <th>3</th>\n      <td>고고림</td>\n      <td>남자</td>\n      <td>21</td>\n      <td>182</td>\n    </tr>\n    <tr>\n      <th>4</th>\n      <td>이새봄</td>\n      <td>여자</td>\n      <td>28</td>\n      <td>160</td>\n    </tr>\n    <tr>\n      <th>5</th>\n      <td>이보람</td>\n      <td>여자</td>\n      <td>26</td>\n      <td>163</td>\n    </tr>\n    <tr>\n      <th>6</th>\n      <td>이루리</td>\n      <td>여자</td>\n      <td>24</td>\n      <td>157</td>\n    </tr>\n    <tr>\n      <th>7</th>\n      <td>오다현</td>\n      <td>여자</td>\n      <td>24</td>\n      <td>172</td>\n    </tr>\n  </tbody>\n</table>\n</div>"
     },
     "execution_count": 35,
     "metadata": {},
     "output_type": "execute_result"
    }
   ],
   "source": [
    "df3 = pd.read_csv('student.csv', header=None)\n",
    "df3"
   ],
   "metadata": {
    "collapsed": false,
    "ExecuteTime": {
     "end_time": "2023-09-21T03:07:37.406050702Z",
     "start_time": "2023-09-21T03:07:37.361203820Z"
    }
   },
   "id": "5367d2be1da6b87f"
  },
  {
   "cell_type": "code",
   "execution_count": 36,
   "outputs": [
    {
     "data": {
      "text/plain": "     0   1   2    3\n2  배규민  남자  23  179\n3  고고림  남자  21  182",
      "text/html": "<div>\n<style scoped>\n    .dataframe tbody tr th:only-of-type {\n        vertical-align: middle;\n    }\n\n    .dataframe tbody tr th {\n        vertical-align: top;\n    }\n\n    .dataframe thead th {\n        text-align: right;\n    }\n</style>\n<table border=\"1\" class=\"dataframe\">\n  <thead>\n    <tr style=\"text-align: right;\">\n      <th></th>\n      <th>0</th>\n      <th>1</th>\n      <th>2</th>\n      <th>3</th>\n    </tr>\n  </thead>\n  <tbody>\n    <tr>\n      <th>2</th>\n      <td>배규민</td>\n      <td>남자</td>\n      <td>23</td>\n      <td>179</td>\n    </tr>\n    <tr>\n      <th>3</th>\n      <td>고고림</td>\n      <td>남자</td>\n      <td>21</td>\n      <td>182</td>\n    </tr>\n  </tbody>\n</table>\n</div>"
     },
     "execution_count": 36,
     "metadata": {},
     "output_type": "execute_result"
    }
   ],
   "source": [
    "df3[df3[2].isin([21,23])]"
   ],
   "metadata": {
    "collapsed": false,
    "ExecuteTime": {
     "end_time": "2023-09-21T03:10:09.785598925Z",
     "start_time": "2023-09-21T03:10:09.737974886Z"
    }
   },
   "id": "247df3fdb4df770b"
  },
  {
   "cell_type": "code",
   "execution_count": 37,
   "outputs": [
    {
     "data": {
      "text/plain": "     0   1   2    3\n1  이가원  여자  24  162\n5  이보람  여자  26  163\n7  오다현  여자  24  172",
      "text/html": "<div>\n<style scoped>\n    .dataframe tbody tr th:only-of-type {\n        vertical-align: middle;\n    }\n\n    .dataframe tbody tr th {\n        vertical-align: top;\n    }\n\n    .dataframe thead th {\n        text-align: right;\n    }\n</style>\n<table border=\"1\" class=\"dataframe\">\n  <thead>\n    <tr style=\"text-align: right;\">\n      <th></th>\n      <th>0</th>\n      <th>1</th>\n      <th>2</th>\n      <th>3</th>\n    </tr>\n  </thead>\n  <tbody>\n    <tr>\n      <th>1</th>\n      <td>이가원</td>\n      <td>여자</td>\n      <td>24</td>\n      <td>162</td>\n    </tr>\n    <tr>\n      <th>5</th>\n      <td>이보람</td>\n      <td>여자</td>\n      <td>26</td>\n      <td>163</td>\n    </tr>\n    <tr>\n      <th>7</th>\n      <td>오다현</td>\n      <td>여자</td>\n      <td>24</td>\n      <td>172</td>\n    </tr>\n  </tbody>\n</table>\n</div>"
     },
     "execution_count": 37,
     "metadata": {},
     "output_type": "execute_result"
    }
   ],
   "source": [
    "df3[(df3[1] == '여자') & (df3[3]> 160)]"
   ],
   "metadata": {
    "collapsed": false,
    "ExecuteTime": {
     "end_time": "2023-09-21T03:10:38.857603612Z",
     "start_time": "2023-09-21T03:10:38.814354143Z"
    }
   },
   "id": "bd693687f92de79c"
  },
  {
   "cell_type": "code",
   "execution_count": 45,
   "outputs": [
    {
     "data": {
      "text/plain": "     0   1   2    3\n0  허준호  남자  30  183\n2  배규민  남자  23  179\n3  고고림  남자  21  182\n4  이새봄  여자  28  160",
      "text/html": "<div>\n<style scoped>\n    .dataframe tbody tr th:only-of-type {\n        vertical-align: middle;\n    }\n\n    .dataframe tbody tr th {\n        vertical-align: top;\n    }\n\n    .dataframe thead th {\n        text-align: right;\n    }\n</style>\n<table border=\"1\" class=\"dataframe\">\n  <thead>\n    <tr style=\"text-align: right;\">\n      <th></th>\n      <th>0</th>\n      <th>1</th>\n      <th>2</th>\n      <th>3</th>\n    </tr>\n  </thead>\n  <tbody>\n    <tr>\n      <th>0</th>\n      <td>허준호</td>\n      <td>남자</td>\n      <td>30</td>\n      <td>183</td>\n    </tr>\n    <tr>\n      <th>2</th>\n      <td>배규민</td>\n      <td>남자</td>\n      <td>23</td>\n      <td>179</td>\n    </tr>\n    <tr>\n      <th>3</th>\n      <td>고고림</td>\n      <td>남자</td>\n      <td>21</td>\n      <td>182</td>\n    </tr>\n    <tr>\n      <th>4</th>\n      <td>이새봄</td>\n      <td>여자</td>\n      <td>28</td>\n      <td>160</td>\n    </tr>\n  </tbody>\n</table>\n</div>"
     },
     "execution_count": 45,
     "metadata": {},
     "output_type": "execute_result"
    }
   ],
   "source": [
    "#28세 이상이거나 남자인 사람를 조회하시오.\n",
    "df3[(df3[1]=='남자') | (df3[2] >= 28)]"
   ],
   "metadata": {
    "collapsed": false,
    "ExecuteTime": {
     "end_time": "2023-09-21T03:13:42.187514356Z",
     "start_time": "2023-09-21T03:13:42.183281043Z"
    }
   },
   "id": "4dada93831a8c797"
  },
  {
   "cell_type": "code",
   "execution_count": 46,
   "outputs": [
    {
     "data": {
      "text/plain": "     0   1   2    3\n4  이새봄  여자  28  160",
      "text/html": "<div>\n<style scoped>\n    .dataframe tbody tr th:only-of-type {\n        vertical-align: middle;\n    }\n\n    .dataframe tbody tr th {\n        vertical-align: top;\n    }\n\n    .dataframe thead th {\n        text-align: right;\n    }\n</style>\n<table border=\"1\" class=\"dataframe\">\n  <thead>\n    <tr style=\"text-align: right;\">\n      <th></th>\n      <th>0</th>\n      <th>1</th>\n      <th>2</th>\n      <th>3</th>\n    </tr>\n  </thead>\n  <tbody>\n    <tr>\n      <th>4</th>\n      <td>이새봄</td>\n      <td>여자</td>\n      <td>28</td>\n      <td>160</td>\n    </tr>\n  </tbody>\n</table>\n</div>"
     },
     "execution_count": 46,
     "metadata": {},
     "output_type": "execute_result"
    }
   ],
   "source": [
    "# 이름에 봄이 들어간 사람을 조회하시오( 문자열은 str.__contains__('찾는문자 ')) 함수를 사용하면 포함여부 알수있다\n",
    "df3[df3[0].str.contains('봄')]"
   ],
   "metadata": {
    "collapsed": false,
    "ExecuteTime": {
     "end_time": "2023-09-21T03:16:50.526728574Z",
     "start_time": "2023-09-21T03:16:50.484874407Z"
    }
   },
   "id": "66804c169788a938"
  },
  {
   "cell_type": "code",
   "execution_count": 47,
   "outputs": [
    {
     "data": {
      "text/plain": "     0   1   2    3\n1  이가원  여자  24  162\n4  이새봄  여자  28  160\n5  이보람  여자  26  163\n6  이루리  여자  24  157",
      "text/html": "<div>\n<style scoped>\n    .dataframe tbody tr th:only-of-type {\n        vertical-align: middle;\n    }\n\n    .dataframe tbody tr th {\n        vertical-align: top;\n    }\n\n    .dataframe thead th {\n        text-align: right;\n    }\n</style>\n<table border=\"1\" class=\"dataframe\">\n  <thead>\n    <tr style=\"text-align: right;\">\n      <th></th>\n      <th>0</th>\n      <th>1</th>\n      <th>2</th>\n      <th>3</th>\n    </tr>\n  </thead>\n  <tbody>\n    <tr>\n      <th>1</th>\n      <td>이가원</td>\n      <td>여자</td>\n      <td>24</td>\n      <td>162</td>\n    </tr>\n    <tr>\n      <th>4</th>\n      <td>이새봄</td>\n      <td>여자</td>\n      <td>28</td>\n      <td>160</td>\n    </tr>\n    <tr>\n      <th>5</th>\n      <td>이보람</td>\n      <td>여자</td>\n      <td>26</td>\n      <td>163</td>\n    </tr>\n    <tr>\n      <th>6</th>\n      <td>이루리</td>\n      <td>여자</td>\n      <td>24</td>\n      <td>157</td>\n    </tr>\n  </tbody>\n</table>\n</div>"
     },
     "execution_count": 47,
     "metadata": {},
     "output_type": "execute_result"
    }
   ],
   "source": [
    "df3[df3[0].str.startswith('이')]"
   ],
   "metadata": {
    "collapsed": false,
    "ExecuteTime": {
     "end_time": "2023-09-21T03:18:04.401849748Z",
     "start_time": "2023-09-21T03:18:04.360416918Z"
    }
   },
   "id": "a76a9d0ce0c84fa7"
  },
  {
   "cell_type": "code",
   "execution_count": 48,
   "outputs": [
    {
     "data": {
      "text/plain": "     0   1   2    3\n5  이보람  여자  26  163",
      "text/html": "<div>\n<style scoped>\n    .dataframe tbody tr th:only-of-type {\n        vertical-align: middle;\n    }\n\n    .dataframe tbody tr th {\n        vertical-align: top;\n    }\n\n    .dataframe thead th {\n        text-align: right;\n    }\n</style>\n<table border=\"1\" class=\"dataframe\">\n  <thead>\n    <tr style=\"text-align: right;\">\n      <th></th>\n      <th>0</th>\n      <th>1</th>\n      <th>2</th>\n      <th>3</th>\n    </tr>\n  </thead>\n  <tbody>\n    <tr>\n      <th>5</th>\n      <td>이보람</td>\n      <td>여자</td>\n      <td>26</td>\n      <td>163</td>\n    </tr>\n  </tbody>\n</table>\n</div>"
     },
     "execution_count": 48,
     "metadata": {},
     "output_type": "execute_result"
    }
   ],
   "source": [
    "df3[df3[0].str.endswith('람')]"
   ],
   "metadata": {
    "collapsed": false,
    "ExecuteTime": {
     "end_time": "2023-09-21T03:18:39.093472135Z",
     "start_time": "2023-09-21T03:18:39.072438408Z"
    }
   },
   "id": "ce13eb4298ff28d1"
  },
  {
   "cell_type": "code",
   "execution_count": 49,
   "outputs": [
    {
     "data": {
      "text/plain": "0    고고림\n1     남자\n2     21\n3    182\nName: 3, dtype: object"
     },
     "execution_count": 49,
     "metadata": {},
     "output_type": "execute_result"
    }
   ],
   "source": [
    "# pandas 접근법\n",
    "# loc : location\n",
    "# iloc : index location\n",
    "df3.iloc[3]"
   ],
   "metadata": {
    "collapsed": false,
    "ExecuteTime": {
     "end_time": "2023-09-21T03:21:53.073553285Z",
     "start_time": "2023-09-21T03:21:53.031895440Z"
    }
   },
   "id": "ad8bfe273cf919bd"
  },
  {
   "cell_type": "code",
   "execution_count": 50,
   "outputs": [
    {
     "data": {
      "text/plain": "     0   1   2    3\n0  허준호  남자  30  183\n1  이가원  여자  24  162\n2  배규민  남자  23  179\n3  고고림  남자  21  182\n4  이새봄  여자  28  165\n5  이보람  여자  26  163\n6  이루리  여자  24  157\n7  오다현  여자  24  172",
      "text/html": "<div>\n<style scoped>\n    .dataframe tbody tr th:only-of-type {\n        vertical-align: middle;\n    }\n\n    .dataframe tbody tr th {\n        vertical-align: top;\n    }\n\n    .dataframe thead th {\n        text-align: right;\n    }\n</style>\n<table border=\"1\" class=\"dataframe\">\n  <thead>\n    <tr style=\"text-align: right;\">\n      <th></th>\n      <th>0</th>\n      <th>1</th>\n      <th>2</th>\n      <th>3</th>\n    </tr>\n  </thead>\n  <tbody>\n    <tr>\n      <th>0</th>\n      <td>허준호</td>\n      <td>남자</td>\n      <td>30</td>\n      <td>183</td>\n    </tr>\n    <tr>\n      <th>1</th>\n      <td>이가원</td>\n      <td>여자</td>\n      <td>24</td>\n      <td>162</td>\n    </tr>\n    <tr>\n      <th>2</th>\n      <td>배규민</td>\n      <td>남자</td>\n      <td>23</td>\n      <td>179</td>\n    </tr>\n    <tr>\n      <th>3</th>\n      <td>고고림</td>\n      <td>남자</td>\n      <td>21</td>\n      <td>182</td>\n    </tr>\n    <tr>\n      <th>4</th>\n      <td>이새봄</td>\n      <td>여자</td>\n      <td>28</td>\n      <td>165</td>\n    </tr>\n    <tr>\n      <th>5</th>\n      <td>이보람</td>\n      <td>여자</td>\n      <td>26</td>\n      <td>163</td>\n    </tr>\n    <tr>\n      <th>6</th>\n      <td>이루리</td>\n      <td>여자</td>\n      <td>24</td>\n      <td>157</td>\n    </tr>\n    <tr>\n      <th>7</th>\n      <td>오다현</td>\n      <td>여자</td>\n      <td>24</td>\n      <td>172</td>\n    </tr>\n  </tbody>\n</table>\n</div>"
     },
     "execution_count": 50,
     "metadata": {},
     "output_type": "execute_result"
    }
   ],
   "source": [
    "df3.loc[4,3] = df3.loc[4,3] +5  #키를 5센치 더해준다\n",
    "df3"
   ],
   "metadata": {
    "collapsed": false,
    "ExecuteTime": {
     "end_time": "2023-09-21T03:25:28.055937925Z",
     "start_time": "2023-09-21T03:25:28.011379959Z"
    }
   },
   "id": "fd9d0b32ae41c323"
  },
  {
   "cell_type": "code",
   "execution_count": 52,
   "outputs": [
    {
     "name": "stderr",
     "output_type": "stream",
     "text": [
      "/tmp/ipykernel_25065/1155913213.py:1: FutureWarning: Setting an item of incompatible dtype is deprecated and will raise in a future error of pandas. Value '['없음', '없음', '없음']' has dtype incompatible with int64, please explicitly cast to a compatible dtype first.\n",
      "  df3.iloc[1:4,3] =['없음']*3\n"
     ]
    },
    {
     "data": {
      "text/plain": "     0   1   2    3\n0  허준호  남자  30  183\n1  이가원  여자  24   없음\n2  배규민  남자  23   없음\n3  고고림  남자  21   없음\n4  이새봄  여자  28  165\n5  이보람  여자  26  163\n6  이루리  여자  24  157\n7  오다현  여자  24  172",
      "text/html": "<div>\n<style scoped>\n    .dataframe tbody tr th:only-of-type {\n        vertical-align: middle;\n    }\n\n    .dataframe tbody tr th {\n        vertical-align: top;\n    }\n\n    .dataframe thead th {\n        text-align: right;\n    }\n</style>\n<table border=\"1\" class=\"dataframe\">\n  <thead>\n    <tr style=\"text-align: right;\">\n      <th></th>\n      <th>0</th>\n      <th>1</th>\n      <th>2</th>\n      <th>3</th>\n    </tr>\n  </thead>\n  <tbody>\n    <tr>\n      <th>0</th>\n      <td>허준호</td>\n      <td>남자</td>\n      <td>30</td>\n      <td>183</td>\n    </tr>\n    <tr>\n      <th>1</th>\n      <td>이가원</td>\n      <td>여자</td>\n      <td>24</td>\n      <td>없음</td>\n    </tr>\n    <tr>\n      <th>2</th>\n      <td>배규민</td>\n      <td>남자</td>\n      <td>23</td>\n      <td>없음</td>\n    </tr>\n    <tr>\n      <th>3</th>\n      <td>고고림</td>\n      <td>남자</td>\n      <td>21</td>\n      <td>없음</td>\n    </tr>\n    <tr>\n      <th>4</th>\n      <td>이새봄</td>\n      <td>여자</td>\n      <td>28</td>\n      <td>165</td>\n    </tr>\n    <tr>\n      <th>5</th>\n      <td>이보람</td>\n      <td>여자</td>\n      <td>26</td>\n      <td>163</td>\n    </tr>\n    <tr>\n      <th>6</th>\n      <td>이루리</td>\n      <td>여자</td>\n      <td>24</td>\n      <td>157</td>\n    </tr>\n    <tr>\n      <th>7</th>\n      <td>오다현</td>\n      <td>여자</td>\n      <td>24</td>\n      <td>172</td>\n    </tr>\n  </tbody>\n</table>\n</div>"
     },
     "execution_count": 52,
     "metadata": {},
     "output_type": "execute_result"
    }
   ],
   "source": [
    "df3.iloc[1:4,3] =['없음']*3\n",
    "df3"
   ],
   "metadata": {
    "collapsed": false,
    "ExecuteTime": {
     "end_time": "2023-09-21T03:30:49.370357693Z",
     "start_time": "2023-09-21T03:30:49.357892758Z"
    }
   },
   "id": "ae64dd6141306895"
  },
  {
   "cell_type": "code",
   "execution_count": 53,
   "outputs": [
    {
     "data": {
      "text/plain": "     0   1   2    3\n0  허준호  남자  30  183\n1  이가원  여자  24  162\n2  배규민  남자  23  179\n3  고고림  남자  21  182\n4  이새봄  여자  28  165\n5  이보람  여자  26  163\n6  이루리  여자  24  157\n7  오다현  여자  24  172",
      "text/html": "<div>\n<style scoped>\n    .dataframe tbody tr th:only-of-type {\n        vertical-align: middle;\n    }\n\n    .dataframe tbody tr th {\n        vertical-align: top;\n    }\n\n    .dataframe thead th {\n        text-align: right;\n    }\n</style>\n<table border=\"1\" class=\"dataframe\">\n  <thead>\n    <tr style=\"text-align: right;\">\n      <th></th>\n      <th>0</th>\n      <th>1</th>\n      <th>2</th>\n      <th>3</th>\n    </tr>\n  </thead>\n  <tbody>\n    <tr>\n      <th>0</th>\n      <td>허준호</td>\n      <td>남자</td>\n      <td>30</td>\n      <td>183</td>\n    </tr>\n    <tr>\n      <th>1</th>\n      <td>이가원</td>\n      <td>여자</td>\n      <td>24</td>\n      <td>162</td>\n    </tr>\n    <tr>\n      <th>2</th>\n      <td>배규민</td>\n      <td>남자</td>\n      <td>23</td>\n      <td>179</td>\n    </tr>\n    <tr>\n      <th>3</th>\n      <td>고고림</td>\n      <td>남자</td>\n      <td>21</td>\n      <td>182</td>\n    </tr>\n    <tr>\n      <th>4</th>\n      <td>이새봄</td>\n      <td>여자</td>\n      <td>28</td>\n      <td>165</td>\n    </tr>\n    <tr>\n      <th>5</th>\n      <td>이보람</td>\n      <td>여자</td>\n      <td>26</td>\n      <td>163</td>\n    </tr>\n    <tr>\n      <th>6</th>\n      <td>이루리</td>\n      <td>여자</td>\n      <td>24</td>\n      <td>157</td>\n    </tr>\n    <tr>\n      <th>7</th>\n      <td>오다현</td>\n      <td>여자</td>\n      <td>24</td>\n      <td>172</td>\n    </tr>\n  </tbody>\n</table>\n</div>"
     },
     "execution_count": 53,
     "metadata": {},
     "output_type": "execute_result"
    }
   ],
   "source": [
    "df3.iloc[1:4, 3] = [162, 179, 182]\n",
    "df3"
   ],
   "metadata": {
    "collapsed": false,
    "ExecuteTime": {
     "end_time": "2023-09-21T03:31:12.673378816Z",
     "start_time": "2023-09-21T03:31:12.616622590Z"
    }
   },
   "id": "d55bb4296619a256"
  },
  {
   "cell_type": "code",
   "execution_count": 54,
   "outputs": [
    {
     "data": {
      "text/plain": "     0   1   2    3      4\n0  허준호  남자  30  183  30000\n1  이가원  여자  24  162  24000\n2  배규민  남자  23  179  23000\n3  고고림  남자  21  182  21000\n4  이새봄  여자  28  165  28000\n5  이보람  여자  26  163  26000\n6  이루리  여자  24  157  24000\n7  오다현  여자  24  172  24000",
      "text/html": "<div>\n<style scoped>\n    .dataframe tbody tr th:only-of-type {\n        vertical-align: middle;\n    }\n\n    .dataframe tbody tr th {\n        vertical-align: top;\n    }\n\n    .dataframe thead th {\n        text-align: right;\n    }\n</style>\n<table border=\"1\" class=\"dataframe\">\n  <thead>\n    <tr style=\"text-align: right;\">\n      <th></th>\n      <th>0</th>\n      <th>1</th>\n      <th>2</th>\n      <th>3</th>\n      <th>4</th>\n    </tr>\n  </thead>\n  <tbody>\n    <tr>\n      <th>0</th>\n      <td>허준호</td>\n      <td>남자</td>\n      <td>30</td>\n      <td>183</td>\n      <td>30000</td>\n    </tr>\n    <tr>\n      <th>1</th>\n      <td>이가원</td>\n      <td>여자</td>\n      <td>24</td>\n      <td>162</td>\n      <td>24000</td>\n    </tr>\n    <tr>\n      <th>2</th>\n      <td>배규민</td>\n      <td>남자</td>\n      <td>23</td>\n      <td>179</td>\n      <td>23000</td>\n    </tr>\n    <tr>\n      <th>3</th>\n      <td>고고림</td>\n      <td>남자</td>\n      <td>21</td>\n      <td>182</td>\n      <td>21000</td>\n    </tr>\n    <tr>\n      <th>4</th>\n      <td>이새봄</td>\n      <td>여자</td>\n      <td>28</td>\n      <td>165</td>\n      <td>28000</td>\n    </tr>\n    <tr>\n      <th>5</th>\n      <td>이보람</td>\n      <td>여자</td>\n      <td>26</td>\n      <td>163</td>\n      <td>26000</td>\n    </tr>\n    <tr>\n      <th>6</th>\n      <td>이루리</td>\n      <td>여자</td>\n      <td>24</td>\n      <td>157</td>\n      <td>24000</td>\n    </tr>\n    <tr>\n      <th>7</th>\n      <td>오다현</td>\n      <td>여자</td>\n      <td>24</td>\n      <td>172</td>\n      <td>24000</td>\n    </tr>\n  </tbody>\n</table>\n</div>"
     },
     "execution_count": 54,
     "metadata": {},
     "output_type": "execute_result"
    }
   ],
   "source": [
    "#열 생성\n",
    "df3[4]=df3[2] *1000\n",
    "df3"
   ],
   "metadata": {
    "collapsed": false,
    "ExecuteTime": {
     "end_time": "2023-09-21T03:33:37.186973510Z",
     "start_time": "2023-09-21T03:33:37.113987267Z"
    }
   },
   "id": "92095db41f68052f"
  },
  {
   "cell_type": "code",
   "execution_count": 56,
   "outputs": [
    {
     "data": {
      "text/plain": "     0  1   2    3      4\n0  허준호  0  30  183  30000\n1  이가원  1  24  162  24000\n2  배규민  0  23  179  23000\n3  고고림  0  21  182  21000\n4  이새봄  1  28  165  28000\n5  이보람  1  26  163  26000\n6  이루리  1  24  157  24000\n7  오다현  1  24  172  24000",
      "text/html": "<div>\n<style scoped>\n    .dataframe tbody tr th:only-of-type {\n        vertical-align: middle;\n    }\n\n    .dataframe tbody tr th {\n        vertical-align: top;\n    }\n\n    .dataframe thead th {\n        text-align: right;\n    }\n</style>\n<table border=\"1\" class=\"dataframe\">\n  <thead>\n    <tr style=\"text-align: right;\">\n      <th></th>\n      <th>0</th>\n      <th>1</th>\n      <th>2</th>\n      <th>3</th>\n      <th>4</th>\n    </tr>\n  </thead>\n  <tbody>\n    <tr>\n      <th>0</th>\n      <td>허준호</td>\n      <td>0</td>\n      <td>30</td>\n      <td>183</td>\n      <td>30000</td>\n    </tr>\n    <tr>\n      <th>1</th>\n      <td>이가원</td>\n      <td>1</td>\n      <td>24</td>\n      <td>162</td>\n      <td>24000</td>\n    </tr>\n    <tr>\n      <th>2</th>\n      <td>배규민</td>\n      <td>0</td>\n      <td>23</td>\n      <td>179</td>\n      <td>23000</td>\n    </tr>\n    <tr>\n      <th>3</th>\n      <td>고고림</td>\n      <td>0</td>\n      <td>21</td>\n      <td>182</td>\n      <td>21000</td>\n    </tr>\n    <tr>\n      <th>4</th>\n      <td>이새봄</td>\n      <td>1</td>\n      <td>28</td>\n      <td>165</td>\n      <td>28000</td>\n    </tr>\n    <tr>\n      <th>5</th>\n      <td>이보람</td>\n      <td>1</td>\n      <td>26</td>\n      <td>163</td>\n      <td>26000</td>\n    </tr>\n    <tr>\n      <th>6</th>\n      <td>이루리</td>\n      <td>1</td>\n      <td>24</td>\n      <td>157</td>\n      <td>24000</td>\n    </tr>\n    <tr>\n      <th>7</th>\n      <td>오다현</td>\n      <td>1</td>\n      <td>24</td>\n      <td>172</td>\n      <td>24000</td>\n    </tr>\n  </tbody>\n</table>\n</div>"
     },
     "execution_count": 56,
     "metadata": {},
     "output_type": "execute_result"
    }
   ],
   "source": [
    "replace_condition = {1: {'남자':0, '여자': 1}}\n",
    "df4 = df3.replace(replace_condition)\n",
    "df4"
   ],
   "metadata": {
    "collapsed": false,
    "ExecuteTime": {
     "end_time": "2023-09-21T03:37:10.309012508Z",
     "start_time": "2023-09-21T03:37:10.244285332Z"
    }
   },
   "id": "b281dff19ec65ab4"
  },
  {
   "cell_type": "code",
   "execution_count": 1,
   "outputs": [
    {
     "ename": "NameError",
     "evalue": "name 'df4' is not defined",
     "output_type": "error",
     "traceback": [
      "\u001B[0;31m---------------------------------------------------------------------------\u001B[0m",
      "\u001B[0;31mNameError\u001B[0m                                 Traceback (most recent call last)",
      "Cell \u001B[0;32mIn[1], line 2\u001B[0m\n\u001B[1;32m      1\u001B[0m \u001B[38;5;66;03m# 성별로 키 평균\u001B[39;00m\n\u001B[0;32m----> 2\u001B[0m mean_by_gender \u001B[38;5;241m=\u001B[39m \u001B[43mdf4\u001B[49m\u001B[38;5;241m.\u001B[39mgroupby(by\u001B[38;5;241m=\u001B[39m\u001B[38;5;241m1\u001B[39m, as_index\u001B[38;5;241m=\u001B[39m\u001B[38;5;28;01mFalse\u001B[39;00m)[\u001B[38;5;241m3\u001B[39m]\u001B[38;5;241m.\u001B[39mmean()\n\u001B[1;32m      3\u001B[0m mean_by_gender\u001B[38;5;241m.\u001B[39mrename(columns\u001B[38;5;241m=\u001B[39m{\u001B[38;5;241m1\u001B[39m:\u001B[38;5;124m'\u001B[39m\u001B[38;5;124m성별\u001B[39m\u001B[38;5;124m'\u001B[39m,\u001B[38;5;241m3\u001B[39m:\u001B[38;5;124m'\u001B[39m\u001B[38;5;124m평균키\u001B[39m\u001B[38;5;124m'\u001B[39m}, inplace\u001B[38;5;241m=\u001B[39m\u001B[38;5;28;01mTrue\u001B[39;00m)\n\u001B[1;32m      5\u001B[0m \u001B[38;5;66;03m# 성별 키의 표준편차\u001B[39;00m\n\u001B[1;32m      6\u001B[0m \u001B[38;5;66;03m# std_by_gender = df4.groupby(by=1, as_index=False)[3].std()\u001B[39;00m\n\u001B[1;32m      7\u001B[0m \u001B[38;5;66;03m# std_by_gender.rename(columns={1:'성별',3:'표준편차'}, inplace=True)\u001B[39;00m\n",
      "\u001B[0;31mNameError\u001B[0m: name 'df4' is not defined"
     ]
    }
   ],
   "source": [
    "# 성별로 키 평균\n",
    "mean_by_gender = df4.groupby(by=1, as_index=False)[3].mean()\n",
    "mean_by_gender.rename(columns={1:'성별',3:'평균키'}, inplace=True)\n",
    "\n",
    "# 성별 키의 표준편차\n",
    "std_by_gender = df4.groupby(by=1, as_index=False)[3].std()\n",
    "std_by_gender.rename(columns={1:'성별',3:'표준편차'}, inplace=True)\n",
    "\n",
    "new_df= pd.merge(mean_by_gender,std_by_gender)\n",
    "new_df\n"
   ],
   "metadata": {
    "collapsed": false,
    "ExecuteTime": {
     "end_time": "2023-09-25T08:53:41.267897040Z",
     "start_time": "2023-09-25T08:53:41.076351372Z"
    }
   },
   "id": "ff5bf676954c2688"
  }
 ],
 "metadata": {
  "kernelspec": {
   "display_name": "Python 3",
   "language": "python",
   "name": "python3"
  },
  "language_info": {
   "codemirror_mode": {
    "name": "ipython",
    "version": 2
   },
   "file_extension": ".py",
   "mimetype": "text/x-python",
   "name": "python",
   "nbconvert_exporter": "python",
   "pygments_lexer": "ipython2",
   "version": "2.7.6"
  }
 },
 "nbformat": 4,
 "nbformat_minor": 5
}
