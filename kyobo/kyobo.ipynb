{
 "cells": [
  {
   "cell_type": "code",
   "execution_count": null,
   "id": "initial_id",
   "metadata": {
    "collapsed": true
   },
   "outputs": [],
   "source": [
    "\n",
    "\n",
    "from urllib.request import urlopen\n",
    "from bs4 import BeautifulSoup\n",
    "from debugpy._vendored.pydevd.pydevd_plugins.extensions.types.pydevd_helpers import find_class_name\n",
    "\n",
    "results = []\n",
    "\n",
    "for pageNo in range(1,2):\\\n",
    "    \n",
    "    hollys_url = f\"https://search.kyobobook.co.kr/search?keyword=mbti&target=total&gbCode=TOT&page={pageNo}\"\n",
    "    html = urlopen(hollys_url)\n",
    "    soup = BeautifulSoup(html, 'html.parser') #new bs4.BeautifulSoup();\n",
    "    tbody= soup.find('tbody')\n",
    "    for mbti in tbody.find_all(find_class_name('prod_item')):\n",
    "        # //*[@id=\"cmdtName_S000210658892\"]\n",
    "        td = mbti.find_all(find_class_name(\"prod_item\"))\n",
    "        store_sido = td[0].string\n",
    "        store_name= td[1].string\n",
    "        store_active = td[2].string\n",
    "        store_address = td[3].string\n",
    "        store_phone = td[5].string\n",
    "        results.append([store_name]+[store_sido]+[store_address]+[store_phone]+[store_active])\n",
    "        \n",
    "print(results)"
   ]
  }
 ],
 "metadata": {
  "kernelspec": {
   "display_name": "Python 3",
   "language": "python",
   "name": "python3"
  },
  "language_info": {
   "codemirror_mode": {
    "name": "ipython",
    "version": 2
   },
   "file_extension": ".py",
   "mimetype": "text/x-python",
   "name": "python",
   "nbconvert_exporter": "python",
   "pygments_lexer": "ipython2",
   "version": "2.7.6"
  }
 },
 "nbformat": 4,
 "nbformat_minor": 5
}
