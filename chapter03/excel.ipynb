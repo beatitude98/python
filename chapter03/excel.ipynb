{
 "cells": [
  {
   "cell_type": "code",
   "execution_count": 1,
   "id": "initial_id",
   "metadata": {
    "collapsed": true,
    "ExecuteTime": {
     "end_time": "2023-09-14T01:34:36.004911686Z",
     "start_time": "2023-09-14T01:34:35.918271466Z"
    }
   },
   "outputs": [
    {
     "name": "stdout",
     "output_type": "stream",
     "text": [
      "['시트1']\n"
     ]
    }
   ],
   "source": [
    "import csv\n",
    "\n",
    "import openpyxl\n",
    "\n",
    "## openpyxl 라이브러리설치하기\n",
    "# !pip install openpyxl\n",
    "\n",
    "wb = openpyxl.load_workbook('characters.xlsx')\n",
    "\n",
    "print(wb.sheetnames)"
   ]
  },
  {
   "cell_type": "code",
   "execution_count": 3,
   "outputs": [
    {
     "name": "stdout",
     "output_type": "stream",
     "text": [
      "ID\n"
     ]
    }
   ],
   "source": [
    "print(wb['시트1']['A1'].value)"
   ],
   "metadata": {
    "collapsed": false,
    "ExecuteTime": {
     "end_time": "2023-09-14T01:35:43.916669226Z",
     "start_time": "2023-09-14T01:35:43.852054848Z"
    }
   },
   "id": "b2f6132c44090c95"
  },
  {
   "cell_type": "code",
   "execution_count": 6,
   "outputs": [
    {
     "name": "stdout",
     "output_type": "stream",
     "text": [
      "이름\n"
     ]
    }
   ],
   "source": [
    "sheet1 = wb['시트1']\n",
    "print(sheet1['B1'].value)"
   ],
   "metadata": {
    "collapsed": false,
    "ExecuteTime": {
     "end_time": "2023-09-14T01:37:54.649976946Z",
     "start_time": "2023-09-14T01:37:54.608835431Z"
    }
   },
   "id": "2b8f46c9044c4cf4"
  },
  {
   "cell_type": "code",
   "execution_count": 5,
   "outputs": [
    {
     "name": "stdout",
     "output_type": "stream",
     "text": [
      "(<Cell '시트1'.A1>, <Cell '시트1'.B1>, <Cell '시트1'.C1>, <Cell '시트1'.D1>, <Cell '시트1'.E1>)\n",
      "(<Cell '시트1'.A2>, <Cell '시트1'.B2>, <Cell '시트1'.C2>, <Cell '시트1'.D2>, <Cell '시트1'.E2>)\n",
      "(<Cell '시트1'.A3>, <Cell '시트1'.B3>, <Cell '시트1'.C3>, <Cell '시트1'.D3>, <Cell '시트1'.E3>)\n",
      "(<Cell '시트1'.A4>, <Cell '시트1'.B4>, <Cell '시트1'.C4>, <Cell '시트1'.D4>, <Cell '시트1'.E4>)\n",
      "(<Cell '시트1'.A5>, <Cell '시트1'.B5>, <Cell '시트1'.C5>, <Cell '시트1'.D5>, <Cell '시트1'.E5>)\n",
      "(<Cell '시트1'.A6>, <Cell '시트1'.B6>, <Cell '시트1'.C6>, <Cell '시트1'.D6>, <Cell '시트1'.E6>)\n"
     ]
    }
   ],
   "source": [
    "for cell in sheet1:\n",
    "    print(cell)"
   ],
   "metadata": {
    "collapsed": false,
    "ExecuteTime": {
     "end_time": "2023-09-14T01:36:55.709606276Z",
     "start_time": "2023-09-14T01:36:55.659063456Z"
    }
   },
   "id": "d40e6137a6d7412f"
  },
  {
   "cell_type": "code",
   "execution_count": 7,
   "outputs": [
    {
     "name": "stdout",
     "output_type": "stream",
     "text": [
      "['Sheet', 'Sheet2']\n"
     ]
    }
   ],
   "source": [
    "#엑셀 파일 만들기\n",
    "wb = openpyxl.Workbook()\n",
    "wb.create_sheet('Sheet2')\n",
    "\n",
    "print(wb.sheetnames)"
   ],
   "metadata": {
    "collapsed": false,
    "ExecuteTime": {
     "end_time": "2023-09-14T01:40:48.366088621Z",
     "start_time": "2023-09-14T01:40:48.325081118Z"
    }
   },
   "id": "20199cbf9c45eeae"
  },
  {
   "cell_type": "code",
   "execution_count": 9,
   "outputs": [],
   "source": [
    "sheet1 = wb['Sheet']\n",
    "sheet1.title = '캐릭터명단'\n",
    "sheet1['A1'] = '명단'\n",
    "sheet1['B1'] = '이름'\n",
    "\n",
    "wb.save('complete.xlsx')\n",
    "\n"
   ],
   "metadata": {
    "collapsed": false,
    "ExecuteTime": {
     "end_time": "2023-09-14T01:44:05.453553664Z",
     "start_time": "2023-09-14T01:44:05.442308506Z"
    }
   },
   "id": "b5934824e1606f96"
  },
  {
   "cell_type": "code",
   "execution_count": 11,
   "outputs": [],
   "source": [
    "#공공 데이터포털에 접속하고 혼잡도를 검색하여 경기도 의정부시 대전 서울 경전철및 지하철 혼잡도 데이터를 csv파일로 다운받은뒤 하나의 엑셀파일로 저장\n",
    "import csv\n",
    "\n",
    "wb = openpyxl.Workbook() # new workbook 자바에선 이런식으\n",
    "ws1 = wb.active\n",
    "\n",
    "with open('data1.csv','r',encoding='cp949') as f:\n",
    "    reader = csv.reader(f)\n",
    "    for row in reader:\n",
    "        ws1.append(row)\n",
    "        \n",
    "ws2 = wb.create_sheet('Sheet2')\n",
    "with open('data2.csv','r',encoding='euc-kr') as f:\n",
    "    reader = csv.reader(f)\n",
    "    for row in reader:\n",
    "        ws2.append(row) \n",
    "        \n",
    "ws3 = wb.create_sheet('Sheet3')\n",
    "with open('data3.csv','r',encoding='ms949') as f:\n",
    "    reader = csv.reader(f)\n",
    "    for row in reader:\n",
    "        ws3.append(row)\n",
    "        \n",
    "ws1.title = '서울특별시_지하철 혼잡도 정보'\n",
    "ws2.title = '경기도 의정부시_의정부경전철 혼잡도'\n",
    "ws3.title = '대전교통공사_열차 혼잡도 분석'\n",
    "\n",
    "wb.save('traffic.xlsx')"
   ],
   "metadata": {
    "collapsed": false,
    "ExecuteTime": {
     "end_time": "2023-09-14T02:26:34.408175565Z",
     "start_time": "2023-09-14T02:26:32.977112192Z"
    }
   },
   "id": "40300afe51c227e6"
  },
  {
   "cell_type": "code",
   "execution_count": null,
   "outputs": [],
   "source": [],
   "metadata": {
    "collapsed": false
   },
   "id": "bb77f217b368ce12"
  }
 ],
 "metadata": {
  "kernelspec": {
   "display_name": "Python 3",
   "language": "python",
   "name": "python3"
  },
  "language_info": {
   "codemirror_mode": {
    "name": "ipython",
    "version": 2
   },
   "file_extension": ".py",
   "mimetype": "text/x-python",
   "name": "python",
   "nbconvert_exporter": "python",
   "pygments_lexer": "ipython2",
   "version": "2.7.6"
  }
 },
 "nbformat": 4,
 "nbformat_minor": 5
}
