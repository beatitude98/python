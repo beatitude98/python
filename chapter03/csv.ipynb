{
 "cells": [
  {
   "cell_type": "code",
   "execution_count": 3,
   "id": "initial_id",
   "metadata": {
    "collapsed": true,
    "ExecuteTime": {
     "end_time": "2023-09-14T01:05:17.115664694Z",
     "start_time": "2023-09-14T01:05:17.102683890Z"
    }
   },
   "outputs": [
    {
     "name": "stdout",
     "output_type": "stream",
     "text": [
      "['ID', '이름', '상징색', '취미', '특징']\n",
      "['001', '뽀로로', '파랑색', '낚시', '펭귄']\n",
      "['002', '에디', '주황색', '과학실험', '사막여우']\n",
      "['003', '크롱', '초록색', '눈싸우', '공룡']\n",
      "['004', '루피', '분홍색', '요리', '비버']\n",
      "['005', '패티', '보라색', '운동', '펭귄']\n"
     ]
    }
   ],
   "source": [
    "import csv\n",
    "\n",
    "f= open('characters.csv','r',encoding='utf-8') #파일부러오는거 open('|') |부분에 커서두고 ctrl space누르면 뭐 불러올지 경로 뜸\n",
    "#오른쪽엔 r 읽기만할거면 r 쓰고 읽고 쓰는 편집기능하겠다 하면 rw 쓰면됨\n",
    "\n",
    "reader = csv.reader(f)\n",
    "\n",
    "print(type(reader))\n",
    "for line in reader:\n",
    "\n",
    "    print(line)\n",
    "    \n",
    "f.close()"
   ]
  },
  {
   "cell_type": "code",
   "execution_count": 4,
   "outputs": [],
   "source": [
    "f= open('write.csv','w',encoding='utf-8') #write 쓰기\n",
    "writer = csv.writer(f)\n",
    "\n",
    "writer.writerow(['ID','이름', '상징색', '취미', '특징'])\n",
    "writer.writerow(['001','뽀로로', '파랑색', '낚시', '펭귄'])\n",
    "\n",
    "f.close()"
   ],
   "metadata": {
    "collapsed": false,
    "ExecuteTime": {
     "end_time": "2023-09-14T01:13:07.022384186Z",
     "start_time": "2023-09-14T01:13:06.978954943Z"
    }
   },
   "id": "11b124acd04e4124"
  },
  {
   "cell_type": "code",
   "execution_count": 5,
   "outputs": [],
   "source": [
    "f = open('write.csv', 'a',encoding='utf-8') #append 추가하기\n",
    "writer = csv.writer(f)\n",
    "writer.writerow(['002','에디', '주황색', '과학실험', '사막여우'])\n",
    "\n",
    "f.close()"
   ],
   "metadata": {
    "collapsed": false,
    "ExecuteTime": {
     "end_time": "2023-09-14T01:15:14.887012669Z",
     "start_time": "2023-09-14T01:15:14.842528112Z"
    }
   },
   "id": "b16c7f42e03844d9"
  },
  {
   "cell_type": "code",
   "execution_count": 6,
   "outputs": [],
   "source": [
    "#try with resource => try() {}\n",
    "with open('write.csv', 'a',encoding='utf-8') as f:\n",
    "    writer = csv.writer(f)\n",
    "    writer.writerow(['003','크롱', '초록색', '눈싸움', '공'])\n"
   ],
   "metadata": {
    "collapsed": false,
    "ExecuteTime": {
     "end_time": "2023-09-14T01:20:32.524853997Z",
     "start_time": "2023-09-14T01:20:32.476559085Z"
    }
   },
   "id": "46837f31737a8d87"
  },
  {
   "cell_type": "code",
   "execution_count": null,
   "outputs": [],
   "source": [],
   "metadata": {
    "collapsed": false
   },
   "id": "18583758f823ecfe"
  }
 ],
 "metadata": {
  "kernelspec": {
   "display_name": "Python 3",
   "language": "python",
   "name": "python3"
  },
  "language_info": {
   "codemirror_mode": {
    "name": "ipython",
    "version": 2
   },
   "file_extension": ".py",
   "mimetype": "text/x-python",
   "name": "python",
   "nbconvert_exporter": "python",
   "pygments_lexer": "ipython2",
   "version": "2.7.6"
  }
 },
 "nbformat": 4,
 "nbformat_minor": 5
}
