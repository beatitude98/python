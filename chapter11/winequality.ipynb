{
 "cells": [
  {
   "cell_type": "code",
   "execution_count": 12,
   "id": "initial_id",
   "metadata": {
    "collapsed": true,
    "ExecuteTime": {
     "end_time": "2023-10-10T02:25:38.565337788Z",
     "start_time": "2023-10-10T02:25:38.453242458Z"
    }
   },
   "outputs": [
    {
     "name": "stdout",
     "output_type": "stream",
     "text": [
      "정확도 : 0.5583333333333333\n"
     ]
    },
    {
     "name": "stderr",
     "output_type": "stream",
     "text": [
      "/home/pc32/PycharmProjects/BasicPython/venv/lib/python3.10/site-packages/sklearn/utils/validation.py:1183: DataConversionWarning: A column-vector y was passed when a 1d array was expected. Please change the shape of y to (n_samples, ), for example using ravel().\n",
      "  y = column_or_1d(y, warn=True)\n"
     ]
    }
   ],
   "source": [
    "import pandas as pd\n",
    "from sklearn import svm, metrics\n",
    "from sklearn.model_selection import train_test_split\n",
    "\n",
    "redwine_df = pd.read_csv('winequality-red.csv', encoding='utf-8', delimiter=';')\n",
    "X = redwine_df[redwine_df.columns[:11]]\n",
    "y = redwine_df[redwine_df.columns[11:]]\n",
    "\n",
    "#testsize가 자동으로 랜덤하게 값 나오게해줌\n",
    "train_X, test_X, train_y, test_y = train_test_split(X, y, test_size=0.3)\n",
    "\n",
    "#학습\n",
    "model = svm.SVC()\n",
    "model.fit(train_X,train_y)\n",
    "\n",
    "#테스트를 pred 에게 담아줌\n",
    "pred = model.predict(test_X)\n",
    "\n",
    "#test_y와 pred를 비교 \n",
    "accuracy = metrics.accuracy_score(test_y, pred)\n",
    "print(f'정확도 : {accuracy}')"
   ]
  },
  {
   "cell_type": "markdown",
   "source": [],
   "metadata": {
    "collapsed": false
   },
   "id": "91de33eb647f768b"
  },
  {
   "cell_type": "code",
   "execution_count": 16,
   "outputs": [
    {
     "name": "stdout",
     "output_type": "stream",
     "text": [
      "정확도 : 0.982051282051282\n"
     ]
    },
    {
     "name": "stderr",
     "output_type": "stream",
     "text": [
      "/home/pc32/PycharmProjects/BasicPython/venv/lib/python3.10/site-packages/sklearn/utils/validation.py:1183: DataConversionWarning: A column-vector y was passed when a 1d array was expected. Please change the shape of y to (n_samples, ), for example using ravel().\n",
      "  y = column_or_1d(y, warn=True)\n",
      "/home/pc32/PycharmProjects/BasicPython/venv/lib/python3.10/site-packages/sklearn/svm/_classes.py:32: FutureWarning: The default value of `dual` will change from `True` to `'auto'` in 1.5. Set the value of `dual` explicitly to suppress the warning.\n",
      "  warnings.warn(\n",
      "/home/pc32/PycharmProjects/BasicPython/venv/lib/python3.10/site-packages/sklearn/svm/_base.py:1250: ConvergenceWarning: Liblinear failed to converge, increase the number of iterations.\n",
      "  warnings.warn(\n"
     ]
    }
   ],
   "source": [
    "df_red = pd.read_csv('winequality-red.csv',encoding='utf-8',delimiter=';')\n",
    "df_white = pd.read_csv('winequality-white.csv',encoding='utf-8',delimiter=';')\n",
    "\n",
    "df_red['class'] = 0\n",
    "df_white['class'] = 1\n",
    "\n",
    "df_wine = pd.concat([df_red,df_white])\n",
    "# df_wine\n",
    "X = df_wine[df_wine.columns[:12]]\n",
    "y = df_wine[df_wine.columns[12:]]\n",
    "\n",
    "train_X, test_X, train_y, test_y = train_test_split(X,y,test_size=0.3)\n",
    "\n",
    "#학습계속해서 시키는거 \n",
    "model = svm.LinearSVC()\n",
    "model.fit(train_X,train_y)\n",
    "\n",
    "#테스트를 model.pred(test) 에게 담아줌 pred에 답을 담음\n",
    "pred = model.predict(test_X)\n",
    "\n",
    "#test_y와 pred를 비교 \n",
    "accuracy = metrics.accuracy_score(test_y, pred)\n",
    "print(f'정확도 : {accuracy}')\n",
    "\n"
   ],
   "metadata": {
    "collapsed": false,
    "ExecuteTime": {
     "end_time": "2023-10-10T02:36:16.288417781Z",
     "start_time": "2023-10-10T02:36:16.072184670Z"
    }
   },
   "id": "2ac43368d9b39aa8"
  },
  {
   "cell_type": "code",
   "execution_count": null,
   "outputs": [],
   "source": [
    "#랜덤 포레스트 알고리즘 사용\n",
    "from sklearn.ensemble import RandomForestClassifier\n",
    "model = RandomForestClassifier()\n",
    "model.fit(train_X,train_y)\n",
    "\n",
    "pred = model.predict(test_X)\n",
    "\n",
    "accuracy = metrics.accuracy_score(test_y, pred)\n",
    "print(f'정확도 : {accuracy}')"
   ],
   "metadata": {
    "collapsed": false
   },
   "id": "718abe23c8302964"
  },
  {
   "cell_type": "markdown",
   "source": [],
   "metadata": {
    "collapsed": false
   },
   "id": "cfdb6b3b22c59956"
  }
 ],
 "metadata": {
  "kernelspec": {
   "display_name": "Python 3",
   "language": "python",
   "name": "python3"
  },
  "language_info": {
   "codemirror_mode": {
    "name": "ipython",
    "version": 2
   },
   "file_extension": ".py",
   "mimetype": "text/x-python",
   "name": "python",
   "nbconvert_exporter": "python",
   "pygments_lexer": "ipython2",
   "version": "2.7.6"
  }
 },
 "nbformat": 4,
 "nbformat_minor": 5
}
