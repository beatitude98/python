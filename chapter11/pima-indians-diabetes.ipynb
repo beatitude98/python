{
 "cells": [
  {
   "cell_type": "code",
   "execution_count": 5,
   "id": "initial_id",
   "metadata": {
    "collapsed": true,
    "ExecuteTime": {
     "end_time": "2023-10-13T01:30:02.047115894Z",
     "start_time": "2023-10-13T01:30:01.937272992Z"
    }
   },
   "outputs": [
    {
     "data": {
      "text/plain": "     pregnant  plasma  pressure  thickness  insulin   bmi  pedigree  age  \\\n0           6     148        72         35        0  33.6     0.627   50   \n1           1      85        66         29        0  26.6     0.351   31   \n2           8     183        64          0        0  23.3     0.672   32   \n3           1      89        66         23       94  28.1     0.167   21   \n4           0     137        40         35      168  43.1     2.288   33   \n..        ...     ...       ...        ...      ...   ...       ...  ...   \n763        10     101        76         48      180  32.9     0.171   63   \n764         2     122        70         27        0  36.8     0.340   27   \n765         5     121        72         23      112  26.2     0.245   30   \n766         1     126        60          0        0  30.1     0.349   47   \n767         1      93        70         31        0  30.4     0.315   23   \n\n     diabetes  \n0           1  \n1           0  \n2           1  \n3           0  \n4           1  \n..        ...  \n763         0  \n764         0  \n765         0  \n766         1  \n767         0  \n\n[768 rows x 9 columns]",
      "text/html": "<div>\n<style scoped>\n    .dataframe tbody tr th:only-of-type {\n        vertical-align: middle;\n    }\n\n    .dataframe tbody tr th {\n        vertical-align: top;\n    }\n\n    .dataframe thead th {\n        text-align: right;\n    }\n</style>\n<table border=\"1\" class=\"dataframe\">\n  <thead>\n    <tr style=\"text-align: right;\">\n      <th></th>\n      <th>pregnant</th>\n      <th>plasma</th>\n      <th>pressure</th>\n      <th>thickness</th>\n      <th>insulin</th>\n      <th>bmi</th>\n      <th>pedigree</th>\n      <th>age</th>\n      <th>diabetes</th>\n    </tr>\n  </thead>\n  <tbody>\n    <tr>\n      <th>0</th>\n      <td>6</td>\n      <td>148</td>\n      <td>72</td>\n      <td>35</td>\n      <td>0</td>\n      <td>33.6</td>\n      <td>0.627</td>\n      <td>50</td>\n      <td>1</td>\n    </tr>\n    <tr>\n      <th>1</th>\n      <td>1</td>\n      <td>85</td>\n      <td>66</td>\n      <td>29</td>\n      <td>0</td>\n      <td>26.6</td>\n      <td>0.351</td>\n      <td>31</td>\n      <td>0</td>\n    </tr>\n    <tr>\n      <th>2</th>\n      <td>8</td>\n      <td>183</td>\n      <td>64</td>\n      <td>0</td>\n      <td>0</td>\n      <td>23.3</td>\n      <td>0.672</td>\n      <td>32</td>\n      <td>1</td>\n    </tr>\n    <tr>\n      <th>3</th>\n      <td>1</td>\n      <td>89</td>\n      <td>66</td>\n      <td>23</td>\n      <td>94</td>\n      <td>28.1</td>\n      <td>0.167</td>\n      <td>21</td>\n      <td>0</td>\n    </tr>\n    <tr>\n      <th>4</th>\n      <td>0</td>\n      <td>137</td>\n      <td>40</td>\n      <td>35</td>\n      <td>168</td>\n      <td>43.1</td>\n      <td>2.288</td>\n      <td>33</td>\n      <td>1</td>\n    </tr>\n    <tr>\n      <th>...</th>\n      <td>...</td>\n      <td>...</td>\n      <td>...</td>\n      <td>...</td>\n      <td>...</td>\n      <td>...</td>\n      <td>...</td>\n      <td>...</td>\n      <td>...</td>\n    </tr>\n    <tr>\n      <th>763</th>\n      <td>10</td>\n      <td>101</td>\n      <td>76</td>\n      <td>48</td>\n      <td>180</td>\n      <td>32.9</td>\n      <td>0.171</td>\n      <td>63</td>\n      <td>0</td>\n    </tr>\n    <tr>\n      <th>764</th>\n      <td>2</td>\n      <td>122</td>\n      <td>70</td>\n      <td>27</td>\n      <td>0</td>\n      <td>36.8</td>\n      <td>0.340</td>\n      <td>27</td>\n      <td>0</td>\n    </tr>\n    <tr>\n      <th>765</th>\n      <td>5</td>\n      <td>121</td>\n      <td>72</td>\n      <td>23</td>\n      <td>112</td>\n      <td>26.2</td>\n      <td>0.245</td>\n      <td>30</td>\n      <td>0</td>\n    </tr>\n    <tr>\n      <th>766</th>\n      <td>1</td>\n      <td>126</td>\n      <td>60</td>\n      <td>0</td>\n      <td>0</td>\n      <td>30.1</td>\n      <td>0.349</td>\n      <td>47</td>\n      <td>1</td>\n    </tr>\n    <tr>\n      <th>767</th>\n      <td>1</td>\n      <td>93</td>\n      <td>70</td>\n      <td>31</td>\n      <td>0</td>\n      <td>30.4</td>\n      <td>0.315</td>\n      <td>23</td>\n      <td>0</td>\n    </tr>\n  </tbody>\n</table>\n<p>768 rows × 9 columns</p>\n</div>"
     },
     "execution_count": 5,
     "metadata": {},
     "output_type": "execute_result"
    }
   ],
   "source": [
    "import pandas as pd\n",
    "from sklearn.model_selection import train_test_split\n",
    "\n",
    "df_diabetes = pd.read_csv('pima-indians-diabetes3.csv',encoding='utf-8')\n",
    "df_diabetes\n"
   ]
  },
  {
   "cell_type": "code",
   "execution_count": 6,
   "outputs": [
    {
     "name": "stdout",
     "output_type": "stream",
     "text": [
      "     pregnant  plasma  pressure  thickness  insulin   bmi  pedigree  age\n",
      "0           6     148        72         35        0  33.6     0.627   50\n",
      "1           1      85        66         29        0  26.6     0.351   31\n",
      "2           8     183        64          0        0  23.3     0.672   32\n",
      "3           1      89        66         23       94  28.1     0.167   21\n",
      "4           0     137        40         35      168  43.1     2.288   33\n",
      "..        ...     ...       ...        ...      ...   ...       ...  ...\n",
      "763        10     101        76         48      180  32.9     0.171   63\n",
      "764         2     122        70         27        0  36.8     0.340   27\n",
      "765         5     121        72         23      112  26.2     0.245   30\n",
      "766         1     126        60          0        0  30.1     0.349   47\n",
      "767         1      93        70         31        0  30.4     0.315   23\n",
      "\n",
      "[768 rows x 8 columns]\n",
      "     diabetes\n",
      "0           1\n",
      "1           0\n",
      "2           1\n",
      "3           0\n",
      "4           1\n",
      "..        ...\n",
      "763         0\n",
      "764         0\n",
      "765         0\n",
      "766         1\n",
      "767         0\n",
      "\n",
      "[768 rows x 1 columns]\n"
     ]
    }
   ],
   "source": [
    "X= df_diabetes[df_diabetes.columns[:8]]\n",
    "y= df_diabetes[df_diabetes.columns[8:]]\n",
    "\n",
    "X_train, X_test , y_train, y_test = train_test_split(X, y, test_size=0.3)\n",
    "\n",
    "print(X)\n",
    "print(y)"
   ],
   "metadata": {
    "collapsed": false,
    "ExecuteTime": {
     "end_time": "2023-10-13T01:30:03.439601717Z",
     "start_time": "2023-10-13T01:30:03.403005787Z"
    }
   },
   "id": "e11576abb5ac5582"
  },
  {
   "cell_type": "code",
   "execution_count": 9,
   "outputs": [
    {
     "name": "stdout",
     "output_type": "stream",
     "text": [
      "Model: \"sequential_1\"\n",
      "_________________________________________________________________\n",
      " Layer (type)                Output Shape              Param #   \n",
      "=================================================================\n",
      " dense_3 (Dense)             (None, 12)                108       \n",
      "                                                                 \n",
      " dense_4 (Dense)             (None, 8)                 104       \n",
      "                                                                 \n",
      " dense_5 (Dense)             (None, 1)                 9         \n",
      "                                                                 \n",
      "=================================================================\n",
      "Total params: 221 (884.00 Byte)\n",
      "Trainable params: 221 (884.00 Byte)\n",
      "Non-trainable params: 0 (0.00 Byte)\n",
      "_________________________________________________________________\n"
     ]
    }
   ],
   "source": [
    "from keras.models import Sequential\n",
    "from keras.layers import Dense\n",
    "\n",
    "model = Sequential()\n",
    "model.add(Dense(12, input_dim=8, activation='relu'))\n",
    "model.add(Dense(8, activation='relu'))\n",
    "model.add(Dense(1, activation='sigmoid'))\n",
    "\n",
    "model.summary()"
   ],
   "metadata": {
    "collapsed": false,
    "ExecuteTime": {
     "end_time": "2023-10-13T01:44:00.259566618Z",
     "start_time": "2023-10-13T01:44:00.159186772Z"
    }
   },
   "id": "c88715a58fab469"
  },
  {
   "cell_type": "code",
   "execution_count": 8,
   "outputs": [
    {
     "name": "stdout",
     "output_type": "stream",
     "text": [
      "Epoch 1/100\n"
     ]
    },
    {
     "name": "stderr",
     "output_type": "stream",
     "text": [
      "/home/pc32/PycharmProjects/BasicPython/venv/lib/python3.10/site-packages/tensorflow/python/util/dispatch.py:1260: SyntaxWarning: In loss categorical_crossentropy, expected y_pred.shape to be (batch_size, num_classes) with num_classes > 1. Received: y_pred.shape=(None, 1). Consider using 'binary_crossentropy' if you only have 2 classes.\n",
      "  return dispatch_target(*args, **kwargs)\n"
     ]
    },
    {
     "name": "stdout",
     "output_type": "stream",
     "text": [
      "108/108 [==============================] - 1s 2ms/step - loss: 0.0000e+00 - accuracy: 0.6685\n",
      "Epoch 2/100\n",
      "108/108 [==============================] - 0s 2ms/step - loss: 0.0000e+00 - accuracy: 0.6685\n",
      "Epoch 3/100\n",
      "108/108 [==============================] - 0s 2ms/step - loss: 0.0000e+00 - accuracy: 0.6685\n",
      "Epoch 4/100\n",
      "108/108 [==============================] - 0s 3ms/step - loss: 0.0000e+00 - accuracy: 0.6685\n",
      "Epoch 5/100\n",
      "108/108 [==============================] - 0s 2ms/step - loss: 0.0000e+00 - accuracy: 0.6685\n",
      "Epoch 6/100\n",
      "108/108 [==============================] - 0s 2ms/step - loss: 0.0000e+00 - accuracy: 0.6685\n",
      "Epoch 7/100\n",
      "108/108 [==============================] - 0s 2ms/step - loss: 0.0000e+00 - accuracy: 0.6685\n",
      "Epoch 8/100\n",
      "108/108 [==============================] - 0s 2ms/step - loss: 0.0000e+00 - accuracy: 0.6685\n",
      "Epoch 9/100\n",
      "108/108 [==============================] - 0s 2ms/step - loss: 0.0000e+00 - accuracy: 0.6685\n",
      "Epoch 10/100\n",
      "108/108 [==============================] - 0s 2ms/step - loss: 0.0000e+00 - accuracy: 0.6685\n",
      "Epoch 11/100\n",
      "108/108 [==============================] - 0s 1ms/step - loss: 0.0000e+00 - accuracy: 0.6685\n",
      "Epoch 12/100\n",
      "108/108 [==============================] - 0s 1ms/step - loss: 0.0000e+00 - accuracy: 0.6685\n",
      "Epoch 13/100\n",
      "108/108 [==============================] - 0s 1ms/step - loss: 0.0000e+00 - accuracy: 0.6685\n",
      "Epoch 14/100\n",
      "108/108 [==============================] - 0s 1ms/step - loss: 0.0000e+00 - accuracy: 0.6685\n",
      "Epoch 15/100\n",
      "108/108 [==============================] - 0s 1ms/step - loss: 0.0000e+00 - accuracy: 0.6685\n",
      "Epoch 16/100\n",
      "108/108 [==============================] - 0s 1ms/step - loss: 0.0000e+00 - accuracy: 0.6685\n",
      "Epoch 17/100\n",
      "108/108 [==============================] - 0s 1ms/step - loss: 0.0000e+00 - accuracy: 0.6685\n",
      "Epoch 18/100\n",
      "108/108 [==============================] - 0s 1ms/step - loss: 0.0000e+00 - accuracy: 0.6685\n",
      "Epoch 19/100\n",
      "108/108 [==============================] - 0s 1ms/step - loss: 0.0000e+00 - accuracy: 0.6685\n",
      "Epoch 20/100\n",
      "108/108 [==============================] - 0s 2ms/step - loss: 0.0000e+00 - accuracy: 0.6685\n",
      "Epoch 21/100\n",
      "108/108 [==============================] - 0s 2ms/step - loss: 0.0000e+00 - accuracy: 0.6685\n",
      "Epoch 22/100\n",
      "108/108 [==============================] - 0s 1ms/step - loss: 0.0000e+00 - accuracy: 0.6685\n",
      "Epoch 23/100\n",
      "108/108 [==============================] - 0s 1ms/step - loss: 0.0000e+00 - accuracy: 0.6685\n",
      "Epoch 24/100\n",
      "108/108 [==============================] - 0s 1ms/step - loss: 0.0000e+00 - accuracy: 0.6685\n",
      "Epoch 25/100\n",
      "108/108 [==============================] - 0s 1ms/step - loss: 0.0000e+00 - accuracy: 0.6685\n",
      "Epoch 26/100\n",
      "108/108 [==============================] - 0s 1ms/step - loss: 0.0000e+00 - accuracy: 0.6685\n",
      "Epoch 27/100\n",
      "108/108 [==============================] - 0s 1ms/step - loss: 0.0000e+00 - accuracy: 0.6685\n",
      "Epoch 28/100\n",
      "108/108 [==============================] - 0s 1ms/step - loss: 0.0000e+00 - accuracy: 0.6685\n",
      "Epoch 29/100\n",
      "108/108 [==============================] - 0s 1ms/step - loss: 0.0000e+00 - accuracy: 0.6685\n",
      "Epoch 30/100\n",
      "108/108 [==============================] - 0s 2ms/step - loss: 0.0000e+00 - accuracy: 0.6685\n",
      "Epoch 31/100\n",
      "108/108 [==============================] - 0s 1ms/step - loss: 0.0000e+00 - accuracy: 0.6685\n",
      "Epoch 32/100\n",
      "108/108 [==============================] - 0s 1ms/step - loss: 0.0000e+00 - accuracy: 0.6685\n",
      "Epoch 33/100\n",
      "108/108 [==============================] - 0s 1ms/step - loss: 0.0000e+00 - accuracy: 0.6685\n",
      "Epoch 34/100\n",
      "108/108 [==============================] - 0s 1ms/step - loss: 0.0000e+00 - accuracy: 0.6685\n",
      "Epoch 35/100\n",
      "108/108 [==============================] - 0s 1ms/step - loss: 0.0000e+00 - accuracy: 0.6685\n",
      "Epoch 36/100\n",
      "108/108 [==============================] - 0s 1ms/step - loss: 0.0000e+00 - accuracy: 0.6685\n",
      "Epoch 37/100\n",
      "108/108 [==============================] - 0s 1ms/step - loss: 0.0000e+00 - accuracy: 0.6685\n",
      "Epoch 38/100\n",
      "108/108 [==============================] - 0s 1ms/step - loss: 0.0000e+00 - accuracy: 0.6685\n",
      "Epoch 39/100\n",
      "108/108 [==============================] - 0s 1ms/step - loss: 0.0000e+00 - accuracy: 0.6685\n",
      "Epoch 40/100\n",
      "108/108 [==============================] - 0s 1ms/step - loss: 0.0000e+00 - accuracy: 0.6685\n",
      "Epoch 41/100\n",
      "108/108 [==============================] - 0s 1ms/step - loss: 0.0000e+00 - accuracy: 0.6685\n",
      "Epoch 42/100\n",
      "108/108 [==============================] - 0s 1ms/step - loss: 0.0000e+00 - accuracy: 0.6685\n",
      "Epoch 43/100\n",
      "108/108 [==============================] - 0s 1ms/step - loss: 0.0000e+00 - accuracy: 0.6685\n",
      "Epoch 44/100\n",
      "108/108 [==============================] - 0s 1ms/step - loss: 0.0000e+00 - accuracy: 0.6685\n",
      "Epoch 45/100\n",
      "108/108 [==============================] - 0s 1ms/step - loss: 0.0000e+00 - accuracy: 0.6685\n",
      "Epoch 46/100\n",
      "108/108 [==============================] - 0s 1ms/step - loss: 0.0000e+00 - accuracy: 0.6685\n",
      "Epoch 47/100\n",
      "108/108 [==============================] - 0s 1ms/step - loss: 0.0000e+00 - accuracy: 0.6685\n",
      "Epoch 48/100\n",
      "108/108 [==============================] - 0s 1ms/step - loss: 0.0000e+00 - accuracy: 0.6685\n",
      "Epoch 49/100\n",
      "108/108 [==============================] - 0s 1ms/step - loss: 0.0000e+00 - accuracy: 0.6685\n",
      "Epoch 50/100\n",
      "108/108 [==============================] - 0s 1ms/step - loss: 0.0000e+00 - accuracy: 0.6685\n",
      "Epoch 51/100\n",
      "108/108 [==============================] - 0s 1ms/step - loss: 0.0000e+00 - accuracy: 0.6685\n",
      "Epoch 52/100\n",
      "108/108 [==============================] - 0s 1ms/step - loss: 0.0000e+00 - accuracy: 0.6685\n",
      "Epoch 53/100\n",
      "108/108 [==============================] - 0s 1ms/step - loss: 0.0000e+00 - accuracy: 0.6685\n",
      "Epoch 54/100\n",
      "108/108 [==============================] - 0s 1ms/step - loss: 0.0000e+00 - accuracy: 0.6685\n",
      "Epoch 55/100\n",
      "108/108 [==============================] - 0s 1ms/step - loss: 0.0000e+00 - accuracy: 0.6685\n",
      "Epoch 56/100\n",
      "108/108 [==============================] - 0s 1ms/step - loss: 0.0000e+00 - accuracy: 0.6685\n",
      "Epoch 57/100\n",
      "108/108 [==============================] - 0s 1ms/step - loss: 0.0000e+00 - accuracy: 0.6685\n",
      "Epoch 58/100\n",
      "108/108 [==============================] - 0s 1ms/step - loss: 0.0000e+00 - accuracy: 0.6685\n",
      "Epoch 59/100\n",
      "108/108 [==============================] - 0s 1ms/step - loss: 0.0000e+00 - accuracy: 0.6685\n",
      "Epoch 60/100\n",
      "108/108 [==============================] - 0s 1ms/step - loss: 0.0000e+00 - accuracy: 0.6685\n",
      "Epoch 61/100\n",
      "108/108 [==============================] - 0s 1ms/step - loss: 0.0000e+00 - accuracy: 0.6685\n",
      "Epoch 62/100\n",
      "108/108 [==============================] - 0s 1ms/step - loss: 0.0000e+00 - accuracy: 0.6685\n",
      "Epoch 63/100\n",
      "108/108 [==============================] - 0s 1ms/step - loss: 0.0000e+00 - accuracy: 0.6685\n",
      "Epoch 64/100\n",
      "108/108 [==============================] - 0s 1ms/step - loss: 0.0000e+00 - accuracy: 0.6685\n",
      "Epoch 65/100\n",
      "108/108 [==============================] - 0s 1ms/step - loss: 0.0000e+00 - accuracy: 0.6685\n",
      "Epoch 66/100\n",
      "108/108 [==============================] - 0s 1ms/step - loss: 0.0000e+00 - accuracy: 0.6685\n",
      "Epoch 67/100\n",
      "108/108 [==============================] - 0s 1ms/step - loss: 0.0000e+00 - accuracy: 0.6685\n",
      "Epoch 68/100\n",
      "108/108 [==============================] - 0s 1ms/step - loss: 0.0000e+00 - accuracy: 0.6685\n",
      "Epoch 69/100\n",
      "108/108 [==============================] - 0s 1ms/step - loss: 0.0000e+00 - accuracy: 0.6685\n",
      "Epoch 70/100\n",
      "108/108 [==============================] - 0s 1ms/step - loss: 0.0000e+00 - accuracy: 0.6685\n",
      "Epoch 71/100\n",
      "108/108 [==============================] - 0s 1ms/step - loss: 0.0000e+00 - accuracy: 0.6685\n",
      "Epoch 72/100\n",
      "108/108 [==============================] - 0s 1ms/step - loss: 0.0000e+00 - accuracy: 0.6685\n",
      "Epoch 73/100\n",
      "108/108 [==============================] - 0s 1ms/step - loss: 0.0000e+00 - accuracy: 0.6685\n",
      "Epoch 74/100\n",
      "108/108 [==============================] - 0s 1ms/step - loss: 0.0000e+00 - accuracy: 0.6685\n",
      "Epoch 75/100\n",
      "108/108 [==============================] - 0s 1ms/step - loss: 0.0000e+00 - accuracy: 0.6685\n",
      "Epoch 76/100\n",
      "108/108 [==============================] - 0s 1ms/step - loss: 0.0000e+00 - accuracy: 0.6685\n",
      "Epoch 77/100\n",
      "108/108 [==============================] - 0s 1ms/step - loss: 0.0000e+00 - accuracy: 0.6685\n",
      "Epoch 78/100\n",
      "108/108 [==============================] - 0s 1ms/step - loss: 0.0000e+00 - accuracy: 0.6685\n",
      "Epoch 79/100\n",
      "108/108 [==============================] - 0s 1ms/step - loss: 0.0000e+00 - accuracy: 0.6685\n",
      "Epoch 80/100\n",
      "108/108 [==============================] - 0s 1ms/step - loss: 0.0000e+00 - accuracy: 0.6685\n",
      "Epoch 81/100\n",
      "108/108 [==============================] - 0s 2ms/step - loss: 0.0000e+00 - accuracy: 0.6685\n",
      "Epoch 82/100\n",
      "108/108 [==============================] - 0s 2ms/step - loss: 0.0000e+00 - accuracy: 0.6685\n",
      "Epoch 83/100\n",
      "108/108 [==============================] - 0s 2ms/step - loss: 0.0000e+00 - accuracy: 0.6685\n",
      "Epoch 84/100\n",
      "108/108 [==============================] - 0s 2ms/step - loss: 0.0000e+00 - accuracy: 0.6685\n",
      "Epoch 85/100\n",
      "108/108 [==============================] - 0s 2ms/step - loss: 0.0000e+00 - accuracy: 0.6685\n",
      "Epoch 86/100\n",
      "108/108 [==============================] - 0s 2ms/step - loss: 0.0000e+00 - accuracy: 0.6685\n",
      "Epoch 87/100\n",
      "108/108 [==============================] - 0s 2ms/step - loss: 0.0000e+00 - accuracy: 0.6685\n",
      "Epoch 88/100\n",
      "108/108 [==============================] - 0s 2ms/step - loss: 0.0000e+00 - accuracy: 0.6685\n",
      "Epoch 89/100\n",
      "108/108 [==============================] - 0s 2ms/step - loss: 0.0000e+00 - accuracy: 0.6685\n",
      "Epoch 90/100\n",
      "108/108 [==============================] - 0s 1ms/step - loss: 0.0000e+00 - accuracy: 0.6685\n",
      "Epoch 91/100\n",
      "108/108 [==============================] - 0s 1ms/step - loss: 0.0000e+00 - accuracy: 0.6685\n",
      "Epoch 92/100\n",
      "108/108 [==============================] - 0s 1ms/step - loss: 0.0000e+00 - accuracy: 0.6685\n",
      "Epoch 93/100\n",
      "108/108 [==============================] - 0s 1ms/step - loss: 0.0000e+00 - accuracy: 0.6685\n",
      "Epoch 94/100\n",
      "108/108 [==============================] - 0s 2ms/step - loss: 0.0000e+00 - accuracy: 0.6685\n",
      "Epoch 95/100\n",
      "108/108 [==============================] - 0s 1ms/step - loss: 0.0000e+00 - accuracy: 0.6685\n",
      "Epoch 96/100\n",
      "108/108 [==============================] - 0s 2ms/step - loss: 0.0000e+00 - accuracy: 0.6685\n",
      "Epoch 97/100\n",
      "108/108 [==============================] - 0s 2ms/step - loss: 0.0000e+00 - accuracy: 0.6685\n",
      "Epoch 98/100\n",
      "108/108 [==============================] - 0s 1ms/step - loss: 0.0000e+00 - accuracy: 0.6685\n",
      "Epoch 99/100\n",
      "108/108 [==============================] - 0s 1ms/step - loss: 0.0000e+00 - accuracy: 0.6685\n",
      "Epoch 100/100\n",
      "108/108 [==============================] - 0s 2ms/step - loss: 0.0000e+00 - accuracy: 0.6685\n",
      "8/8 [==============================] - 0s 2ms/step - loss: 0.0000e+00 - accuracy: 0.6104\n"
     ]
    },
    {
     "name": "stderr",
     "output_type": "stream",
     "text": [
      "/home/pc32/PycharmProjects/BasicPython/venv/lib/python3.10/site-packages/tensorflow/python/util/dispatch.py:1260: SyntaxWarning: In loss categorical_crossentropy, expected y_pred.shape to be (batch_size, num_classes) with num_classes > 1. Received: y_pred.shape=(None, 1). Consider using 'binary_crossentropy' if you only have 2 classes.\n",
      "  return dispatch_target(*args, **kwargs)\n"
     ]
    },
    {
     "data": {
      "text/plain": "[0.0, 0.6103895902633667]"
     },
     "execution_count": 8,
     "metadata": {},
     "output_type": "execute_result"
    }
   ],
   "source": [
    "model.compile(loss='categorical_crossentropy', optimizer='adam', metrics='accuracy')\n",
    "\n",
    "model.fit(X_train, y_train, epochs=100, batch_size=5)\n",
    "\n",
    "model.evaluate(X_test, y_test)"
   ],
   "metadata": {
    "collapsed": false,
    "ExecuteTime": {
     "end_time": "2023-10-13T01:40:02.295240232Z",
     "start_time": "2023-10-13T01:39:45.520408261Z"
    }
   },
   "id": "4fd0109dab094573"
  }
 ],
 "metadata": {
  "kernelspec": {
   "display_name": "Python 3",
   "language": "python",
   "name": "python3"
  },
  "language_info": {
   "codemirror_mode": {
    "name": "ipython",
    "version": 2
   },
   "file_extension": ".py",
   "mimetype": "text/x-python",
   "name": "python",
   "nbconvert_exporter": "python",
   "pygments_lexer": "ipython2",
   "version": "2.7.6"
  }
 },
 "nbformat": 4,
 "nbformat_minor": 5
}
