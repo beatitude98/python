{
 "cells": [
  {
   "cell_type": "code",
   "execution_count": 1,
   "id": "initial_id",
   "metadata": {
    "collapsed": true,
    "ExecuteTime": {
     "end_time": "2023-10-06T03:43:42.446395019Z",
     "start_time": "2023-10-06T03:43:42.156983715Z"
    }
   },
   "outputs": [
    {
     "name": "stdout",
     "output_type": "stream",
     "text": [
      "예츨결과 : [0 1 1 0]\n",
      "정담률 : 4/ 4 = 100.0\n"
     ]
    }
   ],
   "source": [
    "from sklearn import svm, metrics\n",
    "from sklearn.linear_model import LinearRegression\n",
    "\n",
    "xor_data = [ \n",
    "    [0,0,0],\n",
    "    [0,1,1],\n",
    "    [1,0,1],\n",
    "    [1,1,0]\n",
    "]\n",
    "train_data = []\n",
    "label=[]\n",
    "\n",
    "for row in xor_data:\n",
    "    p = row[0]\n",
    "    q = row[1]\n",
    "    r = row[2]\n",
    "    train_data.append([p,q])\n",
    "    label.append(r)\n",
    "    \n",
    "#학습 모델선정\n",
    "clf = svm.SVC()\n",
    "\n",
    "#학습(공부하기)\n",
    "clf.fit(train_data, label)\n",
    "\n",
    "#시험(테스트)\n",
    "pred = clf.predict(train_data)\n",
    "\n",
    "print(f'예측결과 : {pred}')\n",
    "\n",
    "ok = 0\n",
    "total = 0\n",
    "for idx, answer in enumerate(label):\n",
    "    p = pred[idx]\n",
    "    if p == answer:\n",
    "        ok +=1\n",
    "    total += 1\n",
    "print(f'정답률 : {ok}/ {total} = {ok /total *100}')\n",
    "\n",
    "ac_score = metrics.accuracy_score(label,pred)\n",
    "print(ac_score)\n",
    "\n"
   ]
  }
 ],
 "metadata": {
  "kernelspec": {
   "display_name": "Python 3",
   "language": "python",
   "name": "python3"
  },
  "language_info": {
   "codemirror_mode": {
    "name": "ipython",
    "version": 2
   },
   "file_extension": ".py",
   "mimetype": "text/x-python",
   "name": "python",
   "nbconvert_exporter": "python",
   "pygments_lexer": "ipython2",
   "version": "2.7.6"
  }
 },
 "nbformat": 4,
 "nbformat_minor": 5
}
