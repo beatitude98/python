{
 "cells": [
  {
   "cell_type": "code",
   "execution_count": 4,
   "id": "initial_id",
   "metadata": {
    "collapsed": true,
    "ExecuteTime": {
     "end_time": "2023-10-10T00:48:23.125170137Z",
     "start_time": "2023-10-10T00:48:23.079978693Z"
    }
   },
   "outputs": [
    {
     "data": {
      "text/plain": "     sepal length  sepal width  petal length  petal width           label\n0             5.1          3.5           1.4          0.2     Iris-setosa\n1             4.9          3.0           1.4          0.2     Iris-setosa\n2             4.7          3.2           1.3          0.2     Iris-setosa\n3             4.6          3.1           1.5          0.2     Iris-setosa\n4             5.0          3.6           1.4          0.2     Iris-setosa\n..            ...          ...           ...          ...             ...\n145           6.7          3.0           5.2          2.3  Iris-virginica\n146           6.3          2.5           5.0          1.9  Iris-virginica\n147           6.5          3.0           5.2          2.0  Iris-virginica\n148           6.2          3.4           5.4          2.3  Iris-virginica\n149           5.9          3.0           5.1          1.8  Iris-virginica\n\n[150 rows x 5 columns]",
      "text/html": "<div>\n<style scoped>\n    .dataframe tbody tr th:only-of-type {\n        vertical-align: middle;\n    }\n\n    .dataframe tbody tr th {\n        vertical-align: top;\n    }\n\n    .dataframe thead th {\n        text-align: right;\n    }\n</style>\n<table border=\"1\" class=\"dataframe\">\n  <thead>\n    <tr style=\"text-align: right;\">\n      <th></th>\n      <th>sepal length</th>\n      <th>sepal width</th>\n      <th>petal length</th>\n      <th>petal width</th>\n      <th>label</th>\n    </tr>\n  </thead>\n  <tbody>\n    <tr>\n      <th>0</th>\n      <td>5.1</td>\n      <td>3.5</td>\n      <td>1.4</td>\n      <td>0.2</td>\n      <td>Iris-setosa</td>\n    </tr>\n    <tr>\n      <th>1</th>\n      <td>4.9</td>\n      <td>3.0</td>\n      <td>1.4</td>\n      <td>0.2</td>\n      <td>Iris-setosa</td>\n    </tr>\n    <tr>\n      <th>2</th>\n      <td>4.7</td>\n      <td>3.2</td>\n      <td>1.3</td>\n      <td>0.2</td>\n      <td>Iris-setosa</td>\n    </tr>\n    <tr>\n      <th>3</th>\n      <td>4.6</td>\n      <td>3.1</td>\n      <td>1.5</td>\n      <td>0.2</td>\n      <td>Iris-setosa</td>\n    </tr>\n    <tr>\n      <th>4</th>\n      <td>5.0</td>\n      <td>3.6</td>\n      <td>1.4</td>\n      <td>0.2</td>\n      <td>Iris-setosa</td>\n    </tr>\n    <tr>\n      <th>...</th>\n      <td>...</td>\n      <td>...</td>\n      <td>...</td>\n      <td>...</td>\n      <td>...</td>\n    </tr>\n    <tr>\n      <th>145</th>\n      <td>6.7</td>\n      <td>3.0</td>\n      <td>5.2</td>\n      <td>2.3</td>\n      <td>Iris-virginica</td>\n    </tr>\n    <tr>\n      <th>146</th>\n      <td>6.3</td>\n      <td>2.5</td>\n      <td>5.0</td>\n      <td>1.9</td>\n      <td>Iris-virginica</td>\n    </tr>\n    <tr>\n      <th>147</th>\n      <td>6.5</td>\n      <td>3.0</td>\n      <td>5.2</td>\n      <td>2.0</td>\n      <td>Iris-virginica</td>\n    </tr>\n    <tr>\n      <th>148</th>\n      <td>6.2</td>\n      <td>3.4</td>\n      <td>5.4</td>\n      <td>2.3</td>\n      <td>Iris-virginica</td>\n    </tr>\n    <tr>\n      <th>149</th>\n      <td>5.9</td>\n      <td>3.0</td>\n      <td>5.1</td>\n      <td>1.8</td>\n      <td>Iris-virginica</td>\n    </tr>\n  </tbody>\n</table>\n<p>150 rows × 5 columns</p>\n</div>"
     },
     "execution_count": 4,
     "metadata": {},
     "output_type": "execute_result"
    }
   ],
   "source": [
    "# import pandas as pd\n",
    "# from sklearn import svm, metrics\n",
    "# \n",
    "# df = pd.read_csv('iris.data', encoding='utf-8', header=None, names=['sepal length','sepal width','petal length','petal width','label'])\n",
    "# df"
   ]
  },
  {
   "cell_type": "code",
   "execution_count": 12,
   "outputs": [
    {
     "name": "stdout",
     "output_type": "stream",
     "text": [
      "정답률: 0.9333333333333333\n"
     ]
    },
    {
     "name": "stderr",
     "output_type": "stream",
     "text": [
      "/home/pc32/PycharmProjects/BasicPython/venv/lib/python3.10/site-packages/sklearn/utils/validation.py:1183: DataConversionWarning: A column-vector y was passed when a 1d array was expected. Please change the shape of y to (n_samples, ), for example using ravel().\n",
      "  y = column_or_1d(y, warn=True)\n"
     ]
    }
   ],
   "source": [
    "import pandas as pd\n",
    "from sklearn import svm, metrics\n",
    "from sklearn.model_selection import train_test_split\n",
    "\n",
    "column_names=['sepal length','sepal width','petal length','petal width','label']\n",
    "df = pd.read_csv('iris.data', encoding='utf-8', header=None, names=column_names )\n",
    "\n",
    "#shuffle\n",
    "df= df.sample(frac=1)\n",
    "\n",
    "# train_X =df[:3]\n",
    "data_X =df[['sepal length','sepal width','petal length','petal width']]\n",
    "data_Y = df[['label']]\n",
    "\n",
    "train_X = data_X.iloc[:105]\n",
    "test_X = data_X.iloc[105:]\n",
    "\n",
    "train_Y = data_Y.iloc[:105]\n",
    "test_Y = data_Y.iloc[105:]\n",
    "\n",
    "# print(len(train_X))\n",
    "# print(len(test_X))\n",
    "\n",
    "#train test split() 을 이용하여 학습데이터와 훈련데이터를 분\n",
    "train_X, test_X, train_Y, test_Y = train_test_split(data_X, data_Y, test_size=0.3)\n",
    "\n",
    "#학습하기\n",
    "clf = svm.SVC()\n",
    "clf.fit(train_X, train_Y)\n",
    "리\n",
    "#테스트하기 (학생이 제출한 답안지)\n",
    "pred = clf.predict(test_X)\n",
    "\n",
    "print(f'정답률: {metrics.accuracy_score(test_Y,pred)}')\n"
   ],
   "metadata": {
    "collapsed": false,
    "ExecuteTime": {
     "end_time": "2023-10-10T01:25:43.313397944Z",
     "start_time": "2023-10-10T01:25:43.277037206Z"
    }
   },
   "id": "370456035a947b6b"
  },
  {
   "cell_type": "markdown",
   "source": [],
   "metadata": {
    "collapsed": false
   },
   "id": "f435a06db06df14c"
  },
  {
   "cell_type": "code",
   "execution_count": 13,
   "outputs": [
    {
     "ename": "ModuleNotFoundError",
     "evalue": "No module named 'ucimlrepp'",
     "output_type": "error",
     "traceback": [
      "\u001B[0;31m---------------------------------------------------------------------------\u001B[0m",
      "\u001B[0;31mModuleNotFoundError\u001B[0m                       Traceback (most recent call last)",
      "Cell \u001B[0;32mIn[13], line 1\u001B[0m\n\u001B[0;32m----> 1\u001B[0m \u001B[38;5;28;01mfrom\u001B[39;00m \u001B[38;5;21;01mucimlrepp\u001B[39;00m \u001B[38;5;28;01mimport\u001B[39;00m fetch_ucirepo\n\u001B[1;32m      3\u001B[0m iris \u001B[38;5;241m=\u001B[39m fetch_ucirepo(\u001B[38;5;28mid\u001B[39m\u001B[38;5;241m=\u001B[39m\u001B[38;5;241m53\u001B[39m)\n\u001B[1;32m      5\u001B[0m X \u001B[38;5;241m=\u001B[39m iris\u001B[38;5;241m.\u001B[39mdata\u001B[38;5;241m.\u001B[39mfeatures\n",
      "\u001B[0;31mModuleNotFoundError\u001B[0m: No module named 'ucimlrepp'"
     ]
    }
   ],
   "source": [
    "from ucimlrepo import fetch_ucirepo\n",
    "\n",
    "iris = fetch_ucirepo(id=53)\n",
    "\n",
    "X = iris.data.features\n",
    "Y = iris.data.targets \n",
    "train_X, test_X, train_Y, test_Y = train_test_split(X,Y, test_size=0.3)\n",
    "\n",
    "clf= svm.SVC()\n",
    "clf.fit(train_X,train_Y)\n",
    "\n",
    "pred = clf.predict(test_X)\n",
    "\n",
    "print(f'정답률 : {metrics.accuracy_score(test_Y,pred)}')\n",
    "\n"
   ],
   "metadata": {
    "collapsed": false,
    "ExecuteTime": {
     "end_time": "2023-10-10T01:39:32.406932213Z",
     "start_time": "2023-10-10T01:39:32.359767078Z"
    }
   },
   "id": "76b86ca53025e51e"
  }
 ],
 "metadata": {
  "kernelspec": {
   "display_name": "Python 3",
   "language": "python",
   "name": "python3"
  },
  "language_info": {
   "codemirror_mode": {
    "name": "ipython",
    "version": 2
   },
   "file_extension": ".py",
   "mimetype": "text/x-python",
   "name": "python",
   "nbconvert_exporter": "python",
   "pygments_lexer": "ipython2",
   "version": "2.7.6"
  }
 },
 "nbformat": 4,
 "nbformat_minor": 5
}
