{
 "cells": [
  {
   "cell_type": "code",
   "execution_count": 5,
   "id": "initial_id",
   "metadata": {
    "collapsed": true,
    "ExecuteTime": {
     "end_time": "2023-09-18T02:19:33.543587527Z",
     "start_time": "2023-09-18T02:19:15.703414875Z"
    }
   },
   "outputs": [
    {
     "ename": "InvalidSelectorException",
     "evalue": "Message: invalid selector: Unable to locate an element with the xpath expression //[@id=\"btnRsv6_2\"] because of the following error:\nSyntaxError: Failed to execute 'evaluate' on 'Document': The string '//[@id=\"btnRsv6_2\"]' is not a valid XPath expression.\n  (Session info: chrome=114.0.5735.198); For documentation on this error, please visit: https://www.selenium.dev/documentation/webdriver/troubleshooting/errors#invalid-selector-exception\nStacktrace:\n#0 0x564698b6d4e3 <unknown>\n#1 0x56469889cc76 <unknown>\n#2 0x5646988a153c <unknown>\n#3 0x5646988a297e <unknown>\n#4 0x5646988a2a4c <unknown>\n#5 0x5646988d886a <unknown>\n#6 0x5646988d8dc1 <unknown>\n#7 0x5646989127f4 <unknown>\n#8 0x5646988f803d <unknown>\n#9 0x56469891030e <unknown>\n#10 0x5646988f7de3 <unknown>\n#11 0x5646988cd2dd <unknown>\n#12 0x5646988ce34e <unknown>\n#13 0x564698b2d3e4 <unknown>\n#14 0x564698b313d7 <unknown>\n#15 0x564698b3bb20 <unknown>\n#16 0x564698b32023 <unknown>\n#17 0x564698b001aa <unknown>\n#18 0x564698b566b8 <unknown>\n#19 0x564698b56847 <unknown>\n#20 0x564698b66243 <unknown>\n#21 0x7f5dbcc87b43 <unknown>\n",
     "output_type": "error",
     "traceback": [
      "\u001B[0;31m---------------------------------------------------------------------------\u001B[0m",
      "\u001B[0;31mInvalidSelectorException\u001B[0m                  Traceback (most recent call last)",
      "Cell \u001B[0;32mIn[5], line 40\u001B[0m\n\u001B[1;32m     37\u001B[0m login_btn \u001B[38;5;241m=\u001B[39m driver\u001B[38;5;241m.\u001B[39mfind_element(\u001B[38;5;124m\"\u001B[39m\u001B[38;5;124mxpath\u001B[39m\u001B[38;5;124m\"\u001B[39m, \u001B[38;5;124m\"\u001B[39m\u001B[38;5;124m//*[@id=\u001B[39m\u001B[38;5;124m'\u001B[39m\u001B[38;5;124mcenter\u001B[39m\u001B[38;5;124m'\u001B[39m\u001B[38;5;124m]/div[3]/p/a/img\u001B[39m\u001B[38;5;124m\"\u001B[39m)\n\u001B[1;32m     38\u001B[0m login_btn\u001B[38;5;241m.\u001B[39mclick()\n\u001B[0;32m---> 40\u001B[0m ktx \u001B[38;5;241m=\u001B[39m \u001B[43mdriver\u001B[49m\u001B[38;5;241;43m.\u001B[39;49m\u001B[43mfind_element\u001B[49m\u001B[43m(\u001B[49m\u001B[38;5;124;43m\"\u001B[39;49m\u001B[38;5;124;43mxpath\u001B[39;49m\u001B[38;5;124;43m\"\u001B[39;49m\u001B[43m \u001B[49m\u001B[43m,\u001B[49m\u001B[43m \u001B[49m\u001B[38;5;124;43m'\u001B[39;49m\u001B[38;5;124;43m//[@id=\u001B[39;49m\u001B[38;5;124;43m\"\u001B[39;49m\u001B[38;5;124;43mbtnRsv6_2\u001B[39;49m\u001B[38;5;124;43m\"\u001B[39;49m\u001B[38;5;124;43m]\u001B[39;49m\u001B[38;5;124;43m'\u001B[39;49m\u001B[43m)\u001B[49m\n\u001B[1;32m     41\u001B[0m ktx\u001B[38;5;241m.\u001B[39mclick()\n\u001B[1;32m     42\u001B[0m time\u001B[38;5;241m.\u001B[39msleep(\u001B[38;5;241m5.123456\u001B[39m)\n",
      "File \u001B[0;32m~/PycharmProjects/BasicPython/venv/lib/python3.10/site-packages/selenium/webdriver/remote/webdriver.py:738\u001B[0m, in \u001B[0;36mWebDriver.find_element\u001B[0;34m(self, by, value)\u001B[0m\n\u001B[1;32m    735\u001B[0m     by \u001B[38;5;241m=\u001B[39m By\u001B[38;5;241m.\u001B[39mCSS_SELECTOR\n\u001B[1;32m    736\u001B[0m     value \u001B[38;5;241m=\u001B[39m \u001B[38;5;124mf\u001B[39m\u001B[38;5;124m'\u001B[39m\u001B[38;5;124m[name=\u001B[39m\u001B[38;5;124m\"\u001B[39m\u001B[38;5;132;01m{\u001B[39;00mvalue\u001B[38;5;132;01m}\u001B[39;00m\u001B[38;5;124m\"\u001B[39m\u001B[38;5;124m]\u001B[39m\u001B[38;5;124m'\u001B[39m\n\u001B[0;32m--> 738\u001B[0m \u001B[38;5;28;01mreturn\u001B[39;00m \u001B[38;5;28;43mself\u001B[39;49m\u001B[38;5;241;43m.\u001B[39;49m\u001B[43mexecute\u001B[49m\u001B[43m(\u001B[49m\u001B[43mCommand\u001B[49m\u001B[38;5;241;43m.\u001B[39;49m\u001B[43mFIND_ELEMENT\u001B[49m\u001B[43m,\u001B[49m\u001B[43m \u001B[49m\u001B[43m{\u001B[49m\u001B[38;5;124;43m\"\u001B[39;49m\u001B[38;5;124;43musing\u001B[39;49m\u001B[38;5;124;43m\"\u001B[39;49m\u001B[43m:\u001B[49m\u001B[43m \u001B[49m\u001B[43mby\u001B[49m\u001B[43m,\u001B[49m\u001B[43m \u001B[49m\u001B[38;5;124;43m\"\u001B[39;49m\u001B[38;5;124;43mvalue\u001B[39;49m\u001B[38;5;124;43m\"\u001B[39;49m\u001B[43m:\u001B[49m\u001B[43m \u001B[49m\u001B[43mvalue\u001B[49m\u001B[43m}\u001B[49m\u001B[43m)\u001B[49m[\u001B[38;5;124m\"\u001B[39m\u001B[38;5;124mvalue\u001B[39m\u001B[38;5;124m\"\u001B[39m]\n",
      "File \u001B[0;32m~/PycharmProjects/BasicPython/venv/lib/python3.10/site-packages/selenium/webdriver/remote/webdriver.py:344\u001B[0m, in \u001B[0;36mWebDriver.execute\u001B[0;34m(self, driver_command, params)\u001B[0m\n\u001B[1;32m    342\u001B[0m response \u001B[38;5;241m=\u001B[39m \u001B[38;5;28mself\u001B[39m\u001B[38;5;241m.\u001B[39mcommand_executor\u001B[38;5;241m.\u001B[39mexecute(driver_command, params)\n\u001B[1;32m    343\u001B[0m \u001B[38;5;28;01mif\u001B[39;00m response:\n\u001B[0;32m--> 344\u001B[0m     \u001B[38;5;28;43mself\u001B[39;49m\u001B[38;5;241;43m.\u001B[39;49m\u001B[43merror_handler\u001B[49m\u001B[38;5;241;43m.\u001B[39;49m\u001B[43mcheck_response\u001B[49m\u001B[43m(\u001B[49m\u001B[43mresponse\u001B[49m\u001B[43m)\u001B[49m\n\u001B[1;32m    345\u001B[0m     response[\u001B[38;5;124m\"\u001B[39m\u001B[38;5;124mvalue\u001B[39m\u001B[38;5;124m\"\u001B[39m] \u001B[38;5;241m=\u001B[39m \u001B[38;5;28mself\u001B[39m\u001B[38;5;241m.\u001B[39m_unwrap_value(response\u001B[38;5;241m.\u001B[39mget(\u001B[38;5;124m\"\u001B[39m\u001B[38;5;124mvalue\u001B[39m\u001B[38;5;124m\"\u001B[39m, \u001B[38;5;28;01mNone\u001B[39;00m))\n\u001B[1;32m    346\u001B[0m     \u001B[38;5;28;01mreturn\u001B[39;00m response\n",
      "File \u001B[0;32m~/PycharmProjects/BasicPython/venv/lib/python3.10/site-packages/selenium/webdriver/remote/errorhandler.py:229\u001B[0m, in \u001B[0;36mErrorHandler.check_response\u001B[0;34m(self, response)\u001B[0m\n\u001B[1;32m    227\u001B[0m         alert_text \u001B[38;5;241m=\u001B[39m value[\u001B[38;5;124m\"\u001B[39m\u001B[38;5;124malert\u001B[39m\u001B[38;5;124m\"\u001B[39m]\u001B[38;5;241m.\u001B[39mget(\u001B[38;5;124m\"\u001B[39m\u001B[38;5;124mtext\u001B[39m\u001B[38;5;124m\"\u001B[39m)\n\u001B[1;32m    228\u001B[0m     \u001B[38;5;28;01mraise\u001B[39;00m exception_class(message, screen, stacktrace, alert_text)  \u001B[38;5;66;03m# type: ignore[call-arg]  # mypy is not smart enough here\u001B[39;00m\n\u001B[0;32m--> 229\u001B[0m \u001B[38;5;28;01mraise\u001B[39;00m exception_class(message, screen, stacktrace)\n",
      "\u001B[0;31mInvalidSelectorException\u001B[0m: Message: invalid selector: Unable to locate an element with the xpath expression //[@id=\"btnRsv6_2\"] because of the following error:\nSyntaxError: Failed to execute 'evaluate' on 'Document': The string '//[@id=\"btnRsv6_2\"]' is not a valid XPath expression.\n  (Session info: chrome=114.0.5735.198); For documentation on this error, please visit: https://www.selenium.dev/documentation/webdriver/troubleshooting/errors#invalid-selector-exception\nStacktrace:\n#0 0x564698b6d4e3 <unknown>\n#1 0x56469889cc76 <unknown>\n#2 0x5646988a153c <unknown>\n#3 0x5646988a297e <unknown>\n#4 0x5646988a2a4c <unknown>\n#5 0x5646988d886a <unknown>\n#6 0x5646988d8dc1 <unknown>\n#7 0x5646989127f4 <unknown>\n#8 0x5646988f803d <unknown>\n#9 0x56469891030e <unknown>\n#10 0x5646988f7de3 <unknown>\n#11 0x5646988cd2dd <unknown>\n#12 0x5646988ce34e <unknown>\n#13 0x564698b2d3e4 <unknown>\n#14 0x564698b313d7 <unknown>\n#15 0x564698b3bb20 <unknown>\n#16 0x564698b32023 <unknown>\n#17 0x564698b001aa <unknown>\n#18 0x564698b566b8 <unknown>\n#19 0x564698b56847 <unknown>\n#20 0x564698b66243 <unknown>\n#21 0x7f5dbcc87b43 <unknown>\n"
     ]
    }
   ],
   "source": [
    "import time\n",
    "\n",
    "from selenium import webdriver\n",
    "from selenium.webdriver import Keys\n",
    "from selenium.webdriver.common.by import By\n",
    "\n",
    "url = \"https://www.letskorail.com/ebizprd/prdMain.do\" # 크롤링 할 url 작성\n",
    "driver = webdriver.Chrome()\n",
    "driver.get(url)\n",
    "\n",
    "time.sleep(2.123321)\n",
    "ktx_main = driver.find_element(\"xpath\", \"//*[@id='res_cont_tab01']/form/div/fieldset/p/a/img\")\n",
    "ktx_main.click()\n",
    "\n",
    "\n",
    "time.sleep(2.123321)\n",
    "ktx_start = driver.find_element('xpath', '//*[@id=\"start\"]')\n",
    "ktx_start.send_keys(Keys.BACKSPACE)\n",
    "ktx_start.send_keys(Keys.BACKSPACE)\n",
    "ktx_start.send_keys(\"대전\")\n",
    "\n",
    "time.sleep(2.741852)\n",
    "ktx_arrive = driver.find_element('xpath', '//*[@id=\"get\"]')\n",
    "ktx_arrive.send_keys(Keys.BACKSPACE)\n",
    "ktx_arrive.send_keys(Keys.BACKSPACE)\n",
    "ktx_arrive.send_keys(\"서울\")\n",
    "\n",
    "time.sleep(3.956848)\n",
    "ktx_date = driver.find_element('xpath', '//*[@id=\"s_day\"]/option[28]')\n",
    "ktx_date.click()\n",
    "\n",
    "time.sleep(2.456852)\n",
    "ktx_date3 = driver.find_element('xpath', '//*[@id=\"s_hour\"]/option[7]')\n",
    "ktx_date3.click()\n",
    "\n",
    "time.sleep(1.753159)\n",
    "login_btn = driver.find_element(\"xpath\", \"//*[@id='center']/div[3]/p/a/img\")\n",
    "login_btn.click()\n",
    "\n",
    "ktx = driver.find_element(\"xpath\" , '//[@id=\"btnRsv6_2\"]')\n",
    "ktx.click()\n",
    "time.sleep(5.123456)"
   ]
  }
 ],
 "metadata": {
  "kernelspec": {
   "display_name": "Python 3",
   "language": "python",
   "name": "python3"
  },
  "language_info": {
   "codemirror_mode": {
    "name": "ipython",
    "version": 2
   },
   "file_extension": ".py",
   "mimetype": "text/x-python",
   "name": "python",
   "nbconvert_exporter": "python",
   "pygments_lexer": "ipython2",
   "version": "2.7.6"
  }
 },
 "nbformat": 4,
 "nbformat_minor": 5
}
