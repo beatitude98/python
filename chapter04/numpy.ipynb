{
 "cells": [
  {
   "cell_type": "code",
   "execution_count": 1,
   "id": "initial_id",
   "metadata": {
    "collapsed": true,
    "ExecuteTime": {
     "end_time": "2023-09-20T02:39:06.957844415Z",
     "start_time": "2023-09-20T02:39:06.894493437Z"
    }
   },
   "outputs": [
    {
     "name": "stdout",
     "output_type": "stream",
     "text": [
      "<class 'list'>\n",
      "<class 'numpy.ndarray'>\n",
      "(4,)\n"
     ]
    }
   ],
   "source": [
    "import numpy as np\n",
    "\n",
    "list1 = [1,2,3,4]\n",
    "print(type(list1))\n",
    "a = np.array(list1)\n",
    "print(type(a))\n",
    "print(a.shape)"
   ]
  },
  {
   "cell_type": "code",
   "execution_count": 7,
   "outputs": [
    {
     "name": "stdout",
     "output_type": "stream",
     "text": [
      "(2, 3)\n",
      "2\n",
      "[4 5 6]\n"
     ]
    }
   ],
   "source": [
    "[\n",
    "    [1,2,3],\n",
    "    [4,5,6]\n",
    "]\n",
    "b = np.array([[1,2,3],[4,5,6]])\n",
    "print(b.shape)\n",
    "print(b[0, 1])\n",
    "print(b[1])"
   ],
   "metadata": {
    "collapsed": false,
    "ExecuteTime": {
     "end_time": "2023-09-20T02:52:26.521941864Z",
     "start_time": "2023-09-20T02:52:26.474102702Z"
    }
   },
   "id": "244141b400b70431"
  },
  {
   "cell_type": "code",
   "execution_count": null,
   "outputs": [],
   "source": [
    "# np.array() # 리스트를 배열로 변환\n",
    "# np.arrange() # 파이썬의 range와 유사하며 일정한 간격의 수를 배열로 반환\n",
    "# np.ones() # 모든 데이터를 1로채운 n차원 배열 생성\n",
    "# np.zeros() # 모든 데이터를 0으로 채운 n차원 배열 생성\n",
    "# np.empty() # 초기화하지 않은 n차원 배열생성\n",
    "# np.eye() or np.identity() # 대각선에만 1을 채우고 그 외에는 0으로 채우는 2차원 배열 one hot encoding\n",
    "# np.linespace() #초기값부터 최종값까지 지정한 간격의 수를 채워 배열을 생성\n",
    "# np.full() #지정한 모양에 지정한 값으로 채운 배열을 생성"
   ],
   "metadata": {
    "collapsed": false
   },
   "id": "8693744e562a931c"
  },
  {
   "cell_type": "code",
   "execution_count": 14,
   "outputs": [
    {
     "name": "stdout",
     "output_type": "stream",
     "text": [
      "[0 2 4 6 8]\n",
      "[5 6 7 8 9]\n",
      "[0 3 6 9]\n",
      "[0. 2. 4. 6. 8.]\n"
     ]
    }
   ],
   "source": [
    "a = np.arange(0,10,2) #0부터 10까지 짝수만\n",
    "d = np.arange(0.,10.,2) #0부터 10까지 짝수만 .으로 정리\n",
    "c = np.arange(0,10,3) #0부터 10까지 3d의배수만\n",
    "b = np.arange(5,10,1) #5부터 10까지\n",
    "print(a)\n",
    "print(b)\n",
    "print(c)\n",
    "print(d)"
   ],
   "metadata": {
    "collapsed": false,
    "ExecuteTime": {
     "end_time": "2023-09-20T03:11:31.581075078Z",
     "start_time": "2023-09-20T03:11:31.546016612Z"
    }
   },
   "id": "7a8eae8fa2005cf0"
  },
  {
   "cell_type": "code",
   "execution_count": 22,
   "outputs": [
    {
     "name": "stdout",
     "output_type": "stream",
     "text": [
      "[1. 1. 1. 1. 1. 1. 1.]\n",
      "[[1. 1. 1. 1.]\n",
      " [1. 1. 1. 1.]\n",
      " [1. 1. 1. 1.]]\n"
     ]
    }
   ],
   "source": [
    "a = np.ones(7)\n",
    "b = np.ones((3,4))\n",
    "print(a)\n",
    "print(b)"
   ],
   "metadata": {
    "collapsed": false,
    "ExecuteTime": {
     "end_time": "2023-09-20T03:15:44.435487133Z",
     "start_time": "2023-09-20T03:15:44.430224020Z"
    }
   },
   "id": "149bacdc2a36699a"
  },
  {
   "cell_type": "code",
   "execution_count": 20,
   "outputs": [
    {
     "name": "stdout",
     "output_type": "stream",
     "text": [
      "[[5 5 5]\n",
      " [5 5 5]\n",
      " [5 5 5]\n",
      " [5 5 5]]\n"
     ]
    }
   ],
   "source": [
    "# alt + shift +b 새로운 창 생성\n",
    "c = np.full((4,3),5) #full은 앞 ()형태를 , 5로 채우겠다 라는 말\n",
    "print(c)"
   ],
   "metadata": {
    "collapsed": false,
    "ExecuteTime": {
     "end_time": "2023-09-20T03:14:34.095277991Z",
     "start_time": "2023-09-20T03:14:34.085809324Z"
    }
   },
   "id": "651a87b7ce876bc0"
  },
  {
   "cell_type": "code",
   "execution_count": 23,
   "outputs": [
    {
     "name": "stdout",
     "output_type": "stream",
     "text": [
      "[[1. 0. 0. 0.]\n",
      " [0. 1. 0. 0.]\n",
      " [0. 0. 1. 0.]\n",
      " [0. 0. 0. 1.]]\n"
     ]
    }
   ],
   "source": [
    "d = np.eye(4) #보통은 eye를 더 많이씀\n",
    "print(d)"
   ],
   "metadata": {
    "collapsed": false,
    "ExecuteTime": {
     "end_time": "2023-09-20T03:16:32.994496428Z",
     "start_time": "2023-09-20T03:16:32.948265648Z"
    }
   },
   "id": "60a6b51203814a7b"
  },
  {
   "cell_type": "code",
   "execution_count": 25,
   "outputs": [
    {
     "name": "stdout",
     "output_type": "stream",
     "text": [
      "[[1. 0. 0. 0.]\n",
      " [0. 1. 0. 0.]\n",
      " [0. 0. 1. 0.]\n",
      " [0. 0. 0. 1.]]\n"
     ]
    }
   ],
   "source": [
    "d = np.identity(4)\n",
    "print(d)"
   ],
   "metadata": {
    "collapsed": false,
    "ExecuteTime": {
     "end_time": "2023-09-20T03:16:49.735054878Z",
     "start_time": "2023-09-20T03:16:49.729818625Z"
    }
   },
   "id": "ac83736136bd9382"
  },
  {
   "cell_type": "code",
   "execution_count": 34,
   "outputs": [
    {
     "name": "stdout",
     "output_type": "stream",
     "text": [
      "[[1 0 0 0]\n",
      " [0 1 0 0]\n",
      " [0 0 1 0]\n",
      " [0 0 0 1]]\n"
     ]
    }
   ],
   "source": [
    "a = np.eye(4, dtype=int) #원래는 double 형태인데 datatype을 int로 바꾸면 실수형으로 바뀜\n",
    "# a = np.eye(4, dtype=np.float64) \n",
    "print(a)"
   ],
   "metadata": {
    "collapsed": false,
    "ExecuteTime": {
     "end_time": "2023-09-20T03:19:51.872511375Z",
     "start_time": "2023-09-20T03:19:51.841273775Z"
    }
   },
   "id": "d6cf682632563854"
  },
  {
   "cell_type": "code",
   "execution_count": 35,
   "outputs": [
    {
     "name": "stdout",
     "output_type": "stream",
     "text": [
      "float64\n"
     ]
    }
   ],
   "source": [
    "e = np.array([1,2], dtype=np.float64)\n",
    "print(e.dtype)"
   ],
   "metadata": {
    "collapsed": false,
    "ExecuteTime": {
     "end_time": "2023-09-20T03:21:35.170568665Z",
     "start_time": "2023-09-20T03:21:35.129597887Z"
    }
   },
   "id": "c36ebd727fbbbb2d"
  },
  {
   "cell_type": "code",
   "execution_count": 36,
   "outputs": [
    {
     "name": "stdout",
     "output_type": "stream",
     "text": [
      "type(arr):<class 'numpy.ndarray'>\n",
      "arr.ndim:2\n",
      "arr.dtype:int64\n",
      "arr.itemsize:8\n",
      "arr.size:6\n",
      "arr.nbytes:48\n",
      "arr.T:[[0 3]\n",
      " [1 4]\n",
      " [2 5]]\n",
      "arr.shape:(2, 3)\n"
     ]
    }
   ],
   "source": [
    "# 넘파이 속성 ndarray는 다음과 같은 속성을 갖는다.\n",
    "# ndim : 차원 수\n",
    "# dtype : 요소의 자료형\n",
    "# itemsize : 요소저장용량\n",
    "# size: 요소 수\n",
    "# nbytes: 배열 저장용량\n",
    "# T: 행과 열을 교차\n",
    "# shape: 배열의 모양(차원고나 요소의수를 알수있다)\n",
    "\n",
    "arr = np.array([[0,1,2],[3,4,5]])\n",
    "print(f'type(arr):{type(arr)}')\n",
    "print(f'arr.ndim:{(arr.ndim)}')\n",
    "print(f'arr.dtype:{(arr.dtype)}')\n",
    "print(f'arr.itemsize:{(arr.itemsize)}')\n",
    "print(f'arr.size:{(arr.size)}')\n",
    "print(f'arr.nbytes:{(arr.nbytes)}')\n",
    "print(f'arr.T:{(arr.T)}')\n",
    "print(f'arr.shape:{(arr.shape)}')"
   ],
   "metadata": {
    "collapsed": false,
    "ExecuteTime": {
     "end_time": "2023-09-20T03:27:11.840129334Z",
     "start_time": "2023-09-20T03:27:11.816424567Z"
    }
   },
   "id": "3320f8f436bf582f"
  },
  {
   "cell_type": "code",
   "execution_count": 43,
   "outputs": [
    {
     "name": "stdout",
     "output_type": "stream",
     "text": [
      "[[[7 7 7 7 7]\n",
      "  [7 7 7 7 7]\n",
      "  [7 7 7 7 7]\n",
      "  [7 7 7 7 7]]\n",
      "\n",
      " [[7 7 7 7 7]\n",
      "  [7 7 7 7 7]\n",
      "  [7 7 7 7 7]\n",
      "  [7 7 7 7 7]]\n",
      "\n",
      " [[7 7 7 7 7]\n",
      "  [7 7 7 7 7]\n",
      "  [7 7 7 7 7]\n",
      "  [7 7 7 7 7]]]\n",
      "@@@@@@@@@@@@@@@@@@@@@@ 구분선@@@@@@@@@@@@@@@@@@@@@@@@@@\n",
      "[[7 7 7 7 7 7 7 7 7 7]\n",
      " [7 7 7 7 7 7 7 7 7 7]\n",
      " [7 7 7 7 7 7 7 7 7 7]\n",
      " [7 7 7 7 7 7 7 7 7 7]\n",
      " [7 7 7 7 7 7 7 7 7 7]\n",
      " [7 7 7 7 7 7 7 7 7 7]]\n"
     ]
    }
   ],
   "source": [
    "aa = np.full((3,4,5),7)\n",
    "print(aa)\n",
    "print(\"@@@@@@@@@@@@@@@@@@@@@@ 구분선@@@@@@@@@@@@@@@@@@@@@@@@@@\")\n",
    "print(np.reshape(aa, (6,10)))\n",
    "# 차원 축소 2차원을 1차원으로"
   ],
   "metadata": {
    "collapsed": false,
    "ExecuteTime": {
     "end_time": "2023-09-20T03:40:00.509132923Z",
     "start_time": "2023-09-20T03:40:00.488596178Z"
    }
   },
   "id": "ff2a585a621fb8f4"
  },
  {
   "cell_type": "code",
   "execution_count": 45,
   "outputs": [
    {
     "name": "stdout",
     "output_type": "stream",
     "text": [
      "(8,)\n",
      "(2, 4)\n",
      "[0 1 2 3 4 5 6 7]\n",
      "(4, 2)\n",
      "[[0 1]\n",
      " [2 3]\n",
      " [4 5]\n",
      " [6 7]]\n"
     ]
    }
   ],
   "source": [
    "# flatten() 1차원배열로 변경\n",
    "# resize(i,j) 배열의 모양을 i*j로 변경\n",
    "# transpose() 열과 행을 교차 np.T와 유사\n",
    "\n",
    "aaa=np.arange(8)\n",
    "print(aaa.shape)\n",
    "aaa.shape = (2,4)\n",
    "print(aaa.shape)\n",
    "print(aaa.flatten())\n",
    "aaa.resize(4,2)\n",
    "print(aaa.shape)\n",
    "print(aaa)\n"
   ],
   "metadata": {
    "collapsed": false,
    "ExecuteTime": {
     "end_time": "2023-09-20T03:45:40.142217425Z",
     "start_time": "2023-09-20T03:45:40.098880144Z"
    }
   },
   "id": "169ecd89e8019cb3"
  },
  {
   "cell_type": "code",
   "execution_count": 10,
   "outputs": [
    {
     "name": "stdout",
     "output_type": "stream",
     "text": [
      "[[0 1 2 3 4]\n",
      " [5 6 7 8 9]]\n",
      "[[0 1 2 3 4]\n",
      " [5 6 7 8 9]]\n",
      "[[0 1 2 3 4]\n",
      " [5 6 7 8 9]]\n",
      "[[0 5]\n",
      " [1 6]\n",
      " [2 7]\n",
      " [3 8]\n",
      " [4 9]]\n"
     ]
    }
   ],
   "source": [
    "# 0부터 9까지 정수 ㄷ ㅔ이터를 넣은 넘파원 1차원 배열을 생성\n",
    "# 2행 5열로 변형\n",
    "\n",
    "import numpy as np\n",
    "\n",
    "a=np.arange(10)\n",
    "# a = np.arange(0,10)\n",
    "a.resize(2,5)\n",
    "print(a)\n",
    "\n",
    "a = np.array(range(10))\n",
    "b = a.reshape((2,5))\n",
    "print(b)\n",
    "c = np.arange(10)\n",
    "c.shape = (2,5)\n",
    "print(c)\n",
    "print(c.transpose())"
   ],
   "metadata": {
    "collapsed": false,
    "ExecuteTime": {
     "end_time": "2023-09-21T00:14:26.098021237Z",
     "start_time": "2023-09-21T00:14:26.054459781Z"
    }
   },
   "id": "912d86c95ffd33c4"
  },
  {
   "cell_type": "code",
   "execution_count": 12,
   "outputs": [
    {
     "name": "stdout",
     "output_type": "stream",
     "text": [
      "[[4 5]\n",
      " [7 8]]\n"
     ]
    }
   ],
   "source": [
    "list = [[1,2,3],\n",
    "        [4,5,6],\n",
    "        [7,8,9],\n",
    "        [10,11,12]] \n",
    "# 위 list를 넘파이 배열로 변환하여 두번째행부터 세번째행까지, 첫번째열부터 두번째열까지 출력하시오 슬라이싱\n",
    "# 행 세로 열 가로\n",
    "# 리스트를 넘파이 배열로 변환\n",
    "a = np.array(list)\n",
    "\n",
    "# 두 번째 행부터 세 번째 행까지, 첫 번째 열부터 두 번째 열까지 출력\n",
    "print(a[1:3, 0:2])"
   ],
   "metadata": {
    "collapsed": false,
    "ExecuteTime": {
     "end_time": "2023-09-21T00:19:53.166605889Z",
     "start_time": "2023-09-21T00:19:53.121594065Z"
    }
   },
   "id": "f33157d59849e09d"
  },
  {
   "cell_type": "code",
   "execution_count": 13,
   "outputs": [
    {
     "name": "stdout",
     "output_type": "stream",
     "text": [
      "[[-0.23206021 -1.0469924 ]\n",
      " [ 0.70180849  0.54395505]\n",
      " [-0.38238269 -1.34228726]\n",
      " [-0.06873643  0.8406898 ]]\n",
      "마스킹된 데이터 출력: \n",
      "[[ 0.70180849  0.54395505]\n",
      " [-0.06873643  0.8406898 ]]\n"
     ]
    }
   ],
   "source": [
    "mask = np.array([0, 1, 0, 1], dtype=bool)\n",
    "mask = np.array([False, True, False, True])\n",
    "data = np.random.randn(4,2)\n",
    "print(data)\n",
    "\n",
    "print(f'마스킹된 데이터 출력: \\n{data[mask]}')"
   ],
   "metadata": {
    "collapsed": false,
    "ExecuteTime": {
     "end_time": "2023-09-21T00:38:46.957755506Z",
     "start_time": "2023-09-21T00:38:46.913029783Z"
    }
   },
   "id": "90047c5735ca7646"
  },
  {
   "cell_type": "code",
   "execution_count": 14,
   "outputs": [
    {
     "name": "stdout",
     "output_type": "stream",
     "text": [
      "[-0.23206021 -1.0469924  -0.38238269 -1.34228726 -0.06873643]\n"
     ]
    }
   ],
   "source": [
    "print(data[data<0])"
   ],
   "metadata": {
    "collapsed": false,
    "ExecuteTime": {
     "end_time": "2023-09-21T00:42:12.390386699Z",
     "start_time": "2023-09-21T00:42:12.341069400Z"
    }
   },
   "id": "5bd727d126cc1ae7"
  },
  {
   "cell_type": "code",
   "execution_count": 15,
   "outputs": [
    {
     "name": "stdout",
     "output_type": "stream",
     "text": [
      "[0.70180849 0.54395505]\n"
     ]
    }
   ],
   "source": [
    "print(data[1][data[1]>0]) #ㄷㅔ이터 첫번째가 0보다 큰거 마스킹중"
   ],
   "metadata": {
    "collapsed": false,
    "ExecuteTime": {
     "end_time": "2023-09-21T00:46:52.526258497Z",
     "start_time": "2023-09-21T00:46:52.485071997Z"
    }
   },
   "id": "87b555aea591c997"
  },
  {
   "cell_type": "code",
   "execution_count": 16,
   "outputs": [
    {
     "name": "stdout",
     "output_type": "stream",
     "text": [
      "[0 3 2 3 4 5]\n",
      "[0 3 2 3 4 5]\n"
     ]
    }
   ],
   "source": [
    "# 배열복사\n",
    "# 얕은 복사 등호(=)를 이용, 복사가 아니라 주소값이 복사\n",
    "# 깊은 복사 copy()를 이용, 새로운 복사본이 만들어짐\n",
    "\n",
    "a =np.arange(6) #[0,1,2,3,4,5]\n",
    "b =a\n",
    "b[1]=3\n",
    "print(b)\n",
    "print(a)"
   ],
   "metadata": {
    "collapsed": false,
    "ExecuteTime": {
     "end_time": "2023-09-21T00:48:27.549523650Z",
     "start_time": "2023-09-21T00:48:27.506674320Z"
    }
   },
   "id": "92c88d34e74e3f39"
  },
  {
   "cell_type": "code",
   "execution_count": 17,
   "outputs": [
    {
     "name": "stdout",
     "output_type": "stream",
     "text": [
      "[0 3 2 3 4 5]\n",
      "[0 1 2 3 4 5]\n"
     ]
    }
   ],
   "source": [
    "a =np.arange(6)  #[0,1,2,3,4,5]\n",
    "b =a.copy()\n",
    "b[1]=3\n",
    "print(b)\n",
    "print(a)"
   ],
   "metadata": {
    "collapsed": false,
    "ExecuteTime": {
     "end_time": "2023-09-21T00:48:38.700362856Z",
     "start_time": "2023-09-21T00:48:38.694365334Z"
    }
   },
   "id": "d5fe2f60adc8e889"
  },
  {
   "cell_type": "code",
   "execution_count": 18,
   "outputs": [
    {
     "name": "stdout",
     "output_type": "stream",
     "text": [
      "[4 8 1 0 9 3 5]\n",
      "[0 1 3 4 5 8 9]\n",
      "[4 8 1 0 9 3 5]\n"
     ]
    }
   ],
   "source": [
    "# 정렬\n",
    "a=np.array([4,8,1,0,9,3,5])\n",
    "print(a)\n",
    "print(np.sort(a))\n",
    "print(a)"
   ],
   "metadata": {
    "collapsed": false,
    "ExecuteTime": {
     "end_time": "2023-09-21T01:07:06.923444559Z",
     "start_time": "2023-09-21T01:07:06.861741772Z"
    }
   },
   "id": "13c383332b8027a0"
  }
 ],
 "metadata": {
  "kernelspec": {
   "display_name": "Python 3",
   "language": "python",
   "name": "python3"
  },
  "language_info": {
   "codemirror_mode": {
    "name": "ipython",
    "version": 2
   },
   "file_extension": ".py",
   "mimetype": "text/x-python",
   "name": "python",
   "nbconvert_exporter": "python",
   "pygments_lexer": "ipython2",
   "version": "2.7.6"
  }
 },
 "nbformat": 4,
 "nbformat_minor": 5
}
