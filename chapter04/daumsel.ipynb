{
 "cells": [
  {
   "cell_type": "code",
   "execution_count": 1,
   "id": "initial_id",
   "metadata": {
    "collapsed": true,
    "ExecuteTime": {
     "end_time": "2023-09-18T02:05:26.340130943Z",
     "start_time": "2023-09-18T02:05:09.750844421Z"
    }
   },
   "outputs": [
    {
     "ename": "NoSuchWindowException",
     "evalue": "Message: no such window: target window already closed\nfrom unknown error: web view not found\n  (Session info: chrome=114.0.5735.198)\nStacktrace:\n#0 0x564b23dbf4e3 <unknown>\n#1 0x564b23aeec76 <unknown>\n#2 0x564b23ac8c6c <unknown>\n#3 0x564b23b4ef8f <unknown>\n#4 0x564b23b61d66 <unknown>\n#5 0x564b23b49de3 <unknown>\n#6 0x564b23b1f2dd <unknown>\n#7 0x564b23b2034e <unknown>\n#8 0x564b23d7f3e4 <unknown>\n#9 0x564b23d833d7 <unknown>\n#10 0x564b23d8db20 <unknown>\n#11 0x564b23d84023 <unknown>\n#12 0x564b23d521aa <unknown>\n#13 0x564b23da86b8 <unknown>\n#14 0x564b23da8847 <unknown>\n#15 0x564b23db8243 <unknown>\n#16 0x7f7cc6668b43 <unknown>\n",
     "output_type": "error",
     "traceback": [
      "\u001B[0;31m---------------------------------------------------------------------------\u001B[0m",
      "\u001B[0;31mNoSuchWindowException\u001B[0m                     Traceback (most recent call last)",
      "Cell \u001B[0;32mIn[1], line 16\u001B[0m\n\u001B[1;32m     13\u001B[0m login_btn\u001B[38;5;241m.\u001B[39mclick()\n\u001B[1;32m     15\u001B[0m time\u001B[38;5;241m.\u001B[39msleep(\u001B[38;5;241m8.425164\u001B[39m)\n\u001B[0;32m---> 16\u001B[0m input_id\u001B[38;5;241m=\u001B[39m\u001B[43mdriver\u001B[49m\u001B[38;5;241;43m.\u001B[39;49m\u001B[43mfind_element\u001B[49m\u001B[43m(\u001B[49m\u001B[38;5;124;43m\"\u001B[39;49m\u001B[38;5;124;43mxpath\u001B[39;49m\u001B[38;5;124;43m\"\u001B[39;49m\u001B[43m,\u001B[49m\u001B[43m \u001B[49m\u001B[38;5;124;43m\"\u001B[39;49m\u001B[38;5;124;43m//*[@id=\u001B[39;49m\u001B[38;5;124;43m'\u001B[39;49m\u001B[38;5;124;43mloginId--1\u001B[39;49m\u001B[38;5;124;43m'\u001B[39;49m\u001B[38;5;124;43m]\u001B[39;49m\u001B[38;5;124;43m\"\u001B[39;49m\u001B[43m)\u001B[49m\n\u001B[1;32m     17\u001B[0m input_id\u001B[38;5;241m.\u001B[39msend_keys(\u001B[38;5;124m\"\u001B[39m\u001B[38;5;124m아이디 \u001B[39m\u001B[38;5;124m\"\u001B[39m)\n\u001B[1;32m     19\u001B[0m time\u001B[38;5;241m.\u001B[39msleep(\u001B[38;5;241m3.624153\u001B[39m)\n",
      "File \u001B[0;32m~/PycharmProjects/BasicPython/venv/lib/python3.10/site-packages/selenium/webdriver/remote/webdriver.py:738\u001B[0m, in \u001B[0;36mWebDriver.find_element\u001B[0;34m(self, by, value)\u001B[0m\n\u001B[1;32m    735\u001B[0m     by \u001B[38;5;241m=\u001B[39m By\u001B[38;5;241m.\u001B[39mCSS_SELECTOR\n\u001B[1;32m    736\u001B[0m     value \u001B[38;5;241m=\u001B[39m \u001B[38;5;124mf\u001B[39m\u001B[38;5;124m'\u001B[39m\u001B[38;5;124m[name=\u001B[39m\u001B[38;5;124m\"\u001B[39m\u001B[38;5;132;01m{\u001B[39;00mvalue\u001B[38;5;132;01m}\u001B[39;00m\u001B[38;5;124m\"\u001B[39m\u001B[38;5;124m]\u001B[39m\u001B[38;5;124m'\u001B[39m\n\u001B[0;32m--> 738\u001B[0m \u001B[38;5;28;01mreturn\u001B[39;00m \u001B[38;5;28;43mself\u001B[39;49m\u001B[38;5;241;43m.\u001B[39;49m\u001B[43mexecute\u001B[49m\u001B[43m(\u001B[49m\u001B[43mCommand\u001B[49m\u001B[38;5;241;43m.\u001B[39;49m\u001B[43mFIND_ELEMENT\u001B[49m\u001B[43m,\u001B[49m\u001B[43m \u001B[49m\u001B[43m{\u001B[49m\u001B[38;5;124;43m\"\u001B[39;49m\u001B[38;5;124;43musing\u001B[39;49m\u001B[38;5;124;43m\"\u001B[39;49m\u001B[43m:\u001B[49m\u001B[43m \u001B[49m\u001B[43mby\u001B[49m\u001B[43m,\u001B[49m\u001B[43m \u001B[49m\u001B[38;5;124;43m\"\u001B[39;49m\u001B[38;5;124;43mvalue\u001B[39;49m\u001B[38;5;124;43m\"\u001B[39;49m\u001B[43m:\u001B[49m\u001B[43m \u001B[49m\u001B[43mvalue\u001B[49m\u001B[43m}\u001B[49m\u001B[43m)\u001B[49m[\u001B[38;5;124m\"\u001B[39m\u001B[38;5;124mvalue\u001B[39m\u001B[38;5;124m\"\u001B[39m]\n",
      "File \u001B[0;32m~/PycharmProjects/BasicPython/venv/lib/python3.10/site-packages/selenium/webdriver/remote/webdriver.py:344\u001B[0m, in \u001B[0;36mWebDriver.execute\u001B[0;34m(self, driver_command, params)\u001B[0m\n\u001B[1;32m    342\u001B[0m response \u001B[38;5;241m=\u001B[39m \u001B[38;5;28mself\u001B[39m\u001B[38;5;241m.\u001B[39mcommand_executor\u001B[38;5;241m.\u001B[39mexecute(driver_command, params)\n\u001B[1;32m    343\u001B[0m \u001B[38;5;28;01mif\u001B[39;00m response:\n\u001B[0;32m--> 344\u001B[0m     \u001B[38;5;28;43mself\u001B[39;49m\u001B[38;5;241;43m.\u001B[39;49m\u001B[43merror_handler\u001B[49m\u001B[38;5;241;43m.\u001B[39;49m\u001B[43mcheck_response\u001B[49m\u001B[43m(\u001B[49m\u001B[43mresponse\u001B[49m\u001B[43m)\u001B[49m\n\u001B[1;32m    345\u001B[0m     response[\u001B[38;5;124m\"\u001B[39m\u001B[38;5;124mvalue\u001B[39m\u001B[38;5;124m\"\u001B[39m] \u001B[38;5;241m=\u001B[39m \u001B[38;5;28mself\u001B[39m\u001B[38;5;241m.\u001B[39m_unwrap_value(response\u001B[38;5;241m.\u001B[39mget(\u001B[38;5;124m\"\u001B[39m\u001B[38;5;124mvalue\u001B[39m\u001B[38;5;124m\"\u001B[39m, \u001B[38;5;28;01mNone\u001B[39;00m))\n\u001B[1;32m    346\u001B[0m     \u001B[38;5;28;01mreturn\u001B[39;00m response\n",
      "File \u001B[0;32m~/PycharmProjects/BasicPython/venv/lib/python3.10/site-packages/selenium/webdriver/remote/errorhandler.py:229\u001B[0m, in \u001B[0;36mErrorHandler.check_response\u001B[0;34m(self, response)\u001B[0m\n\u001B[1;32m    227\u001B[0m         alert_text \u001B[38;5;241m=\u001B[39m value[\u001B[38;5;124m\"\u001B[39m\u001B[38;5;124malert\u001B[39m\u001B[38;5;124m\"\u001B[39m]\u001B[38;5;241m.\u001B[39mget(\u001B[38;5;124m\"\u001B[39m\u001B[38;5;124mtext\u001B[39m\u001B[38;5;124m\"\u001B[39m)\n\u001B[1;32m    228\u001B[0m     \u001B[38;5;28;01mraise\u001B[39;00m exception_class(message, screen, stacktrace, alert_text)  \u001B[38;5;66;03m# type: ignore[call-arg]  # mypy is not smart enough here\u001B[39;00m\n\u001B[0;32m--> 229\u001B[0m \u001B[38;5;28;01mraise\u001B[39;00m exception_class(message, screen, stacktrace)\n",
      "\u001B[0;31mNoSuchWindowException\u001B[0m: Message: no such window: target window already closed\nfrom unknown error: web view not found\n  (Session info: chrome=114.0.5735.198)\nStacktrace:\n#0 0x564b23dbf4e3 <unknown>\n#1 0x564b23aeec76 <unknown>\n#2 0x564b23ac8c6c <unknown>\n#3 0x564b23b4ef8f <unknown>\n#4 0x564b23b61d66 <unknown>\n#5 0x564b23b49de3 <unknown>\n#6 0x564b23b1f2dd <unknown>\n#7 0x564b23b2034e <unknown>\n#8 0x564b23d7f3e4 <unknown>\n#9 0x564b23d833d7 <unknown>\n#10 0x564b23d8db20 <unknown>\n#11 0x564b23d84023 <unknown>\n#12 0x564b23d521aa <unknown>\n#13 0x564b23da86b8 <unknown>\n#14 0x564b23da8847 <unknown>\n#15 0x564b23db8243 <unknown>\n#16 0x7f7cc6668b43 <unknown>\n"
     ]
    }
   ],
   "source": [
    "import time\n",
    "\n",
    "from selenium import webdriver\n",
    "from selenium.webdriver import Keys\n",
    "from selenium.webdriver.common.by import By\n",
    "\n",
    "url = \"https://www.daum.net/\" # 크롤링 할 url 작성\n",
    "driver = webdriver.Chrome()\n",
    "driver.get(url)\n",
    "\n",
    "login_btn = driver.find_element(\"xpath\", \"//*[@id='inner_login']/a[1]\")\n",
    "time.sleep(5.123321)\n",
    "login_btn.click()\n",
    "\n",
    "time.sleep(8.425164)\n",
    "input_id=driver.find_element(\"xpath\", \"//*[@id='loginId--1']\")\n",
    "input_id.send_keys(\"아이디 \")\n",
    "\n",
    "time.sleep(3.624153)\n",
    "input_password=driver.find_element(\"xpath\", \"//*[@id='password--2']\")\n",
    "input_password.send_keys(\"비밀번호\")\n",
    "\n",
    "time.sleep(1.753159)\n",
    "login_btn = driver.find_element(By.CSS_SELECTOR, \".confirm_btn > .submit\")\n",
    "login_btn.click()\n"
   ]
  }
 ],
 "metadata": {
  "kernelspec": {
   "display_name": "Python 3",
   "language": "python",
   "name": "python3"
  },
  "language_info": {
   "codemirror_mode": {
    "name": "ipython",
    "version": 2
   },
   "file_extension": ".py",
   "mimetype": "text/x-python",
   "name": "python",
   "nbconvert_exporter": "python",
   "pygments_lexer": "ipython2",
   "version": "2.7.6"
  }
 },
 "nbformat": 4,
 "nbformat_minor": 5
}
