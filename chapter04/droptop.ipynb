{
 "cells": [
  {
   "cell_type": "code",
   "execution_count": null,
   "id": "initial_id",
   "metadata": {
    "collapsed": true
   },
   "outputs": [],
   "source": [
    "import ssl\n",
    "import openpyxl\n",
    "from urllib.request import urlopen\n",
    "from bs4 import BeautifulSoup  # import bs4.BeautifulSoup;\n",
    "\n",
    "ssl._create_default_https_context = ssl._create_unverified_context\n",
    "wb = openpyxl.Workbook()\n",
    "results = []\n",
    "sheet1 = wb['Sheet']\n",
    "sheet1.title = '드롭탑 매장'\n",
    "\n",
    "for pageNo in range(1, 20):\n",
    "    droptop_url = f\"https://cafedroptop.com/n/kr/src/store.php?c=030101&s=store%2Fstore&dM=N&page={pageNo}\"\n",
    "    html = urlopen(droptop_url)\n",
    "\n",
    "    soup = BeautifulSoup(html, 'html.parser')  # new BeautifulSoup();\n",
    "    tbody = soup.find('tbody')\n",
    "    tr = tbody.find_all('tr')\n",
    "\n",
    "    for store in tr:\n",
    "        td = store.find_all('td')\n",
    "        a = store.find_all('a')\n",
    "\n",
    "        sheet1.append([a[0].string, td[1].string, td[2].string,td[4].string])\n",
    "\n",
    "wb.save('droptop.xlsx')"
   ]
  }
 ],
 "metadata": {
  "kernelspec": {
   "display_name": "Python 3",
   "language": "python",
   "name": "python3"
  },
  "language_info": {
   "codemirror_mode": {
    "name": "ipython",
    "version": 2
   },
   "file_extension": ".py",
   "mimetype": "text/x-python",
   "name": "python",
   "nbconvert_exporter": "python",
   "pygments_lexer": "ipython2",
   "version": "2.7.6"
  }
 },
 "nbformat": 4,
 "nbformat_minor": 5
}
