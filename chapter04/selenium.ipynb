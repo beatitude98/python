{
 "cells": [
  {
   "cell_type": "code",
   "execution_count": 8,
   "id": "initial_id",
   "metadata": {
    "collapsed": true,
    "ExecuteTime": {
     "end_time": "2023-09-15T03:36:31.451651930Z",
     "start_time": "2023-09-15T03:36:26.224701004Z"
    }
   },
   "outputs": [
    {
     "name": "stdout",
     "output_type": "stream",
     "text": [
      "주간 확진자 전주 대비 3.9% 감소, 3주 연속 감소 추세(9.6.수)\n",
      "주간 확진자 전주 대비 3.9% 감소, 3주 연속 감소 추세   - 4급전환 이후에도 양성자 감시, 하수기반 감시, 변이바이러스 분석 등 다층 감시체계를 지속 가동해 유행상황 면밀히 분석해 갈 것     - 주요 내용 -   □ 코로나19 주간 발생 동향 (8.27.~8.31.)\n",
      "중앙방역대책본부 위기소통팀\n",
      "2023.09.06\n"
     ]
    }
   ],
   "source": [
    "import time\n",
    "\n",
    "import selenium.webdriver.support.ui\n",
    "from selenium import webdriver\n",
    "\n",
    "url = \"http://ncov.kdca.go.kr/\"\n",
    "\n",
    "driver = webdriver.Chrome()\n",
    "\n",
    "driver.get(url)\n",
    "\n",
    "topnews = driver.find_element('xpath','//*[@id=\"content\"]/div[2]/div/section/div[2]/ul/li[1]/a')\n",
    "\n",
    "print(topnews.text)\n",
    "time.sleep(3)\n",
    "\n",
    "topnews.click()"
   ]
  },
  {
   "cell_type": "code",
   "execution_count": 11,
   "outputs": [
    {
     "ename": "ElementNotInteractableException",
     "evalue": "Message: element not interactable\n  (Session info: chrome=114.0.5735.198)\nStacktrace:\n#0 0x5621dd94b4e3 <unknown>\n#1 0x5621dd67ab00 <unknown>\n#2 0x5621dd6b152c <unknown>\n#3 0x5621dd6b0b0a <unknown>\n#4 0x5621dd6d6012 <unknown>\n#5 0x5621dd6acb03 <unknown>\n#6 0x5621dd6d61de <unknown>\n#7 0x5621dd6ee30e <unknown>\n#8 0x5621dd6d5de3 <unknown>\n#9 0x5621dd6ab2dd <unknown>\n#10 0x5621dd6ac34e <unknown>\n#11 0x5621dd90b3e4 <unknown>\n#12 0x5621dd90f3d7 <unknown>\n#13 0x5621dd919b20 <unknown>\n#14 0x5621dd910023 <unknown>\n#15 0x5621dd8de1aa <unknown>\n#16 0x5621dd9346b8 <unknown>\n#17 0x5621dd934847 <unknown>\n#18 0x5621dd944243 <unknown>\n#19 0x7fd44abdeb43 <unknown>\n",
     "output_type": "error",
     "traceback": [
      "\u001B[0;31m---------------------------------------------------------------------------\u001B[0m",
      "\u001B[0;31mElementNotInteractableException\u001B[0m           Traceback (most recent call last)",
      "Cell \u001B[0;32mIn[11], line 20\u001B[0m\n\u001B[1;32m     17\u001B[0m search_btn\u001B[38;5;241m.\u001B[39mclick()\n\u001B[1;32m     19\u001B[0m search_box \u001B[38;5;241m=\u001B[39m driver\u001B[38;5;241m.\u001B[39mfind_element(\u001B[38;5;124m'\u001B[39m\u001B[38;5;124mxpath\u001B[39m\u001B[38;5;124m'\u001B[39m,\u001B[38;5;124m'\u001B[39m\u001B[38;5;124m//*[@id=\u001B[39m\u001B[38;5;124m\"\u001B[39m\u001B[38;5;124msearchTermMobile123\u001B[39m\u001B[38;5;124m\"\u001B[39m\u001B[38;5;124m]\u001B[39m\u001B[38;5;124m'\u001B[39m)\n\u001B[0;32m---> 20\u001B[0m \u001B[43msearch_box\u001B[49m\u001B[38;5;241;43m.\u001B[39;49m\u001B[43msend_keys\u001B[49m\u001B[43m(\u001B[49m\u001B[38;5;124;43m'\u001B[39;49m\u001B[38;5;124;43m대전\u001B[39;49m\u001B[38;5;124;43m'\u001B[39;49m\u001B[43m)\u001B[49m\n\u001B[1;32m     21\u001B[0m time\u001B[38;5;241m.\u001B[39msleep(\u001B[38;5;241m1\u001B[39m)\n\u001B[1;32m     22\u001B[0m search_box\u001B[38;5;241m.\u001B[39msend_keys(Keys\u001B[38;5;241m.\u001B[39mENTER)\n",
      "File \u001B[0;32m~/PycharmProjects/BasicPython/venv/lib/python3.10/site-packages/selenium/webdriver/remote/webelement.py:230\u001B[0m, in \u001B[0;36mWebElement.send_keys\u001B[0;34m(self, *value)\u001B[0m\n\u001B[1;32m    227\u001B[0m             remote_files\u001B[38;5;241m.\u001B[39mappend(\u001B[38;5;28mself\u001B[39m\u001B[38;5;241m.\u001B[39m_upload(file))\n\u001B[1;32m    228\u001B[0m         value \u001B[38;5;241m=\u001B[39m \u001B[38;5;124m\"\u001B[39m\u001B[38;5;130;01m\\n\u001B[39;00m\u001B[38;5;124m\"\u001B[39m\u001B[38;5;241m.\u001B[39mjoin(remote_files)\n\u001B[0;32m--> 230\u001B[0m \u001B[38;5;28;43mself\u001B[39;49m\u001B[38;5;241;43m.\u001B[39;49m\u001B[43m_execute\u001B[49m\u001B[43m(\u001B[49m\n\u001B[1;32m    231\u001B[0m \u001B[43m    \u001B[49m\u001B[43mCommand\u001B[49m\u001B[38;5;241;43m.\u001B[39;49m\u001B[43mSEND_KEYS_TO_ELEMENT\u001B[49m\u001B[43m,\u001B[49m\u001B[43m \u001B[49m\u001B[43m{\u001B[49m\u001B[38;5;124;43m\"\u001B[39;49m\u001B[38;5;124;43mtext\u001B[39;49m\u001B[38;5;124;43m\"\u001B[39;49m\u001B[43m:\u001B[49m\u001B[43m \u001B[49m\u001B[38;5;124;43m\"\u001B[39;49m\u001B[38;5;124;43m\"\u001B[39;49m\u001B[38;5;241;43m.\u001B[39;49m\u001B[43mjoin\u001B[49m\u001B[43m(\u001B[49m\u001B[43mkeys_to_typing\u001B[49m\u001B[43m(\u001B[49m\u001B[43mvalue\u001B[49m\u001B[43m)\u001B[49m\u001B[43m)\u001B[49m\u001B[43m,\u001B[49m\u001B[43m \u001B[49m\u001B[38;5;124;43m\"\u001B[39;49m\u001B[38;5;124;43mvalue\u001B[39;49m\u001B[38;5;124;43m\"\u001B[39;49m\u001B[43m:\u001B[49m\u001B[43m \u001B[49m\u001B[43mkeys_to_typing\u001B[49m\u001B[43m(\u001B[49m\u001B[43mvalue\u001B[49m\u001B[43m)\u001B[49m\u001B[43m}\u001B[49m\n\u001B[1;32m    232\u001B[0m \u001B[43m\u001B[49m\u001B[43m)\u001B[49m\n",
      "File \u001B[0;32m~/PycharmProjects/BasicPython/venv/lib/python3.10/site-packages/selenium/webdriver/remote/webelement.py:394\u001B[0m, in \u001B[0;36mWebElement._execute\u001B[0;34m(self, command, params)\u001B[0m\n\u001B[1;32m    392\u001B[0m     params \u001B[38;5;241m=\u001B[39m {}\n\u001B[1;32m    393\u001B[0m params[\u001B[38;5;124m\"\u001B[39m\u001B[38;5;124mid\u001B[39m\u001B[38;5;124m\"\u001B[39m] \u001B[38;5;241m=\u001B[39m \u001B[38;5;28mself\u001B[39m\u001B[38;5;241m.\u001B[39m_id\n\u001B[0;32m--> 394\u001B[0m \u001B[38;5;28;01mreturn\u001B[39;00m \u001B[38;5;28;43mself\u001B[39;49m\u001B[38;5;241;43m.\u001B[39;49m\u001B[43m_parent\u001B[49m\u001B[38;5;241;43m.\u001B[39;49m\u001B[43mexecute\u001B[49m\u001B[43m(\u001B[49m\u001B[43mcommand\u001B[49m\u001B[43m,\u001B[49m\u001B[43m \u001B[49m\u001B[43mparams\u001B[49m\u001B[43m)\u001B[49m\n",
      "File \u001B[0;32m~/PycharmProjects/BasicPython/venv/lib/python3.10/site-packages/selenium/webdriver/remote/webdriver.py:344\u001B[0m, in \u001B[0;36mWebDriver.execute\u001B[0;34m(self, driver_command, params)\u001B[0m\n\u001B[1;32m    342\u001B[0m response \u001B[38;5;241m=\u001B[39m \u001B[38;5;28mself\u001B[39m\u001B[38;5;241m.\u001B[39mcommand_executor\u001B[38;5;241m.\u001B[39mexecute(driver_command, params)\n\u001B[1;32m    343\u001B[0m \u001B[38;5;28;01mif\u001B[39;00m response:\n\u001B[0;32m--> 344\u001B[0m     \u001B[38;5;28;43mself\u001B[39;49m\u001B[38;5;241;43m.\u001B[39;49m\u001B[43merror_handler\u001B[49m\u001B[38;5;241;43m.\u001B[39;49m\u001B[43mcheck_response\u001B[49m\u001B[43m(\u001B[49m\u001B[43mresponse\u001B[49m\u001B[43m)\u001B[49m\n\u001B[1;32m    345\u001B[0m     response[\u001B[38;5;124m\"\u001B[39m\u001B[38;5;124mvalue\u001B[39m\u001B[38;5;124m\"\u001B[39m] \u001B[38;5;241m=\u001B[39m \u001B[38;5;28mself\u001B[39m\u001B[38;5;241m.\u001B[39m_unwrap_value(response\u001B[38;5;241m.\u001B[39mget(\u001B[38;5;124m\"\u001B[39m\u001B[38;5;124mvalue\u001B[39m\u001B[38;5;124m\"\u001B[39m, \u001B[38;5;28;01mNone\u001B[39;00m))\n\u001B[1;32m    346\u001B[0m     \u001B[38;5;28;01mreturn\u001B[39;00m response\n",
      "File \u001B[0;32m~/PycharmProjects/BasicPython/venv/lib/python3.10/site-packages/selenium/webdriver/remote/errorhandler.py:229\u001B[0m, in \u001B[0;36mErrorHandler.check_response\u001B[0;34m(self, response)\u001B[0m\n\u001B[1;32m    227\u001B[0m         alert_text \u001B[38;5;241m=\u001B[39m value[\u001B[38;5;124m\"\u001B[39m\u001B[38;5;124malert\u001B[39m\u001B[38;5;124m\"\u001B[39m]\u001B[38;5;241m.\u001B[39mget(\u001B[38;5;124m\"\u001B[39m\u001B[38;5;124mtext\u001B[39m\u001B[38;5;124m\"\u001B[39m)\n\u001B[1;32m    228\u001B[0m     \u001B[38;5;28;01mraise\u001B[39;00m exception_class(message, screen, stacktrace, alert_text)  \u001B[38;5;66;03m# type: ignore[call-arg]  # mypy is not smart enough here\u001B[39;00m\n\u001B[0;32m--> 229\u001B[0m \u001B[38;5;28;01mraise\u001B[39;00m exception_class(message, screen, stacktrace)\n",
      "\u001B[0;31mElementNotInteractableException\u001B[0m: Message: element not interactable\n  (Session info: chrome=114.0.5735.198)\nStacktrace:\n#0 0x5621dd94b4e3 <unknown>\n#1 0x5621dd67ab00 <unknown>\n#2 0x5621dd6b152c <unknown>\n#3 0x5621dd6b0b0a <unknown>\n#4 0x5621dd6d6012 <unknown>\n#5 0x5621dd6acb03 <unknown>\n#6 0x5621dd6d61de <unknown>\n#7 0x5621dd6ee30e <unknown>\n#8 0x5621dd6d5de3 <unknown>\n#9 0x5621dd6ab2dd <unknown>\n#10 0x5621dd6ac34e <unknown>\n#11 0x5621dd90b3e4 <unknown>\n#12 0x5621dd90f3d7 <unknown>\n#13 0x5621dd919b20 <unknown>\n#14 0x5621dd910023 <unknown>\n#15 0x5621dd8de1aa <unknown>\n#16 0x5621dd9346b8 <unknown>\n#17 0x5621dd934847 <unknown>\n#18 0x5621dd944243 <unknown>\n#19 0x7fd44abdeb43 <unknown>\n"
     ]
    }
   ],
   "source": [
    "import time\n",
    "\n",
    "import selenium.webdriver.support.ui\n",
    "from selenium import webdriver\n",
    "\n",
    "url = \"http://ncov.kdca.go.kr/\"\n",
    "\n",
    "driver = webdriver.Chrome()\n",
    "\n",
    "driver.get(url)\n",
    "from selenium.webdriver import Keys\n",
    "\n",
    "search_btn = driver.find_element('xpath','//*[@id=\"header\"]/div/div[2]/a[1]' )\n",
    "\n",
    "time.sleep(2)\n",
    "\n",
    "search_btn.click()\n",
    "\n",
    "search_box = driver.find_element('xpath','//*[@id=\"searchTermMobile123\"]')\n",
    "search_box.send_keys('대전')\n",
    "time.sleep(1)\n",
    "search_box.send_keys(Keys.ENTER)"
   ],
   "metadata": {
    "collapsed": false,
    "ExecuteTime": {
     "end_time": "2023-09-15T03:48:52.422966465Z",
     "start_time": "2023-09-15T03:48:48.180786898Z"
    }
   },
   "id": "948ec92c4492443c"
  },
  {
   "cell_type": "code",
   "execution_count": null,
   "outputs": [],
   "source": [],
   "metadata": {
    "collapsed": false
   },
   "id": "39f0db0d7f0df416"
  }
 ],
 "metadata": {
  "kernelspec": {
   "display_name": "Python 3",
   "language": "python",
   "name": "python3"
  },
  "language_info": {
   "codemirror_mode": {
    "name": "ipython",
    "version": 2
   },
   "file_extension": ".py",
   "mimetype": "text/x-python",
   "name": "python",
   "nbconvert_exporter": "python",
   "pygments_lexer": "ipython2",
   "version": "2.7.6"
  }
 },
 "nbformat": 4,
 "nbformat_minor": 5
}
